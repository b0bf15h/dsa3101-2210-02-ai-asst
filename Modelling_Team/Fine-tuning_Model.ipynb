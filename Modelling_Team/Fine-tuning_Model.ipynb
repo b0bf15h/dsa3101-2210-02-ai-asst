{
 "cells": [
  {
   "cell_type": "code",
   "execution_count": 1,
   "id": "91136e85",
   "metadata": {},
   "outputs": [],
   "source": [
    "import logging\n",
    "\n",
    "logging.basicConfig(format=\"%(levelname)s - %(name)s -  %(message)s\", level=logging.WARNING)\n",
    "logging.getLogger(\"haystack\").setLevel(logging.INFO)"
   ]
  },
  {
   "cell_type": "markdown",
   "id": "1edbce3a",
   "metadata": {},
   "source": [
    "Convert and clean pdfs to documents for labelling thru online UI"
   ]
  },
  {
   "cell_type": "code",
   "execution_count": 14,
   "id": "03bc68b2",
   "metadata": {},
   "outputs": [
    {
     "name": "stderr",
     "output_type": "stream",
     "text": [
      "INFO - haystack.utils.preprocessing -  Converting Annotation\\Data\\1-s2.0-S1553838920300099-main.pdf\n",
      "INFO - haystack.utils.preprocessing -  Converting Annotation\\Data\\10.1177_0300060517717826.pdf\n",
      "INFO - haystack.utils.preprocessing -  Converting Annotation\\Data\\Indications, Safety, and Warnings - Resolute Onyx DES _ Medtronic.pdf\n",
      "INFO - haystack.utils.preprocessing -  Converting Annotation\\Data\\Orsirostent.pdf\n",
      "INFO - haystack.utils.preprocessing -  Converting Annotation\\Data\\Resolute Onyx DES - Coronary Stents _ Medtronic.pdf\n",
      "INFO - haystack.utils.preprocessing -  Converting Annotation\\Data\\ResoluteOnyxcoretrial.pdf\n"
     ]
    }
   ],
   "source": [
    "from haystack.utils import convert_files_to_docs\n",
    "from haystack.nodes import PreProcessor\n",
    "\n",
    "doc_dir = \"Annotation/Data\"\n",
    "\n",
    "all_docs = convert_files_to_docs(dir_path=doc_dir, clean_func = lambda x:x.replace(\"\\n\",\" \"), split_paragraphs=True)"
   ]
  },
  {
   "cell_type": "code",
   "execution_count": 15,
   "id": "b6953d3e",
   "metadata": {},
   "outputs": [],
   "source": [
    "for doc in all_docs:\n",
    "    with open(\"Annotation/Documents/\" + doc.meta[\"name\"].replace(\".pdf\", \".txt\"), 'w', encoding = 'utf-8') as f:\n",
    "        f.write(doc.content)"
   ]
  },
  {
   "cell_type": "code",
   "execution_count": null,
   "id": "ff267196",
   "metadata": {},
   "outputs": [],
   "source": []
  }
 ],
 "metadata": {
  "kernelspec": {
   "display_name": "Python 3 (ipykernel)",
   "language": "python",
   "name": "python3"
  },
  "language_info": {
   "codemirror_mode": {
    "name": "ipython",
    "version": 3
   },
   "file_extension": ".py",
   "mimetype": "text/x-python",
   "name": "python",
   "nbconvert_exporter": "python",
   "pygments_lexer": "ipython3",
   "version": "3.9.12"
  }
 },
 "nbformat": 4,
 "nbformat_minor": 5
}

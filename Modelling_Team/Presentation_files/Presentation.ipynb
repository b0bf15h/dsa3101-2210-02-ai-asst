{
  "cells": [
    {
      "cell_type": "raw",
      "metadata": {},
      "source": [
        "---\n",
        "title: Question Answering Model\n",
        "author: Low Junwei - Hari Shiman R - Tyro Soh - B. Nishanth\n",
        "format:\n",
        "  revealjs:\n",
        "    slide-number: c/t\n",
        "    width: 1600\n",
        "    height: 900\n",
        "    logo: 'https://logos-download.com/wp-content/uploads/2016/12/National_University_of_Singapore_logo_NUS.png'\n",
        "    footer: '[AI-Assistant-Modelling]()'\n",
        "    css:\n",
        "      - theme/theme.css\n",
        "    theme: simple\n",
        "    echo: true\n",
        "    transition: slide\n",
        "    incremental: true\n",
        "    editor: visual\n",
        "---"
      ],
      "id": "da6f6ed5"
    },
    {
      "cell_type": "markdown",
      "metadata": {},
      "source": [
        "## Outline\n",
        "\n",
        "-   Project Review\n",
        "\n",
        "-   The Question Answering Model !\n",
        "\n",
        "-   Model Limitations and Improvements\n",
        "\n",
        "## What is the aim of our work?\n",
        "\n",
        "-   Smart tool to ease your workflow\n",
        "\n",
        "-   **Accurate** & **Efficient** retrieval of information scientific documents\n",
        "\n",
        "## How does the model work?\n",
        "\n",
        "-   Input a question and it provides answers\n",
        "-   Intelligently sourced from data we gathered\n",
        "\n",
        "## What data did we use?\n",
        "\n",
        "::: columns\n",
        "::: {.column width=\"50%\"}\n",
        "::: fragment\n",
        "-   Research papers\n",
        "-   Journals\n",
        "-   Leaflets\n",
        ":::\n",
        ":::\n",
        "\n",
        "::: {.column width=\"50%\"}\n",
        "::: fragment\n",
        "-   Watchman\n",
        "-   Atriclip\n",
        "-   Lariat\n",
        ":::\n",
        ":::\n",
        ":::\n",
        "\n",
        "------------------------------------------------------------------------\n",
        "\n",
        "## API Demo\n"
      ],
      "id": "a43e3ffb"
    },
    {
      "cell_type": "code",
      "metadata": {},
      "source": [
        "import requests\n",
        "\n",
        "def test_api(question, device):\n",
        "\n",
        "    URL = \"http://localhost:5000/prediction\"\n",
        "\n",
        "    #question = \"What is the dimension of the Watchman device\"\n",
        "    #device = \"Watchman\"\n",
        "    \n",
        "    # defining a params dict for the parameters to be sent to the API\n",
        "    PARAMS = {'question':question, \"device\":device}\n",
        "    \n",
        "    # sending get request and saving the response as response object\n",
        "    r = requests.get(url = URL, params = PARAMS)\n",
        "    \n",
        "    # extracting data in json format\n",
        "    data = r.json()\n",
        "    \n",
        "    \n",
        "    return data"
      ],
      "id": "0d074118",
      "execution_count": null,
      "outputs": []
    },
    {
      "cell_type": "markdown",
      "metadata": {},
      "source": [
        "## API Demo Query 1\n"
      ],
      "id": "44ed15ee"
    },
    {
      "cell_type": "code",
      "metadata": {},
      "source": [
        "test_api(\"What is the dimension of the Watchman device\", \"Watchman\")"
      ],
      "id": "01ec7694",
      "execution_count": null,
      "outputs": []
    },
    {
      "cell_type": "markdown",
      "metadata": {},
      "source": [
        "## API Demo Query 2\n"
      ],
      "id": "b21a7875"
    },
    {
      "cell_type": "code",
      "metadata": {},
      "source": [
        "test_api(\"What are the intended use for this device\", \"Watchman\")"
      ],
      "id": "165768a0",
      "execution_count": null,
      "outputs": []
    },
    {
      "cell_type": "markdown",
      "metadata": {},
      "source": [
        "## API Demo Query 3\n"
      ],
      "id": "979a9112"
    },
    {
      "cell_type": "code",
      "metadata": {},
      "source": [
        "test_api(\"What are the intended use for this device\", \"Atriclip\")"
      ],
      "id": "9d30091d",
      "execution_count": null,
      "outputs": []
    },
    {
      "cell_type": "markdown",
      "metadata": {},
      "source": [
        "## Any Limitations?\n",
        "\n",
        "-   Fixed Database"
      ],
      "id": "d83cc577"
    }
  ],
  "metadata": {
    "kernelspec": {
      "name": "python3",
      "language": "python",
      "display_name": "Python 3 (ipykernel)"
    }
  },
  "nbformat": 4,
  "nbformat_minor": 5
}
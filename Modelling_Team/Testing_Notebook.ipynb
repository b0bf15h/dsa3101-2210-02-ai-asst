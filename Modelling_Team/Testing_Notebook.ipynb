{
 "cells": [
  {
   "cell_type": "code",
   "execution_count": 1,
   "id": "3f038cbe",
   "metadata": {},
   "outputs": [
    {
     "name": "stdout",
     "output_type": "stream",
     "text": [
      "Looking in links: https://download.pytorch.org/whl/torch_stable.html\n",
      "Collecting farm-haystack\n",
      "  Using cached farm_haystack-1.9.1-py3-none-any.whl (733 kB)\n",
      "Collecting elasticsearch<7.11,>=7.7\n",
      "  Using cached elasticsearch-7.10.1-py2.py3-none-any.whl (322 kB)\n",
      "Requirement already satisfied: networkx in c:\\users\\lowju\\anaconda3\\envs\\ai-assistant-env\\lib\\site-packages (from farm-haystack) (2.7.1)\n",
      "Collecting more-itertools\n",
      "  Using cached more_itertools-8.14.0-py3-none-any.whl (52 kB)\n",
      "Collecting mmh3\n",
      "  Downloading mmh3-3.0.0-cp39-cp39-win_amd64.whl (15 kB)\n",
      "Collecting dill\n",
      "  Using cached dill-0.3.5.1-py2.py3-none-any.whl (95 kB)\n",
      "Collecting rapidfuzz<2.8.0,>=2.0.15\n",
      "  Downloading rapidfuzz-2.7.0-cp39-cp39-win_amd64.whl (1.2 MB)\n",
      "Collecting python-docx\n",
      "  Using cached python-docx-0.8.11.tar.gz (5.6 MB)\n",
      "Collecting pydantic\n",
      "  Downloading pydantic-1.10.2-cp39-cp39-win_amd64.whl (2.1 MB)\n",
      "Collecting tika\n",
      "  Using cached tika-1.24.tar.gz (28 kB)\n",
      "Requirement already satisfied: nltk in c:\\users\\lowju\\anaconda3\\envs\\ai-assistant-env\\lib\\site-packages (from farm-haystack) (3.7)\n",
      "Collecting quantulum3\n",
      "  Using cached quantulum3-0.7.10-py3-none-any.whl (10.7 MB)\n",
      "Collecting elastic-apm\n",
      "  Using cached elastic-apm-6.12.0.tar.gz (174 kB)\n",
      "  Installing build dependencies: started\n",
      "  Installing build dependencies: finished with status 'done'\n",
      "  Getting requirements to build wheel: started\n",
      "  Getting requirements to build wheel: finished with status 'done'\n",
      "    Preparing wheel metadata: started\n",
      "    Preparing wheel metadata: finished with status 'done'\n",
      "Requirement already satisfied: pandas in c:\\users\\lowju\\anaconda3\\envs\\ai-assistant-env\\lib\\site-packages (from farm-haystack) (1.4.2)\n",
      "Requirement already satisfied: jsonschema in c:\\users\\lowju\\anaconda3\\envs\\ai-assistant-env\\lib\\site-packages (from farm-haystack) (4.4.0)\n",
      "Collecting mlflow\n",
      "  Using cached mlflow-1.29.0-py3-none-any.whl (16.9 MB)\n",
      "Collecting seqeval\n",
      "  Using cached seqeval-1.2.2.tar.gz (43 kB)\n",
      "Requirement already satisfied: scikit-learn>=1.0.0 in c:\\users\\lowju\\anaconda3\\envs\\ai-assistant-env\\lib\\site-packages (from farm-haystack) (1.0.2)\n",
      "Requirement already satisfied: requests in c:\\users\\lowju\\anaconda3\\envs\\ai-assistant-env\\lib\\site-packages (from farm-haystack) (2.27.1)\n",
      "Requirement already satisfied: scipy>=1.3.2 in c:\\users\\lowju\\anaconda3\\envs\\ai-assistant-env\\lib\\site-packages (from farm-haystack) (1.7.3)\n",
      "Collecting torch<1.13,>1.9\n",
      "  Downloading https://download.pytorch.org/whl/cu116/torch-1.12.1%2Bcu116-cp39-cp39-win_amd64.whl (2388.0 MB)\n",
      "Collecting langdetect\n",
      "  Using cached langdetect-1.0.9.tar.gz (981 kB)\n",
      "Collecting sentence-transformers>=2.2.0\n",
      "  Using cached sentence-transformers-2.2.2.tar.gz (85 kB)\n",
      "Collecting huggingface-hub>=0.5.0\n",
      "  Using cached huggingface_hub-0.10.1-py3-none-any.whl (163 kB)\n",
      "Collecting posthog\n",
      "  Using cached posthog-2.1.2-py2.py3-none-any.whl (32 kB)\n",
      "Collecting transformers==4.21.2\n",
      "  Using cached transformers-4.21.2-py3-none-any.whl (4.7 MB)\n",
      "Requirement already satisfied: tqdm in c:\\users\\lowju\\anaconda3\\envs\\ai-assistant-env\\lib\\site-packages (from farm-haystack) (4.64.0)\n",
      "Collecting azure-ai-formrecognizer>=3.2.0b2\n",
      "  Using cached azure_ai_formrecognizer-3.2.0-py3-none-any.whl (228 kB)\n",
      "Requirement already satisfied: filelock in c:\\users\\lowju\\anaconda3\\envs\\ai-assistant-env\\lib\\site-packages (from transformers==4.21.2->farm-haystack) (3.6.0)\n",
      "Requirement already satisfied: numpy>=1.17 in c:\\users\\lowju\\anaconda3\\envs\\ai-assistant-env\\lib\\site-packages (from transformers==4.21.2->farm-haystack) (1.21.5)\n",
      "Requirement already satisfied: pyyaml>=5.1 in c:\\users\\lowju\\anaconda3\\envs\\ai-assistant-env\\lib\\site-packages (from transformers==4.21.2->farm-haystack) (6.0)\n",
      "Requirement already satisfied: packaging>=20.0 in c:\\users\\lowju\\anaconda3\\envs\\ai-assistant-env\\lib\\site-packages (from transformers==4.21.2->farm-haystack) (21.3)\n",
      "Requirement already satisfied: regex!=2019.12.17 in c:\\users\\lowju\\anaconda3\\envs\\ai-assistant-env\\lib\\site-packages (from transformers==4.21.2->farm-haystack) (2022.3.15)\n",
      "Collecting tokenizers!=0.11.3,<0.13,>=0.11.1\n",
      "  Downloading tokenizers-0.12.1-cp39-cp39-win_amd64.whl (3.3 MB)\n",
      "Requirement already satisfied: typing-extensions>=4.0.1 in c:\\users\\lowju\\anaconda3\\envs\\ai-assistant-env\\lib\\site-packages (from azure-ai-formrecognizer>=3.2.0b2->farm-haystack) (4.1.1)\n",
      "Collecting msrest>=0.6.21\n",
      "  Using cached msrest-0.7.1-py3-none-any.whl (85 kB)\n",
      "Collecting azure-common~=1.1\n",
      "  Using cached azure_common-1.1.28-py2.py3-none-any.whl (14 kB)\n",
      "Collecting azure-core<2.0.0,>=1.23.0\n",
      "  Using cached azure_core-1.26.0-py3-none-any.whl (178 kB)\n",
      "Requirement already satisfied: six>=1.11.0 in c:\\users\\lowju\\anaconda3\\envs\\ai-assistant-env\\lib\\site-packages (from azure-core<2.0.0,>=1.23.0->azure-ai-formrecognizer>=3.2.0b2->farm-haystack) (1.16.0)\n",
      "Requirement already satisfied: urllib3<2,>=1.21.1 in c:\\users\\lowju\\anaconda3\\envs\\ai-assistant-env\\lib\\site-packages (from elasticsearch<7.11,>=7.7->farm-haystack) (1.26.9)\n",
      "Requirement already satisfied: certifi in c:\\users\\lowju\\anaconda3\\envs\\ai-assistant-env\\lib\\site-packages (from elasticsearch<7.11,>=7.7->farm-haystack) (2021.10.8)\n",
      "Collecting isodate>=0.6.0\n",
      "  Using cached isodate-0.6.1-py2.py3-none-any.whl (41 kB)\n",
      "Collecting requests-oauthlib>=0.5.0\n",
      "  Using cached requests_oauthlib-1.3.1-py2.py3-none-any.whl (23 kB)\n",
      "Requirement already satisfied: pyparsing!=3.0.5,>=2.0.2 in c:\\users\\lowju\\anaconda3\\envs\\ai-assistant-env\\lib\\site-packages (from packaging>=20.0->transformers==4.21.2->farm-haystack) (3.0.4)\n",
      "Collecting jarowinkler<2.0.0,>=1.2.0\n",
      "  Downloading jarowinkler-1.2.3-cp39-cp39-win_amd64.whl (61 kB)\n",
      "Requirement already satisfied: charset-normalizer~=2.0.0 in c:\\users\\lowju\\anaconda3\\envs\\ai-assistant-env\\lib\\site-packages (from requests->farm-haystack) (2.0.4)\n",
      "Requirement already satisfied: idna<4,>=2.5 in c:\\users\\lowju\\anaconda3\\envs\\ai-assistant-env\\lib\\site-packages (from requests->farm-haystack) (3.3)\n",
      "Collecting oauthlib>=3.0.0\n",
      "  Using cached oauthlib-3.2.1-py3-none-any.whl (151 kB)\n",
      "Requirement already satisfied: joblib>=0.11 in c:\\users\\lowju\\anaconda3\\envs\\ai-assistant-env\\lib\\site-packages (from scikit-learn>=1.0.0->farm-haystack) (1.1.0)\n",
      "Requirement already satisfied: threadpoolctl>=2.0.0 in c:\\users\\lowju\\anaconda3\\envs\\ai-assistant-env\\lib\\site-packages (from scikit-learn>=1.0.0->farm-haystack) (2.2.0)\n",
      "Collecting torchvision\n",
      "  Downloading https://download.pytorch.org/whl/cu116/torchvision-0.13.1%2Bcu116-cp39-cp39-win_amd64.whl (2.6 MB)\n",
      "Collecting sentencepiece\n",
      "  Downloading sentencepiece-0.1.97-cp39-cp39-win_amd64.whl (1.1 MB)\n",
      "Requirement already satisfied: colorama in c:\\users\\lowju\\anaconda3\\envs\\ai-assistant-env\\lib\\site-packages (from tqdm->farm-haystack) (0.4.4)\n",
      "Requirement already satisfied: pyrsistent!=0.17.0,!=0.17.1,!=0.17.2,>=0.14.0 in c:\\users\\lowju\\anaconda3\\envs\\ai-assistant-env\\lib\\site-packages (from jsonschema->farm-haystack) (0.18.0)\n",
      "Requirement already satisfied: attrs>=17.4.0 in c:\\users\\lowju\\anaconda3\\envs\\ai-assistant-env\\lib\\site-packages (from jsonschema->farm-haystack) (21.4.0)\n",
      "Requirement already satisfied: cloudpickle<3 in c:\\users\\lowju\\anaconda3\\envs\\ai-assistant-env\\lib\\site-packages (from mlflow->farm-haystack) (2.0.0)\n",
      "Requirement already satisfied: click<9,>=7.0 in c:\\users\\lowju\\anaconda3\\envs\\ai-assistant-env\\lib\\site-packages (from mlflow->farm-haystack) (8.0.4)\n",
      "Collecting waitress<3\n",
      "  Using cached waitress-2.1.2-py3-none-any.whl (57 kB)\n",
      "Requirement already satisfied: protobuf<5,>=3.12.0 in c:\\users\\lowju\\anaconda3\\envs\\ai-assistant-env\\lib\\site-packages (from mlflow->farm-haystack) (3.19.1)\n",
      "Requirement already satisfied: Flask<3 in c:\\users\\lowju\\anaconda3\\envs\\ai-assistant-env\\lib\\site-packages (from mlflow->farm-haystack) (1.1.2)\n",
      "Collecting gitpython<4,>=2.1.0\n",
      "  Using cached GitPython-3.1.29-py3-none-any.whl (182 kB)\n",
      "Requirement already satisfied: importlib-metadata!=4.7.0,<5,>=3.7.0 in c:\\users\\lowju\\anaconda3\\envs\\ai-assistant-env\\lib\\site-packages (from mlflow->farm-haystack) (4.11.3)\n",
      "Collecting prometheus-flask-exporter<1\n",
      "  Using cached prometheus_flask_exporter-0.20.3-py3-none-any.whl (18 kB)\n",
      "Collecting querystring-parser<2\n",
      "  Using cached querystring_parser-1.2.4-py2.py3-none-any.whl (7.9 kB)\n",
      "Requirement already satisfied: pytz<2023 in c:\\users\\lowju\\anaconda3\\envs\\ai-assistant-env\\lib\\site-packages (from mlflow->farm-haystack) (2021.3)\n",
      "Collecting sqlparse<1,>=0.4.0\n",
      "  Using cached sqlparse-0.4.3-py3-none-any.whl (42 kB)\n",
      "Collecting docker<7,>=4.0.0\n",
      "  Using cached docker-6.0.0-py3-none-any.whl (147 kB)\n",
      "Requirement already satisfied: sqlalchemy<2,>=1.4.0 in c:\\users\\lowju\\anaconda3\\envs\\ai-assistant-env\\lib\\site-packages (from mlflow->farm-haystack) (1.4.32)\n",
      "Collecting databricks-cli<1,>=0.8.7\n",
      "  Using cached databricks-cli-0.17.3.tar.gz (77 kB)\n",
      "Requirement already satisfied: entrypoints<1 in c:\\users\\lowju\\anaconda3\\envs\\ai-assistant-env\\lib\\site-packages (from mlflow->farm-haystack) (0.4)\n",
      "Collecting alembic<2\n",
      "  Using cached alembic-1.8.1-py3-none-any.whl (209 kB)\n",
      "Collecting Mako\n",
      "  Using cached Mako-1.2.3-py3-none-any.whl (78 kB)\n",
      "Collecting pyjwt>=1.7.0\n",
      "  Using cached PyJWT-2.5.0-py3-none-any.whl (20 kB)\n",
      "Requirement already satisfied: tabulate>=0.7.7 in c:\\users\\lowju\\anaconda3\\envs\\ai-assistant-env\\lib\\site-packages (from databricks-cli<1,>=0.8.7->mlflow->farm-haystack) (0.8.9)\n",
      "Requirement already satisfied: websocket-client>=0.32.0 in c:\\users\\lowju\\anaconda3\\envs\\ai-assistant-env\\lib\\site-packages (from docker<7,>=4.0.0->mlflow->farm-haystack) (0.58.0)\n",
      "Collecting pywin32>=304\n",
      "  Downloading pywin32-304-cp39-cp39-win_amd64.whl (12.2 MB)\n",
      "Requirement already satisfied: itsdangerous>=0.24 in c:\\users\\lowju\\anaconda3\\envs\\ai-assistant-env\\lib\\site-packages (from Flask<3->mlflow->farm-haystack) (2.0.1)\n",
      "Requirement already satisfied: Werkzeug>=0.15 in c:\\users\\lowju\\anaconda3\\envs\\ai-assistant-env\\lib\\site-packages (from Flask<3->mlflow->farm-haystack) (2.0.3)\n",
      "Requirement already satisfied: Jinja2>=2.10.1 in c:\\users\\lowju\\anaconda3\\envs\\ai-assistant-env\\lib\\site-packages (from Flask<3->mlflow->farm-haystack) (2.11.3)\n",
      "Collecting gitdb<5,>=4.0.1\n",
      "  Using cached gitdb-4.0.9-py3-none-any.whl (63 kB)\n",
      "Collecting smmap<6,>=3.0.1\n",
      "  Using cached smmap-5.0.0-py3-none-any.whl (24 kB)\n",
      "Requirement already satisfied: zipp>=0.5 in c:\\users\\lowju\\anaconda3\\envs\\ai-assistant-env\\lib\\site-packages (from importlib-metadata!=4.7.0,<5,>=3.7.0->mlflow->farm-haystack) (3.7.0)\n",
      "Requirement already satisfied: MarkupSafe>=0.23 in c:\\users\\lowju\\anaconda3\\envs\\ai-assistant-env\\lib\\site-packages (from Jinja2>=2.10.1->Flask<3->mlflow->farm-haystack) (2.0.1)\n",
      "Requirement already satisfied: python-dateutil>=2.8.1 in c:\\users\\lowju\\anaconda3\\envs\\ai-assistant-env\\lib\\site-packages (from pandas->farm-haystack) (2.8.2)\n",
      "Requirement already satisfied: prometheus-client in c:\\users\\lowju\\anaconda3\\envs\\ai-assistant-env\\lib\\site-packages (from prometheus-flask-exporter<1->mlflow->farm-haystack) (0.13.1)\n",
      "Requirement already satisfied: greenlet!=0.4.17 in c:\\users\\lowju\\anaconda3\\envs\\ai-assistant-env\\lib\\site-packages (from sqlalchemy<2,>=1.4.0->mlflow->farm-haystack) (1.1.1)\n",
      "Collecting monotonic>=1.5\n",
      "  Using cached monotonic-1.6-py2.py3-none-any.whl (8.2 kB)\n",
      "Collecting backoff<2.0.0,>=1.10.0\n",
      "  Using cached backoff-1.11.1-py2.py3-none-any.whl (13 kB)\n",
      "Requirement already satisfied: lxml>=2.3.2 in c:\\users\\lowju\\anaconda3\\envs\\ai-assistant-env\\lib\\site-packages (from python-docx->farm-haystack) (4.8.0)\n",
      "Collecting num2words\n",
      "  Using cached num2words-0.5.12-py3-none-any.whl (125 kB)\n",
      "Collecting inflect\n",
      "  Using cached inflect-6.0.0-py3-none-any.whl (34 kB)\n",
      "Collecting docopt>=0.6.2\n",
      "  Using cached docopt-0.6.2.tar.gz (25 kB)\n",
      "Requirement already satisfied: setuptools in c:\\users\\lowju\\anaconda3\\envs\\ai-assistant-env\\lib\\site-packages (from tika->farm-haystack) (61.2.0)\n",
      "Requirement already satisfied: pillow!=8.3.*,>=5.3.0 in c:\\users\\lowju\\anaconda3\\envs\\ai-assistant-env\\lib\\site-packages (from torchvision->sentence-transformers>=2.2.0->farm-haystack) (9.0.1)\n",
      "Building wheels for collected packages: sentence-transformers, elastic-apm, langdetect, databricks-cli, python-docx, docopt, seqeval, tika\n",
      "  Building wheel for sentence-transformers (setup.py): started\n",
      "  Building wheel for sentence-transformers (setup.py): finished with status 'done'\n",
      "  Created wheel for sentence-transformers: filename=sentence_transformers-2.2.2-py3-none-any.whl size=125940 sha256=7b48b945d30d309467305e3b631d51f2f434bad4dbfdffff5dcbb34b8a5e79d4\n",
      "  Stored in directory: c:\\users\\lowju\\appdata\\local\\pip\\cache\\wheels\\71\\67\\06\\162a3760c40d74dd40bc855d527008d26341c2b0ecf3e8e11f\n",
      "  Building wheel for elastic-apm (PEP 517): started\n",
      "  Building wheel for elastic-apm (PEP 517): finished with status 'done'\n",
      "  Created wheel for elastic-apm: filename=elastic_apm-6.12.0-py3-none-any.whl size=330602 sha256=12416e1a5ad958a624604c1f537350eb42e2971506f4548953b76a33551b21d2\n",
      "  Stored in directory: c:\\users\\lowju\\appdata\\local\\pip\\cache\\wheels\\a8\\8c\\a1\\a3657d3c14a33edf9eaee26bd14ab20dbb5cdc73aa1f295b34\n",
      "  Building wheel for langdetect (setup.py): started\n",
      "  Building wheel for langdetect (setup.py): finished with status 'done'\n",
      "  Created wheel for langdetect: filename=langdetect-1.0.9-py3-none-any.whl size=993242 sha256=80b298b80a22bfdb2ca6804a63000c1ecfb8088c72d9cb11bca409b7e64093bf\n",
      "  Stored in directory: c:\\users\\lowju\\appdata\\local\\pip\\cache\\wheels\\d1\\c1\\d9\\7e068de779d863bc8f8fc9467d85e25cfe47fa5051fff1a1bb\n",
      "  Building wheel for databricks-cli (setup.py): started\n",
      "  Building wheel for databricks-cli (setup.py): finished with status 'done'\n",
      "  Created wheel for databricks-cli: filename=databricks_cli-0.17.3-py3-none-any.whl size=139099 sha256=968082016a1f02510c7dc7118b86a2dd40f4b21801a74e12fc9061e579c19228\n",
      "  Stored in directory: c:\\users\\lowju\\appdata\\local\\pip\\cache\\wheels\\7b\\ef\\c5\\85718fa9e66dec117e42d8b4d7b8a2e40ebdec17232935615f\n",
      "  Building wheel for python-docx (setup.py): started\n",
      "  Building wheel for python-docx (setup.py): finished with status 'done'\n",
      "  Created wheel for python-docx: filename=python_docx-0.8.11-py3-none-any.whl size=184507 sha256=8eb9719d9a0e30109dbb949ff80c82518af3b39643541dc780123faf3ffdb36e\n",
      "  Stored in directory: c:\\users\\lowju\\appdata\\local\\pip\\cache\\wheels\\83\\8b\\7c\\09ae60c42c7ba4ed2dddaf2b8b9186cb105255856d6ed3dba5\n",
      "  Building wheel for docopt (setup.py): started\n",
      "  Building wheel for docopt (setup.py): finished with status 'done'\n",
      "  Created wheel for docopt: filename=docopt-0.6.2-py2.py3-none-any.whl size=13723 sha256=1fe4383659870a3d21d19875b43bbff68f3031c7651e5ecc468b64a1417cf5ca\n",
      "  Stored in directory: c:\\users\\lowju\\appdata\\local\\pip\\cache\\wheels\\70\\4a\\46\\1309fc853b8d395e60bafaf1b6df7845bdd82c95fd59dd8d2b\n",
      "  Building wheel for seqeval (setup.py): started\n",
      "  Building wheel for seqeval (setup.py): finished with status 'done'\n",
      "  Created wheel for seqeval: filename=seqeval-1.2.2-py3-none-any.whl size=16180 sha256=e5dee4065eb987f8dce7c8fc83d10ee2ab05fd394b135c4dd369ce73ae6861e6\n",
      "  Stored in directory: c:\\users\\lowju\\appdata\\local\\pip\\cache\\wheels\\e2\\a5\\92\\2c80d1928733611c2747a9820e1324a6835524d9411510c142\n",
      "  Building wheel for tika (setup.py): started\n",
      "  Building wheel for tika (setup.py): finished with status 'done'\n",
      "  Created wheel for tika: filename=tika-1.24-py3-none-any.whl size=32891 sha256=535b4277058d6b17ce774241af90442dae507db48162e72450434f03facf4628\n",
      "  Stored in directory: c:\\users\\lowju\\appdata\\local\\pip\\cache\\wheels\\ec\\76\\38\\0e4b92d8a3a89cbfff5be03a40c02d15b2072b1b08ebf28d6a\n",
      "Successfully built sentence-transformers elastic-apm langdetect databricks-cli python-docx docopt seqeval tika\n",
      "Installing collected packages: smmap, oauthlib, torch, tokenizers, requests-oauthlib, pywin32, pyjwt, pydantic, Mako, isodate, huggingface-hub, gitdb, docopt, azure-core, waitress, transformers, torchvision, sqlparse, sentencepiece, querystring-parser, prometheus-flask-exporter, num2words, msrest, monotonic, jarowinkler, inflect, gitpython, docker, databricks-cli, backoff, azure-common, alembic, tika, seqeval, sentence-transformers, rapidfuzz, quantulum3, python-docx, posthog, more-itertools, mmh3, mlflow, langdetect, elasticsearch, elastic-apm, dill, azure-ai-formrecognizer, farm-haystack\n",
      "  Attempting uninstall: pywin32\n",
      "    Found existing installation: pywin32 302\n",
      "    Uninstalling pywin32-302:\n",
      "      Successfully uninstalled pywin32-302\n",
      "Successfully installed Mako-1.2.3 alembic-1.8.1 azure-ai-formrecognizer-3.2.0 azure-common-1.1.28 azure-core-1.26.0 backoff-1.11.1 databricks-cli-0.17.3 dill-0.3.5.1 docker-6.0.0 docopt-0.6.2 elastic-apm-6.12.0 elasticsearch-7.10.1 farm-haystack-1.9.1 gitdb-4.0.9 gitpython-3.1.29 huggingface-hub-0.10.1 inflect-6.0.0 isodate-0.6.1 jarowinkler-1.2.3 langdetect-1.0.9 mlflow-1.29.0 mmh3-3.0.0 monotonic-1.6 more-itertools-8.14.0 msrest-0.7.1 num2words-0.5.12 oauthlib-3.2.1 posthog-2.1.2 prometheus-flask-exporter-0.20.3 pydantic-1.10.2 pyjwt-2.5.0 python-docx-0.8.11 pywin32-304 quantulum3-0.7.10 querystring-parser-1.2.4 rapidfuzz-2.7.0 requests-oauthlib-1.3.1 sentence-transformers-2.2.2 sentencepiece-0.1.97 seqeval-1.2.2 smmap-5.0.0 sqlparse-0.4.3 tika-1.24 tokenizers-0.12.1 torch-1.12.1+cu116 torchvision-0.13.1+cu116 transformers-4.21.2 waitress-2.1.2\n"
     ]
    }
   ],
   "source": [
    "#import sys\n",
    "\n",
    "#!{sys.executable} -m pip install farm-haystack -f https://download.pytorch.org/whl/torch_stable.html\n",
    "#!{sys.executable} -m pip install farm-haystack[ocr]"
   ]
  },
  {
   "cell_type": "code",
   "execution_count": 7,
   "id": "c9075e83",
   "metadata": {},
   "outputs": [
    {
     "name": "stderr",
     "output_type": "stream",
     "text": [
      "ERROR: Invalid requirement: \"'farm-haystack[ocr]'\"\n"
     ]
    }
   ],
   "source": []
  },
  {
   "cell_type": "code",
   "execution_count": 1,
   "id": "533d2f33",
   "metadata": {},
   "outputs": [],
   "source": [
    "import logging\n",
    "\n",
    "logging.basicConfig(format=\"%(levelname)s - %(name)s -  %(message)s\", level=logging.WARNING)\n",
    "logging.getLogger(\"haystack\").setLevel(logging.INFO)"
   ]
  },
  {
   "cell_type": "code",
   "execution_count": 4,
   "id": "dff8288b",
   "metadata": {},
   "outputs": [
    {
     "name": "stderr",
     "output_type": "stream",
     "text": [
      "INFO - haystack.modeling.utils -  Using devices: CUDA:0 - Number of GPUs: 1\n"
     ]
    }
   ],
   "source": [
    "from haystack.document_stores import InMemoryDocumentStore\n",
    "\n",
    "document_store = InMemoryDocumentStore()"
   ]
  },
  {
   "cell_type": "code",
   "execution_count": 5,
   "id": "3b53e292",
   "metadata": {},
   "outputs": [
    {
     "name": "stderr",
     "output_type": "stream",
     "text": [
      "INFO - haystack.utils.preprocessing -  Converting Datasets\\Watchman\\1-s2.0-S0002870317300881-main.pdf\n",
      "INFO - haystack.utils.preprocessing -  Converting Datasets\\Watchman\\Alternative to Warfarin – WATCHMAN Implant.pdf\n",
      "INFO - haystack.utils.preprocessing -  Converting Datasets\\Watchman\\How The WATCHMAN Device Works.pdf\n",
      "INFO - haystack.utils.preprocessing -  Converting Datasets\\Watchman\\WATCHMAN Implant for Non-Valvular Afib Stroke Risk.pdf\n",
      "INFO - haystack.utils.preprocessing -  Converting Datasets\\Watchman\\WATCHMAN Procedure vs. Blood Thinners.pdf\n",
      "INFO - haystack.utils.preprocessing -  Converting Datasets\\Watchman\\WATCHMAN_DTP_Brochure.pdf\n"
     ]
    },
    {
     "data": {
      "application/vnd.jupyter.widget-view+json": {
       "model_id": "291df1cefeee47a3b9ae32c1b3cfa472",
       "version_major": 2,
       "version_minor": 0
      },
      "text/plain": [
       "Preprocessing:   0%|          | 0/6 [00:00<?, ?docs/s]"
      ]
     },
     "metadata": {},
     "output_type": "display_data"
    },
    {
     "name": "stderr",
     "output_type": "stream",
     "text": [
      "WARNING - haystack.nodes.preprocessor.preprocessor -  One or more sentence found with word count higher than the split length.\n"
     ]
    },
    {
     "name": "stdout",
     "output_type": "stream",
     "text": [
      "n_files_input: 6\n",
      "n_docs_output: 97\n",
      "[<Document: {'content': 'The Assessment of the Watchman Device inPatients Unsuitable for Oral Anticoagulation(ASAP-TOO) trialDavid R. Holmes, MD, aVivek Y. Reddy, MD, bMaurice Buchbinder, MD, cKenneth Stein, MD, dMyriah Elletson dMartin W. Bergmann, MD, eBoris Schmidt, MD, fand Jacqueline Saw, MD, FRCPC gRochester, Minneapolis, MN;New York, NY; Stanford, CA; Hamburg, Frankfurt, Germany; and British Columbia, CanadaBackground Oral anticoagulants (OACs) reduce stroke risks with nonvalvular atrial fibrillation (AF); however, they areunderused because of absolute or relative contraindications due to real or perceived risk of bleeding. Although left atrialappendage closure is increasingly performed in OAC-ineligible patients, this has not been studied in a randomizedcontrolled trial.Study objectives The ASAP-TOO study is designed to establish the safety and effectiveness of the Watchman leftatrial appendage closure device in patients with nonvalvular AF who are deemed ineligible for OAC. The primary effectivenessend point is the time to first occurrence of ischemic stroke or systemic embolism. The primary safety end point includes all-causedeath, ischemic stroke, systemic embolism, or device- or procedural-related event requiring open cardiac surgery or majorendovascular intervention.Study design This is a multinational, multicenter prospective randomized trial.', 'content_type': 'text', 'score': None, 'meta': {'name': '1-s2.0-S0002870317300881-main.pdf', '_split_id': 0}, 'embedding': None, 'id': 'c32c1e73108ab7a3943c85555ae2b213'}>, <Document: {'content': 'The primary safety end point includes all-causedeath, ischemic stroke, systemic embolism, or device- or procedural-related event requiring open cardiac surgery or majorendovascular intervention.Study design This is a multinational, multicenter prospective randomized trial. Patients meeting the inclusion criteriawith CHA2DS2-VASc score ≥ 2 and who are deemed by 2 study physicians to be unsuitable for OAC will be randomized in a2:1 allocation ratio to Watchman versus control. Control patients will be prescribed single antiplatelet therapy or no therapy atthe discretion of the study physician. Up to 888 randomized subjects will be enrolled from up to 100 global investigationalsites. Both device group and control patients will have follow-up visits at 3, 6, and 12 months and then every 6 months through60 months.Summary This trial will assess the safety and efficacy of Watchman in this challenging population of high–stroke risk AFpatients. (Am Heart J 2017;189:68-74. )Atrial fibrillation (AF) is the most common sustainedcardiac arrhythmia both in the United States andworldwide. As populations age with increasing morbid-ity, the incidence increases.1The relationship betweenincreasing age, AF, and stroke is well documented.', 'content_type': 'text', 'score': None, 'meta': {'name': '1-s2.0-S0002870317300881-main.pdf', '_split_id': 1}, 'embedding': None, 'id': 'd7ff5a182eb1afcfaa059dfc5ed281ed'}>, <Document: {'content': ')Atrial fibrillation (AF) is the most common sustainedcardiac arrhythmia both in the United States andworldwide. As populations age with increasing morbid-ity, the incidence increases.1The relationship betweenincreasing age, AF, and stroke is well documented. AF isassociated with a 5-fold increase in stroke rates, and thesecardioembolic events are typically associated withmarked increases in both mortality and morbidity.2-4The pathophysiology of stroke in the setting of non-valvular AF has been well studied in pathologic andechocardiographic studies and has been confirmed in therandomized controlled Watchman Left Atrial AppendageSystem for Embolic Protection in Patients with AtrialFibrillation (PROTECT-AF) study with left atrial append-age closure (LAAC), which documented equivalentreduction in stroke with Watchman LAAC comparedwith warfarin. The field continues to evolve basedprimarily on the introduction and increasing applicationof non–vitamin K oral anticoagulants (NOACs) and thesubsequent approval of LAAC with the Watchman device.The former has been documented in multiple random-ized trials to be superior to conventional warfarin therapyfor reduction of hemorrhagic stroke, with attenuatedreduction in all-cause stroke as well as a reduction inischemic stroke.', 'content_type': 'text', 'score': None, 'meta': {'name': '1-s2.0-S0002870317300881-main.pdf', '_split_id': 2}, 'embedding': None, 'id': '9bd7c9bad30236a8360cb8ab0f36fc77'}>]\n"
     ]
    }
   ],
   "source": [
    "from haystack.utils import clean_wiki_text, convert_files_to_docs, fetch_archive_from_http\n",
    "from haystack.nodes import PreProcessor\n",
    "\n",
    "\n",
    "# Let's first get some documents that we want to query\n",
    "# Here: 517 Wikipedia articles for Game of Thrones\n",
    "doc_dir = \"Datasets/Watchman\"\n",
    "\n",
    "#s3_url = \"https://s3.eu-central-1.amazonaws.com/deepset.ai-farm-qa/datasets/documents/wiki_gameofthrones_txt3.zip\"\n",
    "#fetch_archive_from_http(url=s3_url, output_dir=doc_dir)\n",
    "\n",
    "# convert files to dicts containing documents that can be indexed to our datastore\n",
    "# You can optionally supply a cleaning function that is applied to each doc (e.g. to remove footers)\n",
    "# It must take a str as input, and return a str.\n",
    "all_docs = convert_files_to_docs(dir_path=doc_dir, clean_func = lambda x:x.replace(\"\\n\",\"\"), split_paragraphs=True)\n",
    "\n",
    "preprocessor = PreProcessor(\n",
    "    clean_empty_lines=True,\n",
    "    clean_whitespace=True,\n",
    "    clean_header_footer=False,\n",
    "    split_by=\"word\",\n",
    "    split_length=200,\n",
    "    split_overlap=30,\n",
    "    split_respect_sentence_boundary=True,\n",
    ")\n",
    "docs = preprocessor.process(all_docs)\n",
    "\n",
    "print(f\"n_files_input: {len(all_docs)}\\nn_docs_output: {len(docs)}\")\n",
    "\n",
    "# We now have a list of dictionaries that we can write to our document store.\n",
    "# If your texts come from a different source (e.g. a DB), you can of course skip convert_files_to_dicts() and create the dictionaries yourself.\n",
    "# The default format here is: {\"name\": \"<some-document-name>\", \"content\": \"<the-actual-text>\"}\n",
    "\n",
    "# Let's have a look at the first 3 entries:\n",
    "print(docs[:3])\n",
    "\n",
    "# Now, let's write the docs to our DB.\n",
    "document_store.write_documents(docs)"
   ]
  },
  {
   "cell_type": "markdown",
   "id": "1c353859",
   "metadata": {},
   "source": [
    "Testing with InMemoryDocumentStore used TfidfRetriever, when use Elasticsearch can use BM25Retriever"
   ]
  },
  {
   "cell_type": "code",
   "execution_count": 6,
   "id": "994e7099",
   "metadata": {},
   "outputs": [
    {
     "name": "stderr",
     "output_type": "stream",
     "text": [
      "INFO - haystack.nodes.retriever.sparse -  Found 97 candidate paragraphs from 97 docs in DB\n"
     ]
    }
   ],
   "source": [
    "from haystack.nodes import TfidfRetriever\n",
    "\n",
    "retriever = TfidfRetriever(document_store=document_store)"
   ]
  },
  {
   "cell_type": "code",
   "execution_count": 7,
   "id": "9c986beb",
   "metadata": {},
   "outputs": [
    {
     "name": "stderr",
     "output_type": "stream",
     "text": [
      "INFO - haystack.modeling.utils -  Using devices: CUDA:0 - Number of GPUs: 1\n",
      "INFO - haystack.modeling.utils -  Using devices: CUDA:0 - Number of GPUs: 1\n",
      "INFO - haystack.modeling.model.language_model -   * LOADING MODEL: 'deepset/roberta-base-squad2' (Roberta)\n",
      "INFO - haystack.modeling.model.language_model -  Auto-detected model language: english\n",
      "INFO - haystack.modeling.model.language_model -  Loaded 'deepset/roberta-base-squad2' (Roberta model) from model hub.\n",
      "INFO - haystack.modeling.utils -  Using devices: CUDA:0 - Number of GPUs: 1\n",
      "INFO - haystack.modeling.infer -  Got ya 11 parallel workers to do inference ...\n",
      "INFO - haystack.modeling.infer -   0     0     0     0     0     0     0     0     0     0     0  \n",
      "INFO - haystack.modeling.infer -  /w\\   /w\\   /w\\   /w\\   /w\\   /w\\   /w\\   /|\\   /w\\   /w\\   /w\\ \n",
      "INFO - haystack.modeling.infer -  /'\\   / \\   /'\\   /'\\   / \\   / \\   /'\\   /'\\   /'\\   /'\\   /'\\ \n"
     ]
    }
   ],
   "source": [
    "from haystack.nodes import FARMReader\n",
    "\n",
    "\n",
    "# Load a  local model or any of the QA models on\n",
    "# Hugging Face's model hub (https://huggingface.co/models)\n",
    "reader = FARMReader(model_name_or_path=\"deepset/roberta-base-squad2\", use_gpu=True)"
   ]
  },
  {
   "cell_type": "code",
   "execution_count": 8,
   "id": "bd8b368b",
   "metadata": {},
   "outputs": [],
   "source": [
    "from haystack.pipelines import ExtractiveQAPipeline\n",
    "\n",
    "pipe = ExtractiveQAPipeline(reader, retriever)"
   ]
  },
  {
   "cell_type": "code",
   "execution_count": 9,
   "id": "3d54ffe0",
   "metadata": {},
   "outputs": [
    {
     "name": "stderr",
     "output_type": "stream",
     "text": [
      "Inferencing Samples: 100%|██████████| 1/1 [00:06<00:00,  6.22s/ Batches]\n",
      "Inferencing Samples: 100%|██████████| 1/1 [00:00<00:00, 14.71 Batches/s]\n",
      "Inferencing Samples: 100%|██████████| 1/1 [00:00<00:00, 14.29 Batches/s]\n",
      "Inferencing Samples: 100%|██████████| 1/1 [00:00<00:00, 14.29 Batches/s]\n",
      "Inferencing Samples: 100%|██████████| 1/1 [00:00<00:00, 14.29 Batches/s]\n",
      "Inferencing Samples: 100%|██████████| 1/1 [00:00<00:00, 14.29 Batches/s]\n",
      "Inferencing Samples: 100%|██████████| 1/1 [00:00<00:00, 14.28 Batches/s]\n",
      "Inferencing Samples: 100%|██████████| 1/1 [00:00<00:00, 14.08 Batches/s]\n",
      "Inferencing Samples: 100%|██████████| 1/1 [00:00<00:00, 21.50 Batches/s]\n",
      "Inferencing Samples: 100%|██████████| 1/1 [00:00<00:00, 10.00 Batches/s]\n"
     ]
    }
   ],
   "source": [
    "# You can configure how many candidates the reader and retriever shall return\n",
    "# The higher top_k for retriever, the better (but also the slower) your answers.\n",
    "prediction = pipe.run(\n",
    "    query=\"What are the risks of having a Watchman implant procedure?\", params={\"Retriever\": {\"top_k\": 10}, \"Reader\": {\"top_k\": 5}}\n",
    ")"
   ]
  },
  {
   "cell_type": "code",
   "execution_count": 10,
   "id": "3e545944",
   "metadata": {},
   "outputs": [
    {
     "name": "stdout",
     "output_type": "stream",
     "text": [
      "{'answers': [<Answer {'answer': 'accidental heart puncture, air embolism, allergic reaction, anemia,anesthesia risks', 'type': 'extractive', 'score': 0.5987601280212402, 'context': 'sks include but are not limited toaccidental heart puncture, air embolism, allergic reaction, anemia,anesthesia risks, arrhythmias, AV (Arteriovenous)', 'offsets_in_document': [{'start': 630, 'end': 713}], 'offsets_in_context': [{'start': 34, 'end': 117}], 'document_id': '6b7c6ac4c46533c0279ea119cd53a8c3', 'meta': {'name': 'WATCHMAN_DTP_Brochure.pdf', '_split_id': 17}}>,\n",
      "             <Answer {'answer': 'stroke risk and bleeding worry for life', 'type': 'extractive', 'score': 0.44617047905921936, 'context': 'is a one‑time, minimally invasive procedure thatreduces stroke risk and bleeding worry for life.One Time. For a Lifetime.AND COUNTINGLIVES CHANGEDTwee', 'offsets_in_document': [{'start': 305, 'end': 344}], 'offsets_in_context': [{'start': 56, 'end': 95}], 'document_id': '3a9ec309fb970959a3fe34e6cdf95a24', 'meta': {'name': 'WATCHMAN Implant for Non-Valvular Afib Stroke Risk.pdf', '_split_id': 0}}>,\n",
      "             <Answer {'answer': 'patients should not be considered for the WATCHMAN Implant ifthey are doing well and expect to continue doing well on blood thinners', 'type': 'extractive', 'score': 0.37791162729263306, 'context': 'ocedure, patients should not be considered for the WATCHMAN Implant ifthey are doing well and expect to continue doing well on blood thinners.See if t', 'offsets_in_document': [{'start': 507, 'end': 639}], 'offsets_in_context': [{'start': 9, 'end': 141}], 'document_id': 'c549067573da8834c2d638be93eb9647', 'meta': {'name': 'How The WATCHMAN Device Works.pdf', '_split_id': 3}}>,\n",
      "             <Answer {'answer': 'risks', 'type': 'extractive', 'score': 0.3454301953315735, 'context': 'rate of 0.5%,which is a similar rate to a cardiac ablation procedure.As with any medical procedure, there are risks involved with theWATCHMAN Implant.', 'offsets_in_document': [{'start': 806, 'end': 811}], 'offsets_in_context': [{'start': 110, 'end': 115}], 'document_id': '10887f0ec2f7539b62ffcc419f370ff4', 'meta': {'name': 'How The WATCHMAN Device Works.pdf', '_split_id': 5}}>,\n",
      "             <Answer {'answer': 'risks associated with the implant procedure and the use of the device', 'type': 'extractive', 'score': 0.3291323184967041, 'context': 'in an effort to reduce the risk of stroke.With all medical procedures there are risks associated with the implant procedure and the use of the device.', 'offsets_in_document': [{'start': 1443, 'end': 1512}], 'offsets_in_context': [{'start': 80, 'end': 149}], 'document_id': '140184b9c356103578e610c1b1021ab8', 'meta': {'name': 'WATCHMAN Procedure vs. Blood Thinners.pdf', '_split_id': 7}}>],\n",
      " 'documents': [<Document: {'content': 'Watch the video to learn moreand talk to your cardiologist about the WATCHMAN Implant.The WATCHMAN Implant Reduces theRisk of Stroke from Non‑valvular AFibSee if the WATCHMANImplant is right for you \\uf054×MENU\\x0cSee How The WATCHMAN Implant WorksOver 1/3 of people with AFib feel trapped between the fear of having astroke and fear of the risks associated with blood thinners. In fact, morethan 4 in 5 people with AFib taking a blood thinner (83%) say theywould be willing to try a different treatment to help reduce their riskof stroke.See What Makes the WATCHMAN ImplantDifferentBeyond Blood Thinners1The WATCHMAN Implant effectively reduces the risk of stroke—withoutthe risk of bleeding that can come with the long-term use of bloodthinners.See Why People Choose the WATCHMANImplantFor All the Right Reasons2,3We have a lot of freedom now to do the things that we love to dotogether, without all those fears.— LINDA, 7603:42See if the WATCHMANImplant is right for you \\uf054×\\x0cSee this story about what life could be like without blood thinners after having theWATCHMAN Implant procedure.©2022 Boston Scientific Corporation and its affiliates.', 'content_type': 'text', 'score': None, 'meta': {'name': 'WATCHMAN Implant for Non-Valvular Afib Stroke Risk.pdf', '_split_id': 1}, 'embedding': None, 'id': '5f679fb2f840b8585dd0dfea159a423a'}>,\n",
      "               <Document: {'content': 'OVER 200,000 PEOPLE HAVELEFT BLOOD THINNERS BEHINDWITH THE WATCHMAN IMPLANT.Answer a few questions about your AFib tosee if the WATCHMAN Implant is rightfor you.Start Here >AFib doesn’t have to mean a lifetime of blood thinners. TheWATCHMAN Implant is a one‑time, minimally invasive procedure thatreduces stroke risk and bleeding worry for life.One Time. For a Lifetime.AND COUNTINGLIVES CHANGEDTweet EmailShareThere’s an alternative to blood thinners for people who needone. It’s called the WATCHMAN Implant. The most implanted,FDA-approved device proven to reduce stroke risk in peoplewith atrial fibrillation not caused by a heart valve problem (alsoreferred to as non-valvular AFib). Watch the video to learn moreand talk to your cardiologist about the WATCHMAN Implant.The WATCHMAN Implant Reduces theRisk of Stroke from Non‑valvular AFibSee if the WATCHMANImplant is right for you \\uf054×MENU\\x0cSee How The WATCHMAN Implant WorksOver 1/3 of people with AFib feel trapped between the fear of having astroke and fear of the risks associated with blood thinners.', 'content_type': 'text', 'score': None, 'meta': {'name': 'WATCHMAN Implant for Non-Valvular Afib Stroke Risk.pdf', '_split_id': 0}, 'embedding': None, 'id': '3a9ec309fb970959a3fe34e6cdf95a24'}>,\n",
      "               <Document: {'content': 'In fact, morethan 4 in 5 people with AFib taking a blood thinner (83%) say theywould be willing to try a different treatment to help reduce their riskof stroke.See What Makes the WATCHMAN ImplantDifferentBeyond Blood Thinners1The WATCHMAN Implant effectively reduces the risk of stroke—withoutthe risk of bleeding that can come with the long-term use of bloodthinners.See Why People Choose the WATCHMANImplantFor All the Right Reasons2,3We have a lot of freedom now to do the things that we love to dotogether, without all those fears.— LINDA, 7603:42See if the WATCHMANImplant is right for you \\uf054×\\x0cSee this story about what life could be like without blood thinners after having theWATCHMAN Implant procedure.©2022 Boston Scientific Corporation and its affiliates. All rights reserved\\u200bWATCHMAN Implant TV Commercial\\u200bTweet EmailShareAnswer a few short questions to see if you may be a candidate and get a customized guide to help you start aconversation with your doctorGet StartedCould the WATCHMAN Implant be right for you?WATCHMAN Educational Specialists are trained professionalswith healthcare experience.', 'content_type': 'text', 'score': None, 'meta': {'name': 'WATCHMAN Implant for Non-Valvular Afib Stroke Risk.pdf', '_split_id': 2}, 'embedding': None, 'id': 'b2e7b1aef3bacbd56015e27a897fb55c'}>,\n",
      "               <Document: {'content': 'See the Important Safety Information below for alist of possible complications, and ask your cardiologist about the risksand benefits of the WATCHMAN Implant.#1 Doctor Recommended3*See if the WATCHMANImplant is right for you \\uf054×\\x0cHear From the DoctorsHear from a team of doctors who perform the WATCHMANImplant and see inside the procedure roomGet a quick guide on the WATCHMAN Implant that you canshare with your doctor or loved one.Download PDFThe WATCHMAN Implant AlternativeIf you have AFib not caused by a heart valve problem and you need an alternative to blood thinners, theWATCHMAN Implant may be right for you.NEXT: Why Choose WATCHMANThe WATCHMAN Implant is for people with atrial fibrillation not caused by a heart valve problem who need analternative to blood thinners. This website is intended to provide patients and caregivers with some informationabout the WATCHMAN Implant. It may help prepare you for talking to your doctor about your options for reducingstroke risk.Important Safety InformationThe WATCHMAN and WATCHMAN FLX Devices are permanent implants designed to close the left atrial appendagein the heart in an effort to reduce the risk of stroke.With all medical procedures there are risks associated with the implant procedure and the use of the device.', 'content_type': 'text', 'score': None, 'meta': {'name': 'How The WATCHMAN Device Works.pdf', '_split_id': 7}, 'embedding': None, 'id': 'd980074ca593650766b5d59f3d8edfc5'}>,\n",
      "               <Document: {'content': 'With almost 20 years of clinical trial and realworld experience - including 10 clinical trials - the WATCHMAN Implanthas a proven safety record.The WATCHMAN Implant has a low major complication rate of 0.5%,which is a similar rate to a cardiac ablation procedure.As with any medical procedure, there are risks involved with theWATCHMAN Implant. See the Important Safety Information below for alist of possible complications, and ask your cardiologist about the risksand benefits of the WATCHMAN Implant.#1 Doctor Recommended3*See if the WATCHMANImplant is right for you \\uf054×\\x0cHear From the DoctorsHear from a team of doctors who perform the WATCHMANImplant and see inside the procedure roomGet a quick guide on the WATCHMAN Implant that you canshare with your doctor or loved one.Download PDFThe WATCHMAN Implant AlternativeIf you have AFib not caused by a heart valve problem and you need an alternative to blood thinners, theWATCHMAN Implant may be right for you.NEXT: Why Choose WATCHMANThe WATCHMAN Implant is for people with atrial fibrillation not caused by a heart valve problem who need analternative to blood thinners. This website is intended to provide patients and caregivers with some informationabout the WATCHMAN Implant.', 'content_type': 'text', 'score': None, 'meta': {'name': 'How The WATCHMAN Device Works.pdf', '_split_id': 6}, 'embedding': None, 'id': 'cea9869b9492cce24f84670025d31af1'}>,\n",
      "               <Document: {'content': \"It’s a permanent device that doesn’thave to be replaced and can’t be seen outside the body.To place the WATCHMAN Implant, your doctor makes a small cut in your upper leg and inserts a narrow tube. Yourdoctor then guides the WATCHMAN Implant into the left atrial appendage (LAA) of your heart. The procedure isdone under general anesthesia and takes as little as 30 minutes. Patients commonly stay in the hospital for a dayor less.The WATCHMAN Implant ProcedureDue to the risk of having a medical procedure, patients should not be considered for the WATCHMAN Implant ifthey are doing well and expect to continue doing well on blood thinners.See if the WATCHMANImplant is right for you \\uf054×\\x0cAnswer a few short questions to see if you may be a candidateand get a customized guide to help you start a conversationwith your doctorGet StartedCould the WATCHMAN Implant be rightfor you?WATCHMAN Educational Specialists are trained professionalswith healthcare experience. They're here to help answer yourquestions.Call 1-855-893-2606Monday to Friday, 8AM to 5PM Central TimeQuestions about the WATCHMANImplant?Following the WATCHMAN Implant procedure, you’ll take blood thinnersfor 45 days or until your LAA is permanently closed off.\", 'content_type': 'text', 'score': None, 'meta': {'name': 'How The WATCHMAN Device Works.pdf', '_split_id': 3}, 'embedding': None, 'id': 'c549067573da8834c2d638be93eb9647'}>,\n",
      "               <Document: {'content': 'Go to watchman.com/register.What is a WATCHMAN Implant Cardand why do I need it?I didn’t have any problems getting the [WATCHMAN]procedure and I feel so much better since I had it. It makesme feel good that I can get up and go and not worry.—CAMILLE, 89LIVING LIFE WITH THE WATCHMAN IMPLANT10 11\\x0cImportant Safety InformationThe WATCHMAN™and WATCHMAN FLX Devices are permanentimplants designed to close the left atrial appendage in theheart in an effort to reduce the risk of stroke. With all medicalprocedures there are risks associated with the implant procedureand the use of the device. The risks include but are not limited toaccidental heart puncture, air embolism, allergic reaction, anemia,anesthesia risks, arrhythmias, AV (Arteriovenous) fistula, bleedingor throat pain from the TEE (Trans Esophageal Echo) probe, bloodclot or air bubbles in the lungs or other organs, bruising at thecatheter insertion site, clot formation on the device, cranial bleed,excessive bleeding, gastrointestinal bleeding, groin puncturebleed, hypotension, infection/pneumonia, pneumothorax,pulmonary edema, pulmonary vein obstruction, renal failure,stroke, thrombosis and transient ischemic attack.', 'content_type': 'text', 'score': None, 'meta': {'name': 'WATCHMAN_DTP_Brochure.pdf', '_split_id': 17}, 'embedding': None, 'id': '6b7c6ac4c46533c0279ea119cd53a8c3'}>,\n",
      "               <Document: {'content': 'See theImportant Safety Information below for a list of possible complications, and ask yourcardiologist about the risks and benefits of the WATCHMAN Implant.Who the WATCHMAN Implant Is ForHave atrial fi\\xadbrillation not caused by a heart valve problem (alsoknown as non-valvular AFib)•Have been recommended for blood thinning medicines by theirdoctor•Can take short term blood thinners but need an alternative•Have had major bleeding while taking blood thinners•Have a lifestyle, occupation, or condition that puts them at risk formajor bleeding•Have difficulties taking their blood thinner as prescribed (staying inINR range, following dietary restrictions, missing doses or inabilityto afford the prescription)•If you’re ready to talk to your doctor about the WATCHMAN Implant, get a customized guide that can help youask the right questions.NEXT: Getting the WATCHMAN ImplantThe WATCHMAN Implant is for people with atrial fibrillation not caused by a heart valve problem who need analternative to blood thinners. This website is intended to provide patients and caregivers with some informationabout the WATCHMAN Implant. It may help prepare you for talking to your doctor about your options for reducingstroke risk.Important Safety InformationThe WATCHMAN and WATCHMAN FLX Devices are permanent implants designed to close the left atrial appendagein the heart in an effort to reduce the risk of stroke.With all medical procedures there are risks associated with the implant procedure and the use of the device.', 'content_type': 'text', 'score': None, 'meta': {'name': 'WATCHMAN Procedure vs. Blood Thinners.pdf', '_split_id': 7}, 'embedding': None, 'id': '140184b9c356103578e610c1b1021ab8'}>,\n",
      "               <Document: {'content': 'A very small numberof patients may need to keep taking blood thinners long term.In a clinical trial:After the Procedure96% of patients were able to stop taking blood thinners just 45days after the procedure•3The WATCHMAN Implant is the most implanted device of its kindapproved by the U.S. Food and Drug Administration (FDA) for reducingthe risk of stroke in people with atrial fibrillation not caused by a heartvalve problem.More than 200,000 WATCHMAN Implant procedures have beenperformed worldwide. With almost 20 years of clinical trial and realworld experience - including 10 clinical trials - the WATCHMAN Implanthas a proven safety record.The WATCHMAN Implant has a low major complication rate of 0.5%,which is a similar rate to a cardiac ablation procedure.As with any medical procedure, there are risks involved with theWATCHMAN Implant.', 'content_type': 'text', 'score': None, 'meta': {'name': 'How The WATCHMAN Device Works.pdf', '_split_id': 5}, 'embedding': None, 'id': '10887f0ec2f7539b62ffcc419f370ff4'}>,\n",
      "               <Document: {'content': 'But it does offer people withAFib not caused by a heart valve problem a potentially life-changing alternative to taking daily blood thinners longterm.WATCHMAN may be right for you if you have one of following:Major bleeding while taking blood thinners•A lifestyle, occupation, or health concern that puts you at risk for bleeding•Have difficulties taking blood thinners as prescribed•If you have atrial fibrillation not caused by a heart valve problem and need an alternative to blood thinners, hereare some questions to ask your cardiologist:If you think WATCHMAN could be right for you, answer a few questions and get a personalized guide for talking toyour cardiologist.Answer a few questions and get a customized guideQuestions to Ask Your DoctorWhat are the risks and benefits of the different blood thinners?•Does my lifestyle or health history put me at risk for serious bleeding?•Am I a candidate for left atrial appendage closure?•What should I know about the WATCHMAN Implant?•What are the differences in cost between blood thinners and the WATCHMAN Implant?•See if the WATCHMANImplant is right for you \\uf054×\\x0cWATCHMAN is the only FDA-approved implant proven to safely and effectively lower stroke risk in people withAFib not caused by heart valve problems.NEXT: Why Choose WATCHMAN2WATCHMAN is for people with atrial fibrillation not caused by a heart valve problem who need an alternative toblood thinners. This website is intended to provide patients and caregivers with some information about theWATCHMAN Implant. It may help prepare you for talking to your doctor about your options for reducing stroke risk.Important Safety InformationThe WATCHMAN and WATCHMAN FLX Devices are permanent implants designed to close the left atrial appendagein the heart in an effort to reduce the risk of stroke.With all medical procedures there are risks associated with the implant procedure and the use of the device.', 'content_type': 'text', 'score': None, 'meta': {'name': 'Alternative to Warfarin – WATCHMAN Implant.pdf', '_split_id': 11}, 'embedding': None, 'id': '114c7b9aff8258acbc3bacf91c36db88'}>],\n",
      " 'no_ans_gap': 4.4720659255981445,\n",
      " 'node_id': 'Reader',\n",
      " 'params': {'Reader': {'top_k': 5}, 'Retriever': {'top_k': 10}},\n",
      " 'query': 'What are the risks of having a Watchman implant procedure?',\n",
      " 'root_node': 'Query'}\n"
     ]
    }
   ],
   "source": [
    "# Now you can either print the object directly...\n",
    "from pprint import pprint\n",
    "\n",
    "pprint(prediction)"
   ]
  },
  {
   "cell_type": "code",
   "execution_count": 11,
   "id": "2416c2f4",
   "metadata": {},
   "outputs": [
    {
     "name": "stdout",
     "output_type": "stream",
     "text": [
      "\n",
      "Query: What are the risks of having a Watchman implant procedure?\n",
      "Answers:\n",
      "[   {   'answer': 'accidental heart puncture, air embolism, allergic reaction, '\n",
      "                  'anemia,anesthesia risks',\n",
      "        'context': 'sks include but are not limited toaccidental heart '\n",
      "                   'puncture, air embolism, allergic reaction, '\n",
      "                   'anemia,anesthesia risks, arrhythmias, AV (Arteriovenous)',\n",
      "        'score': 0.5987601280212402},\n",
      "    {   'answer': 'stroke risk and bleeding worry for life',\n",
      "        'context': 'is a one‑time, minimally invasive procedure thatreduces '\n",
      "                   'stroke risk and bleeding worry for life.One Time. For a '\n",
      "                   'Lifetime.AND COUNTINGLIVES CHANGEDTwee',\n",
      "        'score': 0.44617047905921936},\n",
      "    {   'answer': 'patients should not be considered for the WATCHMAN Implant '\n",
      "                  'ifthey are doing well and expect to continue doing well on '\n",
      "                  'blood thinners',\n",
      "        'context': 'ocedure, patients should not be considered for the '\n",
      "                   'WATCHMAN Implant ifthey are doing well and expect to '\n",
      "                   'continue doing well on blood thinners.See if t',\n",
      "        'score': 0.37791162729263306},\n",
      "    {   'answer': 'risks',\n",
      "        'context': 'rate of 0.5%,which is a similar rate to a cardiac ablation '\n",
      "                   'procedure.As with any medical procedure, there are risks '\n",
      "                   'involved with theWATCHMAN Implant.',\n",
      "        'score': 0.3454301953315735},\n",
      "    {   'answer': 'risks associated with the implant procedure and the use of '\n",
      "                  'the device',\n",
      "        'context': 'in an effort to reduce the risk of stroke.With all medical '\n",
      "                   'procedures there are risks associated with the implant '\n",
      "                   'procedure and the use of the device.',\n",
      "        'score': 0.3291323184967041}]\n"
     ]
    }
   ],
   "source": [
    "# ...or use a util to simplify the output\n",
    "from haystack.utils import print_answers\n",
    "\n",
    "\n",
    "# Change `minimum` to `medium` or `all` to control the level of detail\n",
    "print_answers(prediction, details=\"medium\")"
   ]
  },
  {
   "cell_type": "code",
   "execution_count": null,
   "id": "5ed66883",
   "metadata": {},
   "outputs": [],
   "source": []
  },
  {
   "cell_type": "code",
   "execution_count": null,
   "id": "1a6fc3f9",
   "metadata": {},
   "outputs": [],
   "source": []
  }
 ],
 "metadata": {
  "kernelspec": {
   "display_name": "Python 3 (ipykernel)",
   "language": "python",
   "name": "python3"
  },
  "language_info": {
   "codemirror_mode": {
    "name": "ipython",
    "version": 3
   },
   "file_extension": ".py",
   "mimetype": "text/x-python",
   "name": "python",
   "nbconvert_exporter": "python",
   "pygments_lexer": "ipython3",
   "version": "3.9.12"
  }
 },
 "nbformat": 4,
 "nbformat_minor": 5
}

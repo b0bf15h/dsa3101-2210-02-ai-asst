{
 "cells": [
  {
   "cell_type": "code",
   "execution_count": 1,
   "id": "3f038cbe",
   "metadata": {},
   "outputs": [
    {
     "name": "stdout",
     "output_type": "stream",
     "text": [
      "Looking in links: https://download.pytorch.org/whl/torch_stable.html\n",
      "Collecting farm-haystack\n",
      "  Using cached farm_haystack-1.9.1-py3-none-any.whl (733 kB)\n",
      "Collecting elasticsearch<7.11,>=7.7\n",
      "  Using cached elasticsearch-7.10.1-py2.py3-none-any.whl (322 kB)\n",
      "Requirement already satisfied: networkx in c:\\users\\lowju\\anaconda3\\envs\\ai-assistant-env\\lib\\site-packages (from farm-haystack) (2.7.1)\n",
      "Collecting more-itertools\n",
      "  Using cached more_itertools-8.14.0-py3-none-any.whl (52 kB)\n",
      "Collecting mmh3\n",
      "  Downloading mmh3-3.0.0-cp39-cp39-win_amd64.whl (15 kB)\n",
      "Collecting dill\n",
      "  Using cached dill-0.3.5.1-py2.py3-none-any.whl (95 kB)\n",
      "Collecting rapidfuzz<2.8.0,>=2.0.15\n",
      "  Downloading rapidfuzz-2.7.0-cp39-cp39-win_amd64.whl (1.2 MB)\n",
      "Collecting python-docx\n",
      "  Using cached python-docx-0.8.11.tar.gz (5.6 MB)\n",
      "Collecting pydantic\n",
      "  Downloading pydantic-1.10.2-cp39-cp39-win_amd64.whl (2.1 MB)\n",
      "Collecting tika\n",
      "  Using cached tika-1.24.tar.gz (28 kB)\n",
      "Requirement already satisfied: nltk in c:\\users\\lowju\\anaconda3\\envs\\ai-assistant-env\\lib\\site-packages (from farm-haystack) (3.7)\n",
      "Collecting quantulum3\n",
      "  Using cached quantulum3-0.7.10-py3-none-any.whl (10.7 MB)\n",
      "Collecting elastic-apm\n",
      "  Using cached elastic-apm-6.12.0.tar.gz (174 kB)\n",
      "  Installing build dependencies: started\n",
      "  Installing build dependencies: finished with status 'done'\n",
      "  Getting requirements to build wheel: started\n",
      "  Getting requirements to build wheel: finished with status 'done'\n",
      "    Preparing wheel metadata: started\n",
      "    Preparing wheel metadata: finished with status 'done'\n",
      "Requirement already satisfied: pandas in c:\\users\\lowju\\anaconda3\\envs\\ai-assistant-env\\lib\\site-packages (from farm-haystack) (1.4.2)\n",
      "Requirement already satisfied: jsonschema in c:\\users\\lowju\\anaconda3\\envs\\ai-assistant-env\\lib\\site-packages (from farm-haystack) (4.4.0)\n",
      "Collecting mlflow\n",
      "  Using cached mlflow-1.29.0-py3-none-any.whl (16.9 MB)\n",
      "Collecting seqeval\n",
      "  Using cached seqeval-1.2.2.tar.gz (43 kB)\n",
      "Requirement already satisfied: scikit-learn>=1.0.0 in c:\\users\\lowju\\anaconda3\\envs\\ai-assistant-env\\lib\\site-packages (from farm-haystack) (1.0.2)\n",
      "Requirement already satisfied: requests in c:\\users\\lowju\\anaconda3\\envs\\ai-assistant-env\\lib\\site-packages (from farm-haystack) (2.27.1)\n",
      "Requirement already satisfied: scipy>=1.3.2 in c:\\users\\lowju\\anaconda3\\envs\\ai-assistant-env\\lib\\site-packages (from farm-haystack) (1.7.3)\n",
      "Collecting torch<1.13,>1.9\n",
      "  Downloading https://download.pytorch.org/whl/cu116/torch-1.12.1%2Bcu116-cp39-cp39-win_amd64.whl (2388.0 MB)\n",
      "Collecting langdetect\n",
      "  Using cached langdetect-1.0.9.tar.gz (981 kB)\n",
      "Collecting sentence-transformers>=2.2.0\n",
      "  Using cached sentence-transformers-2.2.2.tar.gz (85 kB)\n",
      "Collecting huggingface-hub>=0.5.0\n",
      "  Using cached huggingface_hub-0.10.1-py3-none-any.whl (163 kB)\n",
      "Collecting posthog\n",
      "  Using cached posthog-2.1.2-py2.py3-none-any.whl (32 kB)\n",
      "Collecting transformers==4.21.2\n",
      "  Using cached transformers-4.21.2-py3-none-any.whl (4.7 MB)\n",
      "Requirement already satisfied: tqdm in c:\\users\\lowju\\anaconda3\\envs\\ai-assistant-env\\lib\\site-packages (from farm-haystack) (4.64.0)\n",
      "Collecting azure-ai-formrecognizer>=3.2.0b2\n",
      "  Using cached azure_ai_formrecognizer-3.2.0-py3-none-any.whl (228 kB)\n",
      "Requirement already satisfied: filelock in c:\\users\\lowju\\anaconda3\\envs\\ai-assistant-env\\lib\\site-packages (from transformers==4.21.2->farm-haystack) (3.6.0)\n",
      "Requirement already satisfied: numpy>=1.17 in c:\\users\\lowju\\anaconda3\\envs\\ai-assistant-env\\lib\\site-packages (from transformers==4.21.2->farm-haystack) (1.21.5)\n",
      "Requirement already satisfied: pyyaml>=5.1 in c:\\users\\lowju\\anaconda3\\envs\\ai-assistant-env\\lib\\site-packages (from transformers==4.21.2->farm-haystack) (6.0)\n",
      "Requirement already satisfied: packaging>=20.0 in c:\\users\\lowju\\anaconda3\\envs\\ai-assistant-env\\lib\\site-packages (from transformers==4.21.2->farm-haystack) (21.3)\n",
      "Requirement already satisfied: regex!=2019.12.17 in c:\\users\\lowju\\anaconda3\\envs\\ai-assistant-env\\lib\\site-packages (from transformers==4.21.2->farm-haystack) (2022.3.15)\n",
      "Collecting tokenizers!=0.11.3,<0.13,>=0.11.1\n",
      "  Downloading tokenizers-0.12.1-cp39-cp39-win_amd64.whl (3.3 MB)\n",
      "Requirement already satisfied: typing-extensions>=4.0.1 in c:\\users\\lowju\\anaconda3\\envs\\ai-assistant-env\\lib\\site-packages (from azure-ai-formrecognizer>=3.2.0b2->farm-haystack) (4.1.1)\n",
      "Collecting msrest>=0.6.21\n",
      "  Using cached msrest-0.7.1-py3-none-any.whl (85 kB)\n",
      "Collecting azure-common~=1.1\n",
      "  Using cached azure_common-1.1.28-py2.py3-none-any.whl (14 kB)\n",
      "Collecting azure-core<2.0.0,>=1.23.0\n",
      "  Using cached azure_core-1.26.0-py3-none-any.whl (178 kB)\n",
      "Requirement already satisfied: six>=1.11.0 in c:\\users\\lowju\\anaconda3\\envs\\ai-assistant-env\\lib\\site-packages (from azure-core<2.0.0,>=1.23.0->azure-ai-formrecognizer>=3.2.0b2->farm-haystack) (1.16.0)\n",
      "Requirement already satisfied: urllib3<2,>=1.21.1 in c:\\users\\lowju\\anaconda3\\envs\\ai-assistant-env\\lib\\site-packages (from elasticsearch<7.11,>=7.7->farm-haystack) (1.26.9)\n",
      "Requirement already satisfied: certifi in c:\\users\\lowju\\anaconda3\\envs\\ai-assistant-env\\lib\\site-packages (from elasticsearch<7.11,>=7.7->farm-haystack) (2021.10.8)\n",
      "Collecting isodate>=0.6.0\n",
      "  Using cached isodate-0.6.1-py2.py3-none-any.whl (41 kB)\n",
      "Collecting requests-oauthlib>=0.5.0\n",
      "  Using cached requests_oauthlib-1.3.1-py2.py3-none-any.whl (23 kB)\n",
      "Requirement already satisfied: pyparsing!=3.0.5,>=2.0.2 in c:\\users\\lowju\\anaconda3\\envs\\ai-assistant-env\\lib\\site-packages (from packaging>=20.0->transformers==4.21.2->farm-haystack) (3.0.4)\n",
      "Collecting jarowinkler<2.0.0,>=1.2.0\n",
      "  Downloading jarowinkler-1.2.3-cp39-cp39-win_amd64.whl (61 kB)\n",
      "Requirement already satisfied: charset-normalizer~=2.0.0 in c:\\users\\lowju\\anaconda3\\envs\\ai-assistant-env\\lib\\site-packages (from requests->farm-haystack) (2.0.4)\n",
      "Requirement already satisfied: idna<4,>=2.5 in c:\\users\\lowju\\anaconda3\\envs\\ai-assistant-env\\lib\\site-packages (from requests->farm-haystack) (3.3)\n",
      "Collecting oauthlib>=3.0.0\n",
      "  Using cached oauthlib-3.2.1-py3-none-any.whl (151 kB)\n",
      "Requirement already satisfied: joblib>=0.11 in c:\\users\\lowju\\anaconda3\\envs\\ai-assistant-env\\lib\\site-packages (from scikit-learn>=1.0.0->farm-haystack) (1.1.0)\n",
      "Requirement already satisfied: threadpoolctl>=2.0.0 in c:\\users\\lowju\\anaconda3\\envs\\ai-assistant-env\\lib\\site-packages (from scikit-learn>=1.0.0->farm-haystack) (2.2.0)\n",
      "Collecting torchvision\n",
      "  Downloading https://download.pytorch.org/whl/cu116/torchvision-0.13.1%2Bcu116-cp39-cp39-win_amd64.whl (2.6 MB)\n",
      "Collecting sentencepiece\n",
      "  Downloading sentencepiece-0.1.97-cp39-cp39-win_amd64.whl (1.1 MB)\n",
      "Requirement already satisfied: colorama in c:\\users\\lowju\\anaconda3\\envs\\ai-assistant-env\\lib\\site-packages (from tqdm->farm-haystack) (0.4.4)\n",
      "Requirement already satisfied: pyrsistent!=0.17.0,!=0.17.1,!=0.17.2,>=0.14.0 in c:\\users\\lowju\\anaconda3\\envs\\ai-assistant-env\\lib\\site-packages (from jsonschema->farm-haystack) (0.18.0)\n",
      "Requirement already satisfied: attrs>=17.4.0 in c:\\users\\lowju\\anaconda3\\envs\\ai-assistant-env\\lib\\site-packages (from jsonschema->farm-haystack) (21.4.0)\n",
      "Requirement already satisfied: cloudpickle<3 in c:\\users\\lowju\\anaconda3\\envs\\ai-assistant-env\\lib\\site-packages (from mlflow->farm-haystack) (2.0.0)\n",
      "Requirement already satisfied: click<9,>=7.0 in c:\\users\\lowju\\anaconda3\\envs\\ai-assistant-env\\lib\\site-packages (from mlflow->farm-haystack) (8.0.4)\n",
      "Collecting waitress<3\n",
      "  Using cached waitress-2.1.2-py3-none-any.whl (57 kB)\n",
      "Requirement already satisfied: protobuf<5,>=3.12.0 in c:\\users\\lowju\\anaconda3\\envs\\ai-assistant-env\\lib\\site-packages (from mlflow->farm-haystack) (3.19.1)\n",
      "Requirement already satisfied: Flask<3 in c:\\users\\lowju\\anaconda3\\envs\\ai-assistant-env\\lib\\site-packages (from mlflow->farm-haystack) (1.1.2)\n",
      "Collecting gitpython<4,>=2.1.0\n",
      "  Using cached GitPython-3.1.29-py3-none-any.whl (182 kB)\n",
      "Requirement already satisfied: importlib-metadata!=4.7.0,<5,>=3.7.0 in c:\\users\\lowju\\anaconda3\\envs\\ai-assistant-env\\lib\\site-packages (from mlflow->farm-haystack) (4.11.3)\n",
      "Collecting prometheus-flask-exporter<1\n",
      "  Using cached prometheus_flask_exporter-0.20.3-py3-none-any.whl (18 kB)\n",
      "Collecting querystring-parser<2\n",
      "  Using cached querystring_parser-1.2.4-py2.py3-none-any.whl (7.9 kB)\n",
      "Requirement already satisfied: pytz<2023 in c:\\users\\lowju\\anaconda3\\envs\\ai-assistant-env\\lib\\site-packages (from mlflow->farm-haystack) (2021.3)\n",
      "Collecting sqlparse<1,>=0.4.0\n",
      "  Using cached sqlparse-0.4.3-py3-none-any.whl (42 kB)\n",
      "Collecting docker<7,>=4.0.0\n",
      "  Using cached docker-6.0.0-py3-none-any.whl (147 kB)\n",
      "Requirement already satisfied: sqlalchemy<2,>=1.4.0 in c:\\users\\lowju\\anaconda3\\envs\\ai-assistant-env\\lib\\site-packages (from mlflow->farm-haystack) (1.4.32)\n",
      "Collecting databricks-cli<1,>=0.8.7\n",
      "  Using cached databricks-cli-0.17.3.tar.gz (77 kB)\n",
      "Requirement already satisfied: entrypoints<1 in c:\\users\\lowju\\anaconda3\\envs\\ai-assistant-env\\lib\\site-packages (from mlflow->farm-haystack) (0.4)\n",
      "Collecting alembic<2\n",
      "  Using cached alembic-1.8.1-py3-none-any.whl (209 kB)\n",
      "Collecting Mako\n",
      "  Using cached Mako-1.2.3-py3-none-any.whl (78 kB)\n",
      "Collecting pyjwt>=1.7.0\n",
      "  Using cached PyJWT-2.5.0-py3-none-any.whl (20 kB)\n",
      "Requirement already satisfied: tabulate>=0.7.7 in c:\\users\\lowju\\anaconda3\\envs\\ai-assistant-env\\lib\\site-packages (from databricks-cli<1,>=0.8.7->mlflow->farm-haystack) (0.8.9)\n",
      "Requirement already satisfied: websocket-client>=0.32.0 in c:\\users\\lowju\\anaconda3\\envs\\ai-assistant-env\\lib\\site-packages (from docker<7,>=4.0.0->mlflow->farm-haystack) (0.58.0)\n",
      "Collecting pywin32>=304\n",
      "  Downloading pywin32-304-cp39-cp39-win_amd64.whl (12.2 MB)\n",
      "Requirement already satisfied: itsdangerous>=0.24 in c:\\users\\lowju\\anaconda3\\envs\\ai-assistant-env\\lib\\site-packages (from Flask<3->mlflow->farm-haystack) (2.0.1)\n",
      "Requirement already satisfied: Werkzeug>=0.15 in c:\\users\\lowju\\anaconda3\\envs\\ai-assistant-env\\lib\\site-packages (from Flask<3->mlflow->farm-haystack) (2.0.3)\n",
      "Requirement already satisfied: Jinja2>=2.10.1 in c:\\users\\lowju\\anaconda3\\envs\\ai-assistant-env\\lib\\site-packages (from Flask<3->mlflow->farm-haystack) (2.11.3)\n",
      "Collecting gitdb<5,>=4.0.1\n",
      "  Using cached gitdb-4.0.9-py3-none-any.whl (63 kB)\n",
      "Collecting smmap<6,>=3.0.1\n",
      "  Using cached smmap-5.0.0-py3-none-any.whl (24 kB)\n",
      "Requirement already satisfied: zipp>=0.5 in c:\\users\\lowju\\anaconda3\\envs\\ai-assistant-env\\lib\\site-packages (from importlib-metadata!=4.7.0,<5,>=3.7.0->mlflow->farm-haystack) (3.7.0)\n",
      "Requirement already satisfied: MarkupSafe>=0.23 in c:\\users\\lowju\\anaconda3\\envs\\ai-assistant-env\\lib\\site-packages (from Jinja2>=2.10.1->Flask<3->mlflow->farm-haystack) (2.0.1)\n",
      "Requirement already satisfied: python-dateutil>=2.8.1 in c:\\users\\lowju\\anaconda3\\envs\\ai-assistant-env\\lib\\site-packages (from pandas->farm-haystack) (2.8.2)\n",
      "Requirement already satisfied: prometheus-client in c:\\users\\lowju\\anaconda3\\envs\\ai-assistant-env\\lib\\site-packages (from prometheus-flask-exporter<1->mlflow->farm-haystack) (0.13.1)\n",
      "Requirement already satisfied: greenlet!=0.4.17 in c:\\users\\lowju\\anaconda3\\envs\\ai-assistant-env\\lib\\site-packages (from sqlalchemy<2,>=1.4.0->mlflow->farm-haystack) (1.1.1)\n",
      "Collecting monotonic>=1.5\n",
      "  Using cached monotonic-1.6-py2.py3-none-any.whl (8.2 kB)\n",
      "Collecting backoff<2.0.0,>=1.10.0\n",
      "  Using cached backoff-1.11.1-py2.py3-none-any.whl (13 kB)\n",
      "Requirement already satisfied: lxml>=2.3.2 in c:\\users\\lowju\\anaconda3\\envs\\ai-assistant-env\\lib\\site-packages (from python-docx->farm-haystack) (4.8.0)\n",
      "Collecting num2words\n",
      "  Using cached num2words-0.5.12-py3-none-any.whl (125 kB)\n",
      "Collecting inflect\n",
      "  Using cached inflect-6.0.0-py3-none-any.whl (34 kB)\n",
      "Collecting docopt>=0.6.2\n",
      "  Using cached docopt-0.6.2.tar.gz (25 kB)\n",
      "Requirement already satisfied: setuptools in c:\\users\\lowju\\anaconda3\\envs\\ai-assistant-env\\lib\\site-packages (from tika->farm-haystack) (61.2.0)\n",
      "Requirement already satisfied: pillow!=8.3.*,>=5.3.0 in c:\\users\\lowju\\anaconda3\\envs\\ai-assistant-env\\lib\\site-packages (from torchvision->sentence-transformers>=2.2.0->farm-haystack) (9.0.1)\n",
      "Building wheels for collected packages: sentence-transformers, elastic-apm, langdetect, databricks-cli, python-docx, docopt, seqeval, tika\n",
      "  Building wheel for sentence-transformers (setup.py): started\n",
      "  Building wheel for sentence-transformers (setup.py): finished with status 'done'\n",
      "  Created wheel for sentence-transformers: filename=sentence_transformers-2.2.2-py3-none-any.whl size=125940 sha256=7b48b945d30d309467305e3b631d51f2f434bad4dbfdffff5dcbb34b8a5e79d4\n",
      "  Stored in directory: c:\\users\\lowju\\appdata\\local\\pip\\cache\\wheels\\71\\67\\06\\162a3760c40d74dd40bc855d527008d26341c2b0ecf3e8e11f\n",
      "  Building wheel for elastic-apm (PEP 517): started\n",
      "  Building wheel for elastic-apm (PEP 517): finished with status 'done'\n",
      "  Created wheel for elastic-apm: filename=elastic_apm-6.12.0-py3-none-any.whl size=330602 sha256=12416e1a5ad958a624604c1f537350eb42e2971506f4548953b76a33551b21d2\n",
      "  Stored in directory: c:\\users\\lowju\\appdata\\local\\pip\\cache\\wheels\\a8\\8c\\a1\\a3657d3c14a33edf9eaee26bd14ab20dbb5cdc73aa1f295b34\n",
      "  Building wheel for langdetect (setup.py): started\n",
      "  Building wheel for langdetect (setup.py): finished with status 'done'\n",
      "  Created wheel for langdetect: filename=langdetect-1.0.9-py3-none-any.whl size=993242 sha256=80b298b80a22bfdb2ca6804a63000c1ecfb8088c72d9cb11bca409b7e64093bf\n",
      "  Stored in directory: c:\\users\\lowju\\appdata\\local\\pip\\cache\\wheels\\d1\\c1\\d9\\7e068de779d863bc8f8fc9467d85e25cfe47fa5051fff1a1bb\n",
      "  Building wheel for databricks-cli (setup.py): started\n",
      "  Building wheel for databricks-cli (setup.py): finished with status 'done'\n",
      "  Created wheel for databricks-cli: filename=databricks_cli-0.17.3-py3-none-any.whl size=139099 sha256=968082016a1f02510c7dc7118b86a2dd40f4b21801a74e12fc9061e579c19228\n",
      "  Stored in directory: c:\\users\\lowju\\appdata\\local\\pip\\cache\\wheels\\7b\\ef\\c5\\85718fa9e66dec117e42d8b4d7b8a2e40ebdec17232935615f\n",
      "  Building wheel for python-docx (setup.py): started\n",
      "  Building wheel for python-docx (setup.py): finished with status 'done'\n",
      "  Created wheel for python-docx: filename=python_docx-0.8.11-py3-none-any.whl size=184507 sha256=8eb9719d9a0e30109dbb949ff80c82518af3b39643541dc780123faf3ffdb36e\n",
      "  Stored in directory: c:\\users\\lowju\\appdata\\local\\pip\\cache\\wheels\\83\\8b\\7c\\09ae60c42c7ba4ed2dddaf2b8b9186cb105255856d6ed3dba5\n",
      "  Building wheel for docopt (setup.py): started\n",
      "  Building wheel for docopt (setup.py): finished with status 'done'\n",
      "  Created wheel for docopt: filename=docopt-0.6.2-py2.py3-none-any.whl size=13723 sha256=1fe4383659870a3d21d19875b43bbff68f3031c7651e5ecc468b64a1417cf5ca\n",
      "  Stored in directory: c:\\users\\lowju\\appdata\\local\\pip\\cache\\wheels\\70\\4a\\46\\1309fc853b8d395e60bafaf1b6df7845bdd82c95fd59dd8d2b\n",
      "  Building wheel for seqeval (setup.py): started\n",
      "  Building wheel for seqeval (setup.py): finished with status 'done'\n",
      "  Created wheel for seqeval: filename=seqeval-1.2.2-py3-none-any.whl size=16180 sha256=e5dee4065eb987f8dce7c8fc83d10ee2ab05fd394b135c4dd369ce73ae6861e6\n",
      "  Stored in directory: c:\\users\\lowju\\appdata\\local\\pip\\cache\\wheels\\e2\\a5\\92\\2c80d1928733611c2747a9820e1324a6835524d9411510c142\n",
      "  Building wheel for tika (setup.py): started\n",
      "  Building wheel for tika (setup.py): finished with status 'done'\n",
      "  Created wheel for tika: filename=tika-1.24-py3-none-any.whl size=32891 sha256=535b4277058d6b17ce774241af90442dae507db48162e72450434f03facf4628\n",
      "  Stored in directory: c:\\users\\lowju\\appdata\\local\\pip\\cache\\wheels\\ec\\76\\38\\0e4b92d8a3a89cbfff5be03a40c02d15b2072b1b08ebf28d6a\n",
      "Successfully built sentence-transformers elastic-apm langdetect databricks-cli python-docx docopt seqeval tika\n",
      "Installing collected packages: smmap, oauthlib, torch, tokenizers, requests-oauthlib, pywin32, pyjwt, pydantic, Mako, isodate, huggingface-hub, gitdb, docopt, azure-core, waitress, transformers, torchvision, sqlparse, sentencepiece, querystring-parser, prometheus-flask-exporter, num2words, msrest, monotonic, jarowinkler, inflect, gitpython, docker, databricks-cli, backoff, azure-common, alembic, tika, seqeval, sentence-transformers, rapidfuzz, quantulum3, python-docx, posthog, more-itertools, mmh3, mlflow, langdetect, elasticsearch, elastic-apm, dill, azure-ai-formrecognizer, farm-haystack\n",
      "  Attempting uninstall: pywin32\n",
      "    Found existing installation: pywin32 302\n",
      "    Uninstalling pywin32-302:\n",
      "      Successfully uninstalled pywin32-302\n",
      "Successfully installed Mako-1.2.3 alembic-1.8.1 azure-ai-formrecognizer-3.2.0 azure-common-1.1.28 azure-core-1.26.0 backoff-1.11.1 databricks-cli-0.17.3 dill-0.3.5.1 docker-6.0.0 docopt-0.6.2 elastic-apm-6.12.0 elasticsearch-7.10.1 farm-haystack-1.9.1 gitdb-4.0.9 gitpython-3.1.29 huggingface-hub-0.10.1 inflect-6.0.0 isodate-0.6.1 jarowinkler-1.2.3 langdetect-1.0.9 mlflow-1.29.0 mmh3-3.0.0 monotonic-1.6 more-itertools-8.14.0 msrest-0.7.1 num2words-0.5.12 oauthlib-3.2.1 posthog-2.1.2 prometheus-flask-exporter-0.20.3 pydantic-1.10.2 pyjwt-2.5.0 python-docx-0.8.11 pywin32-304 quantulum3-0.7.10 querystring-parser-1.2.4 rapidfuzz-2.7.0 requests-oauthlib-1.3.1 sentence-transformers-2.2.2 sentencepiece-0.1.97 seqeval-1.2.2 smmap-5.0.0 sqlparse-0.4.3 tika-1.24 tokenizers-0.12.1 torch-1.12.1+cu116 torchvision-0.13.1+cu116 transformers-4.21.2 waitress-2.1.2\n"
     ]
    }
   ],
   "source": [
    "import sys\n",
    "\n",
    "!{sys.executable} -m pip install farm-haystack -f https://download.pytorch.org/whl/torch_stable.html\n",
    "!{sys.executable} -m pip install farm-haystack[ocr]"
   ]
  },
  {
   "cell_type": "code",
   "execution_count": 7,
   "id": "c9075e83",
   "metadata": {},
   "outputs": [
    {
     "name": "stderr",
     "output_type": "stream",
     "text": [
      "ERROR: Invalid requirement: \"'farm-haystack[ocr]'\"\n"
     ]
    }
   ],
   "source": []
  },
  {
   "cell_type": "code",
   "execution_count": 1,
   "id": "533d2f33",
   "metadata": {},
   "outputs": [],
   "source": [
    "import logging\n",
    "\n",
    "logging.basicConfig(format=\"%(levelname)s - %(name)s -  %(message)s\", level=logging.WARNING)\n",
    "logging.getLogger(\"haystack\").setLevel(logging.INFO)"
   ]
  },
  {
   "cell_type": "code",
   "execution_count": 2,
   "id": "dff8288b",
   "metadata": {},
   "outputs": [
    {
     "name": "stderr",
     "output_type": "stream",
     "text": [
      "INFO - haystack.modeling.utils -  Using devices: CUDA:0 - Number of GPUs: 1\n"
     ]
    }
   ],
   "source": [
    "from haystack.document_stores import InMemoryDocumentStore\n",
    "\n",
    "document_store = InMemoryDocumentStore()"
   ]
  },
  {
   "cell_type": "code",
   "execution_count": 4,
   "id": "3b53e292",
   "metadata": {},
   "outputs": [
    {
     "name": "stderr",
     "output_type": "stream",
     "text": [
      "INFO - haystack.utils.preprocessing -  Converting Datasets\\Watchman\\Alternative to Warfarin – WATCHMAN Implant.pdf\n",
      "INFO - haystack.utils.preprocessing -  Converting Datasets\\Watchman\\How The WATCHMAN Device Works.pdf\n",
      "INFO - haystack.utils.preprocessing -  Converting Datasets\\Watchman\\WATCHMAN Implant for Non-Valvular Afib Stroke Risk.pdf\n",
      "INFO - haystack.utils.preprocessing -  Converting Datasets\\Watchman\\WATCHMAN Procedure vs. Blood Thinners.pdf\n"
     ]
    },
    {
     "name": "stdout",
     "output_type": "stream",
     "text": [
      "[<Document: {'content': \"Alternative to Blood Thinners\\nTake a short survey to see if an implant could be\\nthe right stroke-risk reduction option for you\\nStart Here\\nThere are different treatments available to reduce your stroke risk if you have AFib. The most common are blood\\nthinners. Learn about blood thinner alternatives below.\\nIs There an Alternative to Blood Thinners?\\nBlood thinner medications, also called anticoagulant drugs, are an effective way to lower the risk of stroke in\\npeople with atrial fibrillation, or AFib, not caused by a heart valve problem.\\nThe blood thinner warfarin (also known as Coumadin®) has been around for more than 60 years. There are also\\nseveral newer blood thinners available now, including Eliquis® (apixaban), Pradaxa® (dabigatran),\\nXarelto® (rivaroxaban), and Savaysa® (edoxaban).\\nFor people who need an alternative, there are heart procedures that can effectively reduce the risk of stroke.\\nWATCHMAN is a permanent implant that does just that.\\nLearn more about who WATCHMAN is for\\nBlood Thinner Medications and AFib Stroke Risk\\n1\\n2\\nLike blood thinners, WATCHMAN can effectively reduce stroke\\nrisk. This permanent implant is for people with AFib not\\ncaused by a heart valve problem who need an alternative.\\nWATCHMAN or Blood Thinners?\\n2\\nOver a 1/3 of people with AFib feel trapped between the fear of\\nhaving a stroke and fear of the risks associated with blood\\nthinners. In fact, more than 4 in 5 people with AFib taking a\\nblood thinner (83%) say they would be willing to try a\\ndifferent treatment to help reduce their risk of stroke.\\nBeyond Blood Thinners\\n3\\nSee if the WATCHMAN\\nImplant is right for you \\uf054\\n×\\nMENU\\x0cSee if it's right for you See What Makes WATCHMAN Different\\nWarfarin is a common blood thinner prescribed to reduce stroke risk in people with atrial fibrillation. It’s been used\\nfor decades and is typically less expensive than the newer types of blood thinners—but it comes with certain\\nrequirements and restrictions.\\nRegular blood tests: With warfarin, you have to get regular blood tests—from twice a week to once a month,\\ndepending on your doctor’s recommendation. These tests measure your INR, or International Normalized\\nRatio, a number that tells how long it takes for your blood to clot.\\nDietary guidelines: Certain foods, like leafy greens, can affect your INR if you’re taking warfarin. Forgetting\\nto take your medication can also put you out of range. If you’re outside the recommended INR, you may be\\nat higher risk for stroke or higher risk for bleeding.\\nNewer blood thinners don’t come with the same dietary restrictions as warfarin, and they don’t require INR\\ntesting. If you have trouble with your warfarin treatment plan, your cardiologist may recommend that you take a\\ndifferent type of blood thinner. While these blood thinners offer additional options to warfarin, each medication\\ncomes with its own risks and benefits.\\nWarfarin vs Other Blood Thinner Medications\\n4,5\\n1\\nBlood thinners, or anticoagulants, are very effective at reducing the risk of stroke in people with atrial fibrillation,\\nand most people can take them for years without serious side effects. But because blood thinners help prevent\\nclots by thinning the blood, they also increase the risk of bleeding.\\nMinor bleeding: Most bleeding events are minor and easily treated, like a cut taking longer than normal to\\nstop bleeding. Some people bruise more easily on blood thinners. You should discuss any of these\\nsymptoms with your doctor.\\nMajor bleeding: In other cases, bleeding can be serious and require medical help or blood transfusions.\\nSometimes, the bleeding can be life-threatening, for example, when bleeding in the brain causes a stroke.\\nWhen considering your treatment options, your cardiologist will weigh your risk of a stroke against your risk of a\\nserious bleeding problem. These risks depend on several factors—for some people the risk of bleeding is higher\\nthan for others.\\nBlood Thinner Medications and Bleeding Risks\\n1\\n1\\nBlood Thinners Come with Challenges\\nWarfarin\\nBleeding Risk That Grows Over Time\\n•\\nDaily Pills\\n•\\nContinuing to Take Medication as Prescribed\\nLong-Term\\n•\\nRegular Blood (INR) Tests\\n•\\nAll Blood Thinners\\nBleeding Risk That Grows Over Time\\n•\\nDaily or 2x/Daily Pills\\n•\\nContinuing to Take Medication as Prescribed\\nLong-Term\\n•\\nComplicates Surgical Procedures\\n•\\nSee if the WATCHMAN\\nImplant is right for you \\uf054\\n×\\x0cFood and Drug Interaction Issues\\n•\\nComplicates Surgical Procedures\\n•\\nHigh Ongoing Cost\\n•\\nPatient Ambassadors are a community of people that have\\nreceived the WATCHMAN implant and have volunteered to\\nshare their personal experiences with potential patients.\\nSpeak to one of our Education Specialists to learn more\\nCall 1-844-355-9114\\nHear from a WATCHMAN Patient\\nWATCHMAN Educational Specialists are trained professionals\\nwith healthcare experience. They're here to help answer your\\nquestions.\\nCall 1-855-893-2606\\nMonday to Friday, 8AM to 5PM Central Time\\nQuestions about WATCHMAN?\\nSome people with atrial fibrillation who should take blood thinners to\\nreduce their stroke risk can’t due to their lifestyle or health history. Other\\nAFib patients choose not to take blood thinners due to side effects or for\\nother reasons.\\nLeft atrial appendage closure: A procedure called left atrial\\nappendage closure provides an alternative to blood thinners for\\npeople who need one. The left atrial appendage is a small pouch\\nat the top of the heart. When a blood clot escapes from the left\\natrial appendage and travels to another part of the body, it can cut\\noff the blood supply to the brain, causing a stroke. In people with\\nAFib not caused by a heart valve problem, more than 90% of\\nstroke-causing clots that come from the heart are formed in the\\nleft atrial appendage (LAA). Closing off the LAA is an effective way\\nto reduce stroke risk in these people.\\nThe WATCHMAN Implant is a left atrial appendage closure\\nprocedure. It is the most implanted, FDA-approved device proven\\nto reduce stroke risk in people with atrial fibrillation not caused by\\na heart valve problem (also referred to as non-valvular AFib).\\nLearn more about the WATCHMAN procedure ►\\nIt’s important to understand that a stroke can be caused by factors other\\nthan a clot escaping from the left atrial appendage. These causes can\\ninclude high blood pressure and the narrowing of blood vessels to the\\nbrain. Left atrial appendage closure will not prevent these other causes\\nof stroke.\\nIf You Can’t Take a Blood Thinner Long Term\\n1\\n6\\n7\\nSee if the WATCHMAN\\nImplant is right for you \\uf054\\n×\\x0cWATCHMAN is a one-time, minimally invasive procedure that\\npermanently reduces the risk of stroke and bleeding worry.\\nLearn more about WATCHMAN as an alternative to blood thinners ►\\nScience always looks for ways to make effective treatments even better.\\nWATCHMAN is no exception. The WATCHMAN FLX design is an\\nadvancement that enables the implant to fit a greater number of\\npatients. giving more people than ever a safe, effective alternative to\\nblood thinners should they need one.\\nIn a clinical trial, 96% of people were able to stop taking blood thinners\\njust 45 days after the WATCHMAN FLX procedure.\\nThis can mean a lower risk of bleeding from long-term blood thinner\\nuse. After getting WATCHMAN and stopping their blood thinner,\\npatients take aspirin and clopidogrel (Plavix®) for 6 months. After that,\\nthey take only aspirin on an ongoing basis.\\nHow Is WATCHMAN an Alternative to Blood Thinners?\\n8\\n9\\nIt’s important to understand that, like blood thinners, WATCHMAN does not cure AFib. But it does offer people with\\nAFib not caused by a heart valve problem a potentially life-changing alternative to taking daily blood thinners long\\nterm.\\nWATCHMAN may be right for you if you have one of following:\\nMajor bleeding while taking blood thinners\\n•\\nA lifestyle, occupation, or health concern that puts you at risk for bleeding\\n•\\nHave difficulties taking blood thinners as prescribed\\n•\\nIf you have atrial fibrillation not caused by a heart valve problem and need an alternative to blood thinners, here\\nare some questions to ask your cardiologist:\\nIf you think WATCHMAN could be right for you, answer a few questions and get a personalized guide for talking to\\nyour cardiologist.\\nAnswer a few questions and get a customized guide\\nQuestions to Ask Your Doctor\\nWhat are the risks and benefits of the different blood thinners?\\n•\\nDoes my lifestyle or health history put me at risk for serious bleeding?\\n•\\nAm I a candidate for left atrial appendage closure?\\n•\\nWhat should I know about the WATCHMAN Implant?\\n•\\nWhat are the differences in cost between blood thinners and the WATCHMAN Implant?\\n•\\nSee if the WATCHMAN\\nImplant is right for you \\uf054\\n×\\x0cWATCHMAN is the only FDA-approved implant proven to safely and effectively lower stroke risk in people with\\nAFib not caused by heart valve problems.\\nNEXT: Why Choose WATCHMAN\\n2\\nWATCHMAN is for people with atrial fibrillation not caused by a heart valve problem who need an alternative to\\nblood thinners. This website is intended to provide patients and caregivers with some information about the\\nWATCHMAN Implant. It may help prepare you for talking to your doctor about your options for reducing stroke risk.\\nImportant Safety Information\\nThe WATCHMAN and WATCHMAN FLX Devices are permanent implants designed to close the left atrial appendage\\nin the heart in an effort to reduce the risk of stroke.\\nWith all medical procedures there are risks associated with the implant procedure and the use of the device. The\\nrisks include but are not limited to accidental heart puncture, air embolism, allergic reaction, anemia, anesthesia\\nrisks, arrhythmias, AV (Arteriovenous) fistula, bleeding or throat pain from the TEE (Trans Esophageal Echo) probe,\\nblood clot or air bubbles in the lungs or other organs, bruising at the catheter insertion site, clot formation on the\\ndevice, cranial bleed, excessive bleeding, gastrointestinal bleeding, groin puncture bleed, hypotension,\\ninfection/pneumonia, pneumothorax, pulmonary edema, pulmonary vein obstruction, renal failure, stroke,\\nthrombosis and transient ischemic attack. In rare cases death can occur.\\nBe sure to talk with your doctor so that you thoroughly understand all of the risks and benefits associated with the\\nimplantation of the device.\\nReferences:\\n1. National Stroke Association. Making the Afib-Stroke Connection.https://www.stroke.org/sites/default/files/resources/Afib-Connection%20for%20hcp.pdf. Published\\n2012.Accessed September 1, 2016.\\n2. Holmes DR Jr, Doshi SK, Kar S, et al. Left atrial appendage closure as an alternative to warfarin for stroke prevention in atrial \\xad\\nbrillation: a patient-level meta-analysis. J Am Coll\\nCardiol. 2015;65(24):2614-2623.\\n3. WatchUsNow.com. The Harris Poll online survey. Boston Scientific. SH-574213-AA. https://www.watchusnow.com/?page=d75be9d4-ba36-456c-a72d-dc3df07892da. Accessed\\nMarch 28, 2019.\\n4. Agency for Healthcare Research and Quality (AHRQ). Blood Thinner Pills: Your Guide to Using Them Safely.http://www.ahrq.gov/sites/default/files/wysiwyg/patients-\\nconsumers/diagnosis-treatment/treatments/btpills/btpills.pdf. Published September 2015. Accessed September 8, 2016.\\n5. American Heart Association website. http://www.heart.org/HEARTORG/. Published 2017.Accessed June 1, 2017.\\n6. Blackshear JL, Odell JA. Appendage obliteration to reduce stroke in cardiac surgical patients with atrial fibrillation. Ann Thorac Surg. 1996;61:755-759.\\n7. American Stroke Association website. http://www.strokeassociation.org/STROKEORG/. American Heart Association. Published 2017. Accessed May 31, 2017.Cleveland Clinic.\\nAtrial fibrillation (Afib). http://my.clevelandclinic.org/services/heart/disorders/arrhythmia/atrial-fibrillation-afib. Published May 2015. Accessed August 25, 2016.\\n8. Kar, S., et al, Primary Outcome Evaluation of the Next Generation LAAC Device: Results from the PINNACLE FLX Trial, Circulation, 2021.\\n9. Price MJ, Reddy VY, Valderrábano M, et al. Bleeding outcomes after left atrial appendage closure compared with long-term warfarin. JACC Cardiovasc Interv. 2015;8(15):1925-\\n1932\\nUSA \\uf107\\nBoston Scientific is dedicated to transforming lives through innovative medical solutions\\nthat improve the health of patients globally.\\nFOLLOW US \\uf39e \\uf099 \\uf0e1\\nPrivacy Policy | Terms of Use | Copyright Notice | Contact Us | Sitemap\\n©2022 Boston Scientific Corporation or its affiliates. All rights reserved. All trademarks are property of their respective owners.\\nSee if the WATCHMAN\\nImplant is right for you \\uf054\\n×\\x0cSH-479801-AC\\nSee if the WATCHMAN\\nImplant is right for you \\uf054\\n×\", 'content_type': 'text', 'score': None, 'meta': {'name': 'Alternative to Warfarin – WATCHMAN Implant.pdf'}, 'embedding': None, 'id': '85bdf282ae67d26b742e8c730633001e'}>, <Document: {'content': \"It's not a pill. It's the\\nWATCHMAN Implant\\nAnswer a few short questions to see if you may\\nbe a candidate\\nStart Here\\nThe WATCHMAN Implant is a one-time, minimally invasive procedure for people with atrial fibrillation not caused\\nby a heart valve problem (also known as non-valvular AFib) who need an alternative to blood thinners.\\nNon-valvular Afib can mean a lifetime of blood thinners. It can also mean a lifetime of worry about issues like\\nbleeds and falls. More than 200,000 people have left blood thinners behind with the WATCHMAN Implant.\\nThe WATCHMAN Implant Difference\\nSee How the WATCHMAN Implant Works\\nSee why the WATCHMAN Implant reduces stroke risk and how the\\nprocedure is done.\\nTo understand how the WATCHMAN Implant works, it helps to know more about\\nthe connection between atrial fibrillation and stroke.\\nHow the WATCHMAN Implant Works\\n03:42\\nSee if the WATCHMAN\\nImplant is right for you \\uf054\\n×\\nMENU\\x0cAtrial fibrillation, or AFib, affects your heart’s ability to pump blood normally. This\\ncan cause blood to pool in an area of the heart called the left atrial appendage, or\\nLAA. There, blood cells can stick together and form a clot. When a blood clot\\nescapes from the LAA and travels to another part of the body, it can cut off the\\nblood supply to the brain, causing a stroke.\\nIn people with AFib not caused by a heart valve problem, more than 90% of\\nstroke-causing clots that come from the heart are formed in the LAA. That’s why\\nclosing off this part of the heart is an effective way to reduce stroke risk.\\nThe WATCHMAN Implant fits right into your LAA. It’s designed to permanently\\nclose it off and keep those blood clots from escaping. The WATCHMAN Implant is\\nabout the size of a quarter and made from very light and compact materials\\ncommonly used in many other medical implants.\\n1,2\\n1\\nScience always looks for ways to make effective treatments even better. The\\nWATCHMAN Implant is no exception. The WATCHMAN FLX Implant design is an\\nadvancement that enables the implant to fit a greater number of patients, giving\\nmore people than ever a safe, effective alternative to blood thinners should they\\nneed one.\\nIn a clinical trial, 96% of people were able to stop taking blood thinners just 45\\ndays after the WATCHMAN Implant procedure.3\\nThe WATCHMAN Implant is placed into your heart in a one-time procedure. It’s a permanent device that doesn’t\\nhave to be replaced and can’t be seen outside the body.\\nTo place the WATCHMAN Implant, your doctor makes a small cut in your upper leg and inserts a narrow tube. Your\\ndoctor then guides the WATCHMAN Implant into the left atrial appendage (LAA) of your heart. The procedure is\\ndone under general anesthesia and takes as little as 30 minutes. Patients commonly stay in the hospital for a day\\nor less.\\nThe WATCHMAN Implant Procedure\\nDue to the risk of having a medical procedure, patients should not be considered for the WATCHMAN Implant if\\nthey are doing well and expect to continue doing well on blood thinners.\\nSee if the WATCHMAN\\nImplant is right for you \\uf054\\n×\\x0cAnswer a few short questions to see if you may be a candidate\\nand get a customized guide to help you start a conversation\\nwith your doctor\\nGet Started\\nCould the WATCHMAN Implant be right\\nfor you?\\nWATCHMAN Educational Specialists are trained professionals\\nwith healthcare experience. They're here to help answer your\\nquestions.\\nCall 1-855-893-2606\\nMonday to Friday, 8AM to 5PM Central Time\\nQuestions about the WATCHMAN\\nImplant?\\nFollowing the WATCHMAN Implant procedure, you’ll take blood thinners\\nfor 45 days or until your LAA is permanently closed off. During this time,\\nheart tissue will grow over the implant to form a barrier against blood\\nclots. Your doctor will monitor this process by taking pictures of your\\nheart to see when you can stop taking your blood thinner.\\nYour doctor will then prescribe a medicine called clopidogrel (also\\nknown as Plavix®) and aspirin for you to take for 6 months. After that,\\nyou’ll continue to take aspirin on an ongoing basis. A very small number\\nof patients may need to keep taking blood thinners long term.\\nIn a clinical trial:\\nAfter the Procedure\\n96% of patients were able to stop taking blood thinners just 45\\ndays after the procedure\\n•\\n3\\nThe WATCHMAN Implant is the most implanted device of its kind\\napproved by the U.S. Food and Drug Administration (FDA) for reducing\\nthe risk of stroke in people with atrial fibrillation not caused by a heart\\nvalve problem.\\nMore than 200,000 WATCHMAN Implant procedures have been\\nperformed worldwide. With almost 20 years of clinical trial and real\\nworld experience - including 10 clinical trials - the WATCHMAN Implant\\nhas a proven safety record.\\nThe WATCHMAN Implant has a low major complication rate of 0.5%,\\nwhich is a similar rate to a cardiac ablation procedure.\\nAs with any medical procedure, there are risks involved with the\\nWATCHMAN Implant. See the Important Safety Information below for a\\nlist of possible complications, and ask your cardiologist about the risks\\nand benefits of the WATCHMAN Implant.\\n#1 Doctor Recommended\\n3*\\nSee if the WATCHMAN\\nImplant is right for you \\uf054\\n×\\x0cHear From the Doctors\\nHear from a team of doctors who perform the WATCHMAN\\nImplant and see inside the procedure room\\nGet a quick guide on the WATCHMAN Implant that you can\\nshare with your doctor or loved one.\\nDownload PDF\\nThe WATCHMAN Implant Alternative\\nIf you have AFib not caused by a heart valve problem and you need an alternative to blood thinners, the\\nWATCHMAN Implant may be right for you.\\nNEXT: Why Choose WATCHMAN\\nThe WATCHMAN Implant is for people with atrial fibrillation not caused by a heart valve problem who need an\\nalternative to blood thinners. This website is intended to provide patients and caregivers with some information\\nabout the WATCHMAN Implant. It may help prepare you for talking to your doctor about your options for reducing\\nstroke risk.\\nImportant Safety Information\\nThe WATCHMAN and WATCHMAN FLX Devices are permanent implants designed to close the left atrial appendage\\nin the heart in an effort to reduce the risk of stroke.\\nWith all medical procedures there are risks associated with the implant procedure and the use of the device. The\\nrisks include but are not limited to accidental heart puncture, air embolism, allergic reaction, anemia, anesthesia\\nrisks, arrhythmias, AV (Arteriovenous) fistula, bleeding or throat pain from the TEE (Trans Esophageal Echo) probe,\\nblood clot or air bubbles in the lungs or other organs, bruising at the catheter insertion site, clot formation on the\\ndevice, cranial bleed, excessive bleeding, gastrointestinal bleeding, groin puncture bleed, hypotension,\\ninfection/pneumonia, pneumothorax, pulmonary edema, pulmonary vein obstruction, renal failure, stroke,\\nthrombosis and transient ischemic attack. In rare cases death can occur.\\n02:43\\nSee if the WATCHMAN\\nImplant is right for you \\uf054\\n×\\x0cBe sure to talk with your doctor so that you thoroughly understand all of the risks and benefits associated with the\\nimplantation of the device.\\nReferences:\\n1. Blackshear JL, Odell JA. Appendage obliteration to reduce stroke in cardiac surgical patients with atrial fibrillation. Ann Thorac Surg. 1996;61:755-759.\\n2. National Stroke Association. Making the Afib-Stroke Connection. https://www.stroke.org/sites/default/files/resources/Afib-Connection%20for%20hcp.pdf. Published 2012.\\nAccessed September 1, 2016.\\n3. Kar, S., et al, Primary Outcome Evaluation of the Next Generation LAAC Device: Results from the PINNACLE FLX Trial, Circulation, 2021.\\n*In a post FDA approval analysys. Major complication is defined as an occurrence of one of the following events between the time of implant and within 7 days following the\\nprocedure or by hospital discharge, whichever is later: all-cause death, ischemic stroke, systemic embolism, or device or procedure related events requiring open cardiac\\nsurgery or major endovascular intervention.\\nUSA \\uf107\\nBoston Scientific is dedicated to transforming lives through innovative medical solutions\\nthat improve the health of patients globally.\\nFOLLOW US \\uf39e \\uf099 \\uf0e1\\nPrivacy Policy | Terms of Use | Copyright Notice | Contact Us | Sitemap\\n©2022 Boston Scientific Corporation or its affiliates. All rights reserved. All trademarks are property of their respective owners.\\nSH-508721-AD\\nSee if the WATCHMAN\\nImplant is right for you \\uf054\\n×\", 'content_type': 'text', 'score': None, 'meta': {'name': 'How The WATCHMAN Device Works.pdf'}, 'embedding': None, 'id': '69f555cef7b09873f4d75f030f68a300'}>, <Document: {'content': \"OVER 200,000 PEOPLE HAVE\\nLEFT BLOOD THINNERS BEHIND\\nWITH THE WATCHMAN IMPLANT.\\nAnswer a few questions about your AFib to\\nsee if the WATCHMAN Implant is right\\nfor you.\\nStart Here >\\nAFib doesn’t have to mean a lifetime of blood thinners. The\\nWATCHMAN Implant is a one‑time, minimally invasive procedure that\\nreduces stroke risk and bleeding worry for life.\\nOne Time. For a Lifetime.\\nAND COUNTING\\nLIVES CHANGED\\nTweet Email\\nShare\\nThere’s an alternative to blood thinners for people who need\\none. It’s called the WATCHMAN Implant. The most implanted,\\nFDA-approved device proven to reduce stroke risk in people\\nwith atrial fibrillation not caused by a heart valve problem (also\\nreferred to as non-valvular AFib). Watch the video to learn more\\nand talk to your cardiologist about the WATCHMAN Implant.\\nThe WATCHMAN Implant Reduces the\\nRisk of Stroke from Non‑valvular AFib\\nSee if the WATCHMAN\\nImplant is right for you \\uf054\\n×\\nMENU\\x0cSee How The WATCHMAN Implant Works\\nOver 1/3 of people with AFib feel trapped between the fear of having a\\nstroke and fear of the risks associated with blood thinners. In fact, more\\nthan 4 in 5 people with AFib taking a blood thinner (83%) say they\\nwould be willing to try a different treatment to help reduce their risk\\nof stroke.\\nSee What Makes the WATCHMAN Implant\\nDifferent\\nBeyond Blood Thinners\\n1\\nThe WATCHMAN Implant effectively reduces the risk of stroke—without\\nthe risk of bleeding that can come with the long-term use of blood\\nthinners.\\nSee Why People Choose the WATCHMAN\\nImplant\\nFor All the Right Reasons\\n2,3\\nWe have a lot of freedom now to do the things that we love to do\\ntogether, without all those fears.\\n— LINDA, 76\\n03:42\\nSee if the WATCHMAN\\nImplant is right for you \\uf054\\n×\\x0cSee this story about what life could be like without blood thinners after having the\\nWATCHMAN Implant procedure.\\n©2022 Boston Scientific Corporation and its affiliates. All rights reserved\\u200b\\nWATCHMAN Implant TV Commercial\\u200b\\nTweet Email\\nShare\\nAnswer a few short questions to see if you may be a candidate and get a customized guide to help you start a\\nconversation with your doctor\\nGet Started\\nCould the WATCHMAN Implant be right for you?\\nWATCHMAN Educational Specialists are trained professionals\\nwith healthcare experience. They're here to help answer your\\nquestions.\\nCall 1-855-893-2606\\nMonday to Friday, 8AM to 5PM Central Time\\nHave questions about the WATCHMAN\\nImplant?\\nJoin our community on Facebook to get updates and connect\\nwith others like you who are exploring the WATCHMAN\\nImplant.\\nJoin Now\\nFind Us on Facebook\\nReferences:\\n1. WatchUsNow.com. The Harris Poll online survey. Boston Scientific. SH-574213-AA. https://www.watchusnow.com/?page=d75be9d4-ba36-456c-\\na72d-dc3df07892da. Accessed March 28, 2019.\\n2. Holmes DR Jr, Doshi SK, Kar S, et al. Left atrial appendage closure as an alternative to warfarin for stroke prevention in atrial fibrillation: a patient-\\nlevel meta-analysis. J Am Coll Cardiol. 2015;65(24):2614-2623.\\n3. Price MJ, Reddy VY, Valderrábano M, et al. Bleeding outcomes after left atrial appendage closure compared with long-term warfarin. JACC\\nCardiovasc Interv.2015;8(15):1925-1932.\\nThe WATCHMAN Implant is for people with atrial fibrillation not caused by a heart valve problem who need an alternative to blood thinners. This website\\nis intended to provide patients and caregivers with some information about the WATCHMAN Implant. It may help prepare you for talking to your doctor\\nabout your options for reducing stroke risk.\\nImportant Safety Information\\nThe WATCHMAN and WATCHMAN FLX Devices are permanent implants designed to close the left atrial appendage in the heart in an effort to reduce the\\nrisk of stroke.\\n00:31\\nSee if the WATCHMAN\\nImplant is right for you \\uf054\\n×\\x0cWith all medical procedures there are risks associated with the implant procedure and the use of the device. The risks include but are not limited to\\naccidental heart puncture, air embolism, allergic reaction, anemia, anesthesia risks, arrhythmias, AV (Arteriovenous) fistula, bleeding or throat pain from\\nthe TEE (Trans Esophageal Echo) probe, blood clot or air bubbles in the lungs or other organs, bruising at the catheter insertion site, clot formation on the\\ndevice, cranial bleed, excessive bleeding, gastrointestinal bleeding, groin puncture bleed, hypotension, infection/pneumonia, pneumothorax, pulmonary\\nedema, pulmonary vein obstruction, renal failure, stroke, thrombosis and transient ischemic attack. In rare cases death can occur.\\nBe sure to talk with your doctor so that you thoroughly understand all of the risks and benefits associated with the implantation of the device.\\nUSA \\uf107\\nBoston Scientific is dedicated to transforming lives through innovative medical solutions\\nthat improve the health of patients globally.\\nFOLLOW US \\uf39e \\uf099 \\uf0e1\\nPrivacy Policy | Terms of Use | Copyright Notice | Contact Us | Sitemap\\n©2022 Boston Scientific Corporation or its affiliates. All rights reserved. All trademarks are property of their respective owners.\\nSH-508720-AF\\nSee if the WATCHMAN\\nImplant is right for you \\uf054\\n×\", 'content_type': 'text', 'score': None, 'meta': {'name': 'WATCHMAN Implant for Non-Valvular Afib Stroke Risk.pdf'}, 'embedding': None, 'id': '3009c1b472f32065d7c145ed1a56e421'}>]\n"
     ]
    }
   ],
   "source": [
    "from haystack.utils import clean_wiki_text, convert_files_to_docs, fetch_archive_from_http\n",
    "\n",
    "\n",
    "# Let's first get some documents that we want to query\n",
    "# Here: 517 Wikipedia articles for Game of Thrones\n",
    "doc_dir = \"Datasets/Watchman\"\n",
    "\n",
    "#s3_url = \"https://s3.eu-central-1.amazonaws.com/deepset.ai-farm-qa/datasets/documents/wiki_gameofthrones_txt3.zip\"\n",
    "#fetch_archive_from_http(url=s3_url, output_dir=doc_dir)\n",
    "\n",
    "# convert files to dicts containing documents that can be indexed to our datastore\n",
    "# You can optionally supply a cleaning function that is applied to each doc (e.g. to remove footers)\n",
    "# It must take a str as input, and return a str.\n",
    "docs = convert_files_to_docs(dir_path=doc_dir, split_paragraphs=True)\n",
    "\n",
    "# We now have a list of dictionaries that we can write to our document store.\n",
    "# If your texts come from a different source (e.g. a DB), you can of course skip convert_files_to_dicts() and create the dictionaries yourself.\n",
    "# The default format here is: {\"name\": \"<some-document-name>\", \"content\": \"<the-actual-text>\"}\n",
    "\n",
    "# Let's have a look at the first 3 entries:\n",
    "print(docs[:3])\n",
    "\n",
    "# Now, let's write the docs to our DB.\n",
    "document_store.write_documents(docs)"
   ]
  },
  {
   "cell_type": "code",
   "execution_count": 5,
   "id": "994e7099",
   "metadata": {},
   "outputs": [
    {
     "name": "stderr",
     "output_type": "stream",
     "text": [
      "INFO - haystack.nodes.retriever.sparse -  Found 4 candidate paragraphs from 4 docs in DB\n"
     ]
    }
   ],
   "source": [
    "from haystack.nodes import TfidfRetriever\n",
    "\n",
    "retriever = TfidfRetriever(document_store=document_store)"
   ]
  },
  {
   "cell_type": "code",
   "execution_count": 6,
   "id": "7184bdf4",
   "metadata": {},
   "outputs": [
    {
     "name": "stderr",
     "output_type": "stream",
     "text": [
      "INFO - haystack.modeling.utils -  Using devices: CUDA:0 - Number of GPUs: 1\n",
      "INFO - haystack.modeling.utils -  Using devices: CUDA:0 - Number of GPUs: 1\n"
     ]
    },
    {
     "data": {
      "application/vnd.jupyter.widget-view+json": {
       "model_id": "3a3018a54d4347a5a561698346962506",
       "version_major": 2,
       "version_minor": 0
      },
      "text/plain": [
       "Downloading config.json:   0%|          | 0.00/571 [00:00<?, ?B/s]"
      ]
     },
     "metadata": {},
     "output_type": "display_data"
    },
    {
     "name": "stderr",
     "output_type": "stream",
     "text": [
      "INFO - haystack.modeling.model.language_model -   * LOADING MODEL: 'deepset/roberta-base-squad2' (Roberta)\n"
     ]
    },
    {
     "data": {
      "application/vnd.jupyter.widget-view+json": {
       "model_id": "df14b8a214ea4d64a94ec5c58f3a251d",
       "version_major": 2,
       "version_minor": 0
      },
      "text/plain": [
       "Downloading pytorch_model.bin:   0%|          | 0.00/473M [00:00<?, ?B/s]"
      ]
     },
     "metadata": {},
     "output_type": "display_data"
    },
    {
     "name": "stderr",
     "output_type": "stream",
     "text": [
      "INFO - haystack.modeling.model.language_model -  Auto-detected model language: english\n",
      "INFO - haystack.modeling.model.language_model -  Loaded 'deepset/roberta-base-squad2' (Roberta model) from model hub.\n"
     ]
    },
    {
     "data": {
      "application/vnd.jupyter.widget-view+json": {
       "model_id": "fdcf06e74d594abbb229353b552c2421",
       "version_major": 2,
       "version_minor": 0
      },
      "text/plain": [
       "Downloading tokenizer_config.json:   0%|          | 0.00/79.0 [00:00<?, ?B/s]"
      ]
     },
     "metadata": {},
     "output_type": "display_data"
    },
    {
     "data": {
      "application/vnd.jupyter.widget-view+json": {
       "model_id": "595f546c72864f6c811dbf35b70d2a40",
       "version_major": 2,
       "version_minor": 0
      },
      "text/plain": [
       "Downloading vocab.json:   0%|          | 0.00/878k [00:00<?, ?B/s]"
      ]
     },
     "metadata": {},
     "output_type": "display_data"
    },
    {
     "data": {
      "application/vnd.jupyter.widget-view+json": {
       "model_id": "220abc1ab9dd433789aa62b7e1ca491a",
       "version_major": 2,
       "version_minor": 0
      },
      "text/plain": [
       "Downloading merges.txt:   0%|          | 0.00/446k [00:00<?, ?B/s]"
      ]
     },
     "metadata": {},
     "output_type": "display_data"
    },
    {
     "data": {
      "application/vnd.jupyter.widget-view+json": {
       "model_id": "c1ab4c697e7d43e19b4e23c191185b28",
       "version_major": 2,
       "version_minor": 0
      },
      "text/plain": [
       "Downloading special_tokens_map.json:   0%|          | 0.00/772 [00:00<?, ?B/s]"
      ]
     },
     "metadata": {},
     "output_type": "display_data"
    },
    {
     "name": "stderr",
     "output_type": "stream",
     "text": [
      "INFO - haystack.modeling.utils -  Using devices: CUDA:0 - Number of GPUs: 1\n",
      "INFO - haystack.modeling.infer -  Got ya 11 parallel workers to do inference ...\n",
      "INFO - haystack.modeling.infer -   0     0     0     0     0     0     0     0     0     0     0  \n",
      "INFO - haystack.modeling.infer -  /w\\   /w\\   /w\\   /w\\   /w\\   /w\\   /w\\   /|\\   /w\\   /w\\   /w\\ \n",
      "INFO - haystack.modeling.infer -  /'\\   / \\   /'\\   /'\\   / \\   / \\   /'\\   /'\\   /'\\   /'\\   /'\\ \n"
     ]
    }
   ],
   "source": [
    "from haystack.nodes import FARMReader\n",
    "\n",
    "\n",
    "# Load a  local model or any of the QA models on\n",
    "# Hugging Face's model hub (https://huggingface.co/models)\n",
    "reader = FARMReader(model_name_or_path=\"deepset/roberta-base-squad2\", use_gpu=True)"
   ]
  },
  {
   "cell_type": "code",
   "execution_count": 16,
   "id": "c768ba93",
   "metadata": {},
   "outputs": [],
   "source": [
    "from haystack.pipelines import ExtractiveQAPipeline\n",
    "\n",
    "pipe = ExtractiveQAPipeline(reader, retriever)"
   ]
  },
  {
   "cell_type": "code",
   "execution_count": 26,
   "id": "b68990d6",
   "metadata": {},
   "outputs": [
    {
     "name": "stderr",
     "output_type": "stream",
     "text": [
      "Inferencing Samples: 100%|██████████| 1/1 [00:00<00:00,  1.65 Batches/s]\n",
      "Inferencing Samples: 100%|██████████| 1/1 [00:00<00:00,  3.17 Batches/s]\n",
      "Inferencing Samples: 100%|██████████| 1/1 [00:00<00:00,  2.41 Batches/s]\n",
      "Inferencing Samples: 100%|██████████| 1/1 [00:00<00:00,  1.05 Batches/s]\n"
     ]
    }
   ],
   "source": [
    "# You can configure how many candidates the reader and retriever shall return\n",
    "# The higher top_k for retriever, the better (but also the slower) your answers.\n",
    "prediction = pipe.run(\n",
    "    query=\"What are the risks of a Watchman implant procedure?\", params={\"Retriever\": {\"top_k\": 10}, \"Reader\": {\"top_k\": 5}}\n",
    ")"
   ]
  },
  {
   "cell_type": "code",
   "execution_count": 27,
   "id": "faaeb5af",
   "metadata": {},
   "outputs": [
    {
     "name": "stdout",
     "output_type": "stream",
     "text": [
      "{'answers': [<Answer {'answer': 'stroke risk and bleeding worry for life', 'type': 'extractive', 'score': 0.5447235703468323, 'context': 's a one‑time, minimally invasive procedure that\\nreduces stroke risk and bleeding worry for life.\\nOne Time. For a Lifetime.\\nAND COUNTING\\nLIVES CHANGED\\n', 'offsets_in_document': [{'start': 314, 'end': 353}], 'offsets_in_context': [{'start': 56, 'end': 95}], 'document_id': '3009c1b472f32065d7c145ed1a56e421', 'meta': {'name': 'WATCHMAN Implant for Non-Valvular Afib Stroke Risk.pdf'}}>,\n",
      "             <Answer {'answer': 'stroke', 'type': 'extractive', 'score': 0.4704113006591797, 'context': 'by the U.S. Food and Drug Administration (FDA) for reducing\\nthe risk of stroke in people with atrial fibrillation not caused by a heart\\nvalve problem.', 'offsets_in_document': [{'start': 4345, 'end': 4351}], 'offsets_in_context': [{'start': 72, 'end': 78}], 'document_id': '69f555cef7b09873f4d75f030f68a300', 'meta': {'name': 'How The WATCHMAN Device Works.pdf'}}>,\n",
      "             <Answer {'answer': 'people with atrial fibrillation not caused by a heart valve problem who need an\\nalternative to blood thinners', 'type': 'extractive', 'score': 0.43645891547203064, 'context': 'CHMAN Implant is for people with atrial fibrillation not caused by a heart valve problem who need an\\nalternative to blood thinners. This website is in', 'offsets_in_document': [{'start': 5459, 'end': 5568}], 'offsets_in_context': [{'start': 21, 'end': 130}], 'document_id': 'd1d9663f7c13151d5153f8bdd7ea7aaf', 'meta': {'name': 'WATCHMAN Procedure vs. Blood Thinners.pdf'}}>,\n",
      "             <Answer {'answer': 'stroke', 'type': 'extractive', 'score': 0.4037986397743225, 'context': 'See How the WATCHMAN Implant Works\\nSee why the WATCHMAN Implant reduces stroke risk and how the\\nprocedure is done.\\nTo understand how the WATCHMAN Impl', 'offsets_in_document': [{'start': 648, 'end': 654}], 'offsets_in_context': [{'start': 72, 'end': 78}], 'document_id': '69f555cef7b09873f4d75f030f68a300', 'meta': {'name': 'How The WATCHMAN Device Works.pdf'}}>,\n",
      "             <Answer {'answer': 'accidental heart puncture, air embolism, allergic reaction, anemia, anesthesia\\nrisks', 'type': 'extractive', 'score': 0.3910960257053375, 'context': 's include but are not limited to accidental heart puncture, air embolism, allergic reaction, anemia, anesthesia\\nrisks, arrhythmias, AV (Arteriovenous)', 'offsets_in_document': [{'start': 6116, 'end': 6200}], 'offsets_in_context': [{'start': 33, 'end': 117}], 'document_id': 'd1d9663f7c13151d5153f8bdd7ea7aaf', 'meta': {'name': 'WATCHMAN Procedure vs. Blood Thinners.pdf'}}>],\n",
      " 'documents': [<Document: {'content': \"It's not a pill. It's the\\nWATCHMAN Implant\\nAnswer a few short questions to see if you may\\nbe a candidate\\nStart Here\\nThe WATCHMAN Implant is a one-time, minimally invasive procedure for people with atrial fibrillation not caused\\nby a heart valve problem (also known as non-valvular AFib) who need an alternative to blood thinners.\\nNon-valvular Afib can mean a lifetime of blood thinners. It can also mean a lifetime of worry about issues like\\nbleeds and falls. More than 200,000 people have left blood thinners behind with the WATCHMAN Implant.\\nThe WATCHMAN Implant Difference\\nSee How the WATCHMAN Implant Works\\nSee why the WATCHMAN Implant reduces stroke risk and how the\\nprocedure is done.\\nTo understand how the WATCHMAN Implant works, it helps to know more about\\nthe connection between atrial fibrillation and stroke.\\nHow the WATCHMAN Implant Works\\n03:42\\nSee if the WATCHMAN\\nImplant is right for you \\uf054\\n×\\nMENU\\x0cAtrial fibrillation, or AFib, affects your heart’s ability to pump blood normally. This\\ncan cause blood to pool in an area of the heart called the left atrial appendage, or\\nLAA. There, blood cells can stick together and form a clot. When a blood clot\\nescapes from the LAA and travels to another part of the body, it can cut off the\\nblood supply to the brain, causing a stroke.\\nIn people with AFib not caused by a heart valve problem, more than 90% of\\nstroke-causing clots that come from the heart are formed in the LAA. That’s why\\nclosing off this part of the heart is an effective way to reduce stroke risk.\\nThe WATCHMAN Implant fits right into your LAA. It’s designed to permanently\\nclose it off and keep those blood clots from escaping. The WATCHMAN Implant is\\nabout the size of a quarter and made from very light and compact materials\\ncommonly used in many other medical implants.\\n1,2\\n1\\nScience always looks for ways to make effective treatments even better. The\\nWATCHMAN Implant is no exception. The WATCHMAN FLX Implant design is an\\nadvancement that enables the implant to fit a greater number of patients, giving\\nmore people than ever a safe, effective alternative to blood thinners should they\\nneed one.\\nIn a clinical trial, 96% of people were able to stop taking blood thinners just 45\\ndays after the WATCHMAN Implant procedure.3\\nThe WATCHMAN Implant is placed into your heart in a one-time procedure. It’s a permanent device that doesn’t\\nhave to be replaced and can’t be seen outside the body.\\nTo place the WATCHMAN Implant, your doctor makes a small cut in your upper leg and inserts a narrow tube. Your\\ndoctor then guides the WATCHMAN Implant into the left atrial appendage (LAA) of your heart. The procedure is\\ndone under general anesthesia and takes as little as 30 minutes. Patients commonly stay in the hospital for a day\\nor less.\\nThe WATCHMAN Implant Procedure\\nDue to the risk of having a medical procedure, patients should not be considered for the WATCHMAN Implant if\\nthey are doing well and expect to continue doing well on blood thinners.\\nSee if the WATCHMAN\\nImplant is right for you \\uf054\\n×\\x0cAnswer a few short questions to see if you may be a candidate\\nand get a customized guide to help you start a conversation\\nwith your doctor\\nGet Started\\nCould the WATCHMAN Implant be right\\nfor you?\\nWATCHMAN Educational Specialists are trained professionals\\nwith healthcare experience. They're here to help answer your\\nquestions.\\nCall 1-855-893-2606\\nMonday to Friday, 8AM to 5PM Central Time\\nQuestions about the WATCHMAN\\nImplant?\\nFollowing the WATCHMAN Implant procedure, you’ll take blood thinners\\nfor 45 days or until your LAA is permanently closed off. During this time,\\nheart tissue will grow over the implant to form a barrier against blood\\nclots. Your doctor will monitor this process by taking pictures of your\\nheart to see when you can stop taking your blood thinner.\\nYour doctor will then prescribe a medicine called clopidogrel (also\\nknown as Plavix®) and aspirin for you to take for 6 months. After that,\\nyou’ll continue to take aspirin on an ongoing basis. A very small number\\nof patients may need to keep taking blood thinners long term.\\nIn a clinical trial:\\nAfter the Procedure\\n96% of patients were able to stop taking blood thinners just 45\\ndays after the procedure\\n•\\n3\\nThe WATCHMAN Implant is the most implanted device of its kind\\napproved by the U.S. Food and Drug Administration (FDA) for reducing\\nthe risk of stroke in people with atrial fibrillation not caused by a heart\\nvalve problem.\\nMore than 200,000 WATCHMAN Implant procedures have been\\nperformed worldwide. With almost 20 years of clinical trial and real\\nworld experience - including 10 clinical trials - the WATCHMAN Implant\\nhas a proven safety record.\\nThe WATCHMAN Implant has a low major complication rate of 0.5%,\\nwhich is a similar rate to a cardiac ablation procedure.\\nAs with any medical procedure, there are risks involved with the\\nWATCHMAN Implant. See the Important Safety Information below for a\\nlist of possible complications, and ask your cardiologist about the risks\\nand benefits of the WATCHMAN Implant.\\n#1 Doctor Recommended\\n3*\\nSee if the WATCHMAN\\nImplant is right for you \\uf054\\n×\\x0cHear From the Doctors\\nHear from a team of doctors who perform the WATCHMAN\\nImplant and see inside the procedure room\\nGet a quick guide on the WATCHMAN Implant that you can\\nshare with your doctor or loved one.\\nDownload PDF\\nThe WATCHMAN Implant Alternative\\nIf you have AFib not caused by a heart valve problem and you need an alternative to blood thinners, the\\nWATCHMAN Implant may be right for you.\\nNEXT: Why Choose WATCHMAN\\nThe WATCHMAN Implant is for people with atrial fibrillation not caused by a heart valve problem who need an\\nalternative to blood thinners. This website is intended to provide patients and caregivers with some information\\nabout the WATCHMAN Implant. It may help prepare you for talking to your doctor about your options for reducing\\nstroke risk.\\nImportant Safety Information\\nThe WATCHMAN and WATCHMAN FLX Devices are permanent implants designed to close the left atrial appendage\\nin the heart in an effort to reduce the risk of stroke.\\nWith all medical procedures there are risks associated with the implant procedure and the use of the device. The\\nrisks include but are not limited to accidental heart puncture, air embolism, allergic reaction, anemia, anesthesia\\nrisks, arrhythmias, AV (Arteriovenous) fistula, bleeding or throat pain from the TEE (Trans Esophageal Echo) probe,\\nblood clot or air bubbles in the lungs or other organs, bruising at the catheter insertion site, clot formation on the\\ndevice, cranial bleed, excessive bleeding, gastrointestinal bleeding, groin puncture bleed, hypotension,\\ninfection/pneumonia, pneumothorax, pulmonary edema, pulmonary vein obstruction, renal failure, stroke,\\nthrombosis and transient ischemic attack. In rare cases death can occur.\\n02:43\\nSee if the WATCHMAN\\nImplant is right for you \\uf054\\n×\\x0cBe sure to talk with your doctor so that you thoroughly understand all of the risks and benefits associated with the\\nimplantation of the device.\\nReferences:\\n1. Blackshear JL, Odell JA. Appendage obliteration to reduce stroke in cardiac surgical patients with atrial fibrillation. Ann Thorac Surg. 1996;61:755-759.\\n2. National Stroke Association. Making the Afib-Stroke Connection. https://www.stroke.org/sites/default/files/resources/Afib-Connection%20for%20hcp.pdf. Published 2012.\\nAccessed September 1, 2016.\\n3. Kar, S., et al, Primary Outcome Evaluation of the Next Generation LAAC Device: Results from the PINNACLE FLX Trial, Circulation, 2021.\\n*In a post FDA approval analysys. Major complication is defined as an occurrence of one of the following events between the time of implant and within 7 days following the\\nprocedure or by hospital discharge, whichever is later: all-cause death, ischemic stroke, systemic embolism, or device or procedure related events requiring open cardiac\\nsurgery or major endovascular intervention.\\nUSA \\uf107\\nBoston Scientific is dedicated to transforming lives through innovative medical solutions\\nthat improve the health of patients globally.\\nFOLLOW US \\uf39e \\uf099 \\uf0e1\\nPrivacy Policy | Terms of Use | Copyright Notice | Contact Us | Sitemap\\n©2022 Boston Scientific Corporation or its affiliates. All rights reserved. All trademarks are property of their respective owners.\\nSH-508721-AD\\nSee if the WATCHMAN\\nImplant is right for you \\uf054\\n×\", 'content_type': 'text', 'score': None, 'meta': {'name': 'How The WATCHMAN Device Works.pdf'}, 'embedding': None, 'id': '69f555cef7b09873f4d75f030f68a300'}>,\n",
      "               <Document: {'content': \"OVER 200,000 PEOPLE HAVE\\nLEFT BLOOD THINNERS BEHIND\\nWITH THE WATCHMAN IMPLANT.\\nAnswer a few questions about your AFib to\\nsee if the WATCHMAN Implant is right\\nfor you.\\nStart Here >\\nAFib doesn’t have to mean a lifetime of blood thinners. The\\nWATCHMAN Implant is a one‑time, minimally invasive procedure that\\nreduces stroke risk and bleeding worry for life.\\nOne Time. For a Lifetime.\\nAND COUNTING\\nLIVES CHANGED\\nTweet Email\\nShare\\nThere’s an alternative to blood thinners for people who need\\none. It’s called the WATCHMAN Implant. The most implanted,\\nFDA-approved device proven to reduce stroke risk in people\\nwith atrial fibrillation not caused by a heart valve problem (also\\nreferred to as non-valvular AFib). Watch the video to learn more\\nand talk to your cardiologist about the WATCHMAN Implant.\\nThe WATCHMAN Implant Reduces the\\nRisk of Stroke from Non‑valvular AFib\\nSee if the WATCHMAN\\nImplant is right for you \\uf054\\n×\\nMENU\\x0cSee How The WATCHMAN Implant Works\\nOver 1/3 of people with AFib feel trapped between the fear of having a\\nstroke and fear of the risks associated with blood thinners. In fact, more\\nthan 4 in 5 people with AFib taking a blood thinner (83%) say they\\nwould be willing to try a different treatment to help reduce their risk\\nof stroke.\\nSee What Makes the WATCHMAN Implant\\nDifferent\\nBeyond Blood Thinners\\n1\\nThe WATCHMAN Implant effectively reduces the risk of stroke—without\\nthe risk of bleeding that can come with the long-term use of blood\\nthinners.\\nSee Why People Choose the WATCHMAN\\nImplant\\nFor All the Right Reasons\\n2,3\\nWe have a lot of freedom now to do the things that we love to do\\ntogether, without all those fears.\\n— LINDA, 76\\n03:42\\nSee if the WATCHMAN\\nImplant is right for you \\uf054\\n×\\x0cSee this story about what life could be like without blood thinners after having the\\nWATCHMAN Implant procedure.\\n©2022 Boston Scientific Corporation and its affiliates. All rights reserved\\u200b\\nWATCHMAN Implant TV Commercial\\u200b\\nTweet Email\\nShare\\nAnswer a few short questions to see if you may be a candidate and get a customized guide to help you start a\\nconversation with your doctor\\nGet Started\\nCould the WATCHMAN Implant be right for you?\\nWATCHMAN Educational Specialists are trained professionals\\nwith healthcare experience. They're here to help answer your\\nquestions.\\nCall 1-855-893-2606\\nMonday to Friday, 8AM to 5PM Central Time\\nHave questions about the WATCHMAN\\nImplant?\\nJoin our community on Facebook to get updates and connect\\nwith others like you who are exploring the WATCHMAN\\nImplant.\\nJoin Now\\nFind Us on Facebook\\nReferences:\\n1. WatchUsNow.com. The Harris Poll online survey. Boston Scientific. SH-574213-AA. https://www.watchusnow.com/?page=d75be9d4-ba36-456c-\\na72d-dc3df07892da. Accessed March 28, 2019.\\n2. Holmes DR Jr, Doshi SK, Kar S, et al. Left atrial appendage closure as an alternative to warfarin for stroke prevention in atrial fibrillation: a patient-\\nlevel meta-analysis. J Am Coll Cardiol. 2015;65(24):2614-2623.\\n3. Price MJ, Reddy VY, Valderrábano M, et al. Bleeding outcomes after left atrial appendage closure compared with long-term warfarin. JACC\\nCardiovasc Interv.2015;8(15):1925-1932.\\nThe WATCHMAN Implant is for people with atrial fibrillation not caused by a heart valve problem who need an alternative to blood thinners. This website\\nis intended to provide patients and caregivers with some information about the WATCHMAN Implant. It may help prepare you for talking to your doctor\\nabout your options for reducing stroke risk.\\nImportant Safety Information\\nThe WATCHMAN and WATCHMAN FLX Devices are permanent implants designed to close the left atrial appendage in the heart in an effort to reduce the\\nrisk of stroke.\\n00:31\\nSee if the WATCHMAN\\nImplant is right for you \\uf054\\n×\\x0cWith all medical procedures there are risks associated with the implant procedure and the use of the device. The risks include but are not limited to\\naccidental heart puncture, air embolism, allergic reaction, anemia, anesthesia risks, arrhythmias, AV (Arteriovenous) fistula, bleeding or throat pain from\\nthe TEE (Trans Esophageal Echo) probe, blood clot or air bubbles in the lungs or other organs, bruising at the catheter insertion site, clot formation on the\\ndevice, cranial bleed, excessive bleeding, gastrointestinal bleeding, groin puncture bleed, hypotension, infection/pneumonia, pneumothorax, pulmonary\\nedema, pulmonary vein obstruction, renal failure, stroke, thrombosis and transient ischemic attack. In rare cases death can occur.\\nBe sure to talk with your doctor so that you thoroughly understand all of the risks and benefits associated with the implantation of the device.\\nUSA \\uf107\\nBoston Scientific is dedicated to transforming lives through innovative medical solutions\\nthat improve the health of patients globally.\\nFOLLOW US \\uf39e \\uf099 \\uf0e1\\nPrivacy Policy | Terms of Use | Copyright Notice | Contact Us | Sitemap\\n©2022 Boston Scientific Corporation or its affiliates. All rights reserved. All trademarks are property of their respective owners.\\nSH-508720-AF\\nSee if the WATCHMAN\\nImplant is right for you \\uf054\\n×\", 'content_type': 'text', 'score': None, 'meta': {'name': 'WATCHMAN Implant for Non-Valvular Afib Stroke Risk.pdf'}, 'embedding': None, 'id': '3009c1b472f32065d7c145ed1a56e421'}>,\n",
      "               <Document: {'content': \"Now I'm ready for an\\nalternative\\nAnswer a few short questions to see if you may\\nbe a candidate\\nGet Started\\nThe WATCHMAN Implant may be a life-changing alternative to the lifelong use of blood thinners for those who\\nneed one. In a one-time procedure, the WATCHMAN Implant effectively reduces the risk of stroke in people with\\natrial fibrillation not caused by a heart valve problem.\\nWhy the WATCHMAN Implant\\n1\\nOver 1/3 of people with AFib feel trapped between\\nthe fear of having a stroke and fear of the risks\\nassociated with blood thinners. In fact, more than 4\\nin 5 people with AFib taking a blood thinner (83%)\\nsay they would be willing to try a different\\ntreatment to help reduce their risk of stroke.\\nAs a permanent procedure, the WATCHMAN Implant\\ndoesn’t come with the same bleeding risks\\nassociated with the long-term use of blood\\nthinners. This makes it an important option for\\npeople with a history or risk of serious bleeding on\\nblood thinners.\\n2\\n3\\nIf you have atrial fibrillation and you take a blood thinner to reduce your stroke risk, you’re probably aware of the\\nbleeding risks that come with your medication. The longer you’re on blood thinners, the more you’re at risk for a\\nbleeding episode.\\nHear about these real people who had serious bleeding events while taking blood thinners. In the following\\nvideos, they talk about their experiences, the effects on their families, and why their doctors recommended the\\nWATCHMAN Implant. If you, too, have a history of serious bleeding, then the WATCHMAN Implant may be right for\\nReal People and the WATCHMAN Implant\\nSee if the WATCHMAN\\nImplant is right for you \\uf054\\n×\\nMENU\\x0cyou.\\nYou may also be a candidate for the WATCHMAN Implant if you have a lifestyle or condition that increases your risk\\nfor serious bleeding. Certain lifestyles or conditions may increase your bleeding risk by putting you at higher risk\\nfor falls or making you prone to injury in other ways. Talk to your cardiologist about your risk.\\nFor Linda, the fear and anxiety of blood thinners was keeping her\\nfrom enjoying her retirement with her husband, Skip. Now that\\nshe has the WATCHMAN Implant, she feels free to travel and\\nmake the most of her retirement community.\\n(Video length: 2:28)\\nTweet Email\\n“After the WATCHMAN, the difference in Linda is\\nnight and day.”\\nShare\\nFred struggled with bleeding issues from blood thinners. Hear\\nhow the WATCHMAN Implant helped him take back control of his\\nhealth.\\n(Video length: 3:07)\\nTweet Email\\n“It's like having a big weight lifted off your\\nshoulders.”\\nShare\\nWhat’s the procedure like? Can you have the WATCHMAN\\nImplant if you also have a stent? How is life different after the\\nWATCHMAN Implant? Seven people who left blood thinners\\nbehind answer questions like these.\\n(Video length: 2:44)\\nTweet Email\\nThe most common questions about the\\nWATCHMAN Implant, answered by patients\\nShare\\n“It's put our mind at ease so we can start enjoying our life again.” \\u200b\\nHear from people who chose to have the WATCHMAN Implant procedure during COVID‑19 and how it’s\\nhelped them find comfort.\\nGetting the WATCHMAN Implant During COVID‑19\\u200b\\n02:29\\n03:08\\n02:44\\nSee if the WATCHMAN\\nImplant is right for you \\uf054\\n×\\x0cTweet Email\\nShare\\nPeople with atrial fibrillation not caused by a heart valve problem are often prescribed blood thinners to reduce\\ntheir stroke risk but they can come with challenges and bleeding worry. Taking a blood thinner means daily pills,\\nlong-term usage, complications to surgeries and increased bleeding risk which grows over time.\\nIf you need an alternative, talk to your cardiologist about whether the WATCHMAN Implant is right for you.\\nIf You Struggle with Blood Thinners\\nAnswer a few short questions to see if you may be a candidate and get a customized guide to help you start a\\nconversation with your doctor\\nGet Started\\nCould the WATCHMAN Implant be right for you?\\nPatient Ambassadors are a community of people that have\\nreceived the WATCHMAN Implant and have volunteered to\\nshare their personal experiences with potential patients.\\nSpeak to one of our Education Specialists to learn more\\nCall 1-844-355-9114\\nSpeak to a WATCHMAN Implant patient\\nJoin our community on Facebook to get updates and connect\\nwith others like you who are exploring the WATCHMAN\\nImplant.\\nJoin Now\\nFind Us on Facebook\\n02:47\\nSee if the WATCHMAN\\nImplant is right for you \\uf054\\n×\\x0cThe WATCHMAN Implant may be right for people who:\\nPeople may need an alternative to blood thinners for any one of these\\nreasons:\\nAs with any medical procedure, there are risks involved with the WATCHMAN Implant. See the\\nImportant Safety Information below for a list of possible complications, and ask your\\ncardiologist about the risks and benefits of the WATCHMAN Implant.\\nWho the WATCHMAN Implant Is For\\nHave atrial fi\\xad\\nbrillation not caused by a heart valve problem (also\\nknown as non-valvular AFib)\\n•\\nHave been recommended for blood thinning medicines by their\\ndoctor\\n•\\nCan take short term blood thinners but need an alternative\\n•\\nHave had major bleeding while taking blood thinners\\n•\\nHave a lifestyle, occupation, or condition that puts them at risk for\\nmajor bleeding\\n•\\nHave difficulties taking their blood thinner as prescribed (staying in\\nINR range, following dietary restrictions, missing doses or inability\\nto afford the prescription)\\n•\\nIf you’re ready to talk to your doctor about the WATCHMAN Implant, get a customized guide that can help you\\nask the right questions.\\nNEXT: Getting the WATCHMAN Implant\\nThe WATCHMAN Implant is for people with atrial fibrillation not caused by a heart valve problem who need an\\nalternative to blood thinners. This website is intended to provide patients and caregivers with some information\\nabout the WATCHMAN Implant. It may help prepare you for talking to your doctor about your options for reducing\\nstroke risk.\\nImportant Safety Information\\nThe WATCHMAN and WATCHMAN FLX Devices are permanent implants designed to close the left atrial appendage\\nin the heart in an effort to reduce the risk of stroke.\\nWith all medical procedures there are risks associated with the implant procedure and the use of the device. The\\nrisks include but are not limited to accidental heart puncture, air embolism, allergic reaction, anemia, anesthesia\\nrisks, arrhythmias, AV (Arteriovenous) fistula, bleeding or throat pain from the TEE (Trans Esophageal Echo) probe,\\nblood clot or air bubbles in the lungs or other organs, bruising at the catheter insertion site, clot formation on the\\nSee if the WATCHMAN\\nImplant is right for you \\uf054\\n×\\x0cdevice, cranial bleed, excessive bleeding, gastrointestinal bleeding, groin puncture bleed, hypotension,\\ninfection/pneumonia, pneumothorax, pulmonary edema, pulmonary vein obstruction, renal failure, stroke,\\nthrombosis and transient ischemic attack. In rare cases death can occur.\\nBe sure to talk with your doctor so that you thoroughly understand all of the risks and benefits associated with the\\nimplantation of the device.\\nReferences:\\n1. Holmes DR Jr, Doshi SK, Kar S, et al. Left atrial appendage closure as an alternative to warfarin for stroke prevention in atrial fibrillation: a patient-level meta-analysis. J Am Coll\\nCardiol. 2015;65(24):2614-2623.\\n2. WatchUsNow.com. The Harris Poll online survey. Boston Scientific. SH-574213-AA. https://www.watchusnow.com/?page=d75be9d4-ba36-456c-a72d-dc3df07892da. Accessed\\nMarch 28, 2019.\\n3. Price MJ, Reddy VY, Valderrábano M, et al. Bleeding outcomes after left atrial appendage closure compared with long-term warfarin. JACC Cardiovasc Interv. 2015;8(15):1925-\\n1932.\\nUSA \\uf107\\nBoston Scientific is dedicated to transforming lives through innovative medical solutions\\nthat improve the health of patients globally.\\nFOLLOW US \\uf39e \\uf099 \\uf0e1\\nPrivacy Policy | Terms of Use | Copyright Notice | Contact Us | Sitemap\\n©2022 Boston Scientific Corporation or its affiliates. All rights reserved. All trademarks are property of their respective owners.\\nSH-508722-AF\\nSee if the WATCHMAN\\nImplant is right for you \\uf054\\n×\", 'content_type': 'text', 'score': None, 'meta': {'name': 'WATCHMAN Procedure vs. Blood Thinners.pdf'}, 'embedding': None, 'id': 'd1d9663f7c13151d5153f8bdd7ea7aaf'}>,\n",
      "               <Document: {'content': \"Alternative to Blood Thinners\\nTake a short survey to see if an implant could be\\nthe right stroke-risk reduction option for you\\nStart Here\\nThere are different treatments available to reduce your stroke risk if you have AFib. The most common are blood\\nthinners. Learn about blood thinner alternatives below.\\nIs There an Alternative to Blood Thinners?\\nBlood thinner medications, also called anticoagulant drugs, are an effective way to lower the risk of stroke in\\npeople with atrial fibrillation, or AFib, not caused by a heart valve problem.\\nThe blood thinner warfarin (also known as Coumadin®) has been around for more than 60 years. There are also\\nseveral newer blood thinners available now, including Eliquis® (apixaban), Pradaxa® (dabigatran),\\nXarelto® (rivaroxaban), and Savaysa® (edoxaban).\\nFor people who need an alternative, there are heart procedures that can effectively reduce the risk of stroke.\\nWATCHMAN is a permanent implant that does just that.\\nLearn more about who WATCHMAN is for\\nBlood Thinner Medications and AFib Stroke Risk\\n1\\n2\\nLike blood thinners, WATCHMAN can effectively reduce stroke\\nrisk. This permanent implant is for people with AFib not\\ncaused by a heart valve problem who need an alternative.\\nWATCHMAN or Blood Thinners?\\n2\\nOver a 1/3 of people with AFib feel trapped between the fear of\\nhaving a stroke and fear of the risks associated with blood\\nthinners. In fact, more than 4 in 5 people with AFib taking a\\nblood thinner (83%) say they would be willing to try a\\ndifferent treatment to help reduce their risk of stroke.\\nBeyond Blood Thinners\\n3\\nSee if the WATCHMAN\\nImplant is right for you \\uf054\\n×\\nMENU\\x0cSee if it's right for you See What Makes WATCHMAN Different\\nWarfarin is a common blood thinner prescribed to reduce stroke risk in people with atrial fibrillation. It’s been used\\nfor decades and is typically less expensive than the newer types of blood thinners—but it comes with certain\\nrequirements and restrictions.\\nRegular blood tests: With warfarin, you have to get regular blood tests—from twice a week to once a month,\\ndepending on your doctor’s recommendation. These tests measure your INR, or International Normalized\\nRatio, a number that tells how long it takes for your blood to clot.\\nDietary guidelines: Certain foods, like leafy greens, can affect your INR if you’re taking warfarin. Forgetting\\nto take your medication can also put you out of range. If you’re outside the recommended INR, you may be\\nat higher risk for stroke or higher risk for bleeding.\\nNewer blood thinners don’t come with the same dietary restrictions as warfarin, and they don’t require INR\\ntesting. If you have trouble with your warfarin treatment plan, your cardiologist may recommend that you take a\\ndifferent type of blood thinner. While these blood thinners offer additional options to warfarin, each medication\\ncomes with its own risks and benefits.\\nWarfarin vs Other Blood Thinner Medications\\n4,5\\n1\\nBlood thinners, or anticoagulants, are very effective at reducing the risk of stroke in people with atrial fibrillation,\\nand most people can take them for years without serious side effects. But because blood thinners help prevent\\nclots by thinning the blood, they also increase the risk of bleeding.\\nMinor bleeding: Most bleeding events are minor and easily treated, like a cut taking longer than normal to\\nstop bleeding. Some people bruise more easily on blood thinners. You should discuss any of these\\nsymptoms with your doctor.\\nMajor bleeding: In other cases, bleeding can be serious and require medical help or blood transfusions.\\nSometimes, the bleeding can be life-threatening, for example, when bleeding in the brain causes a stroke.\\nWhen considering your treatment options, your cardiologist will weigh your risk of a stroke against your risk of a\\nserious bleeding problem. These risks depend on several factors—for some people the risk of bleeding is higher\\nthan for others.\\nBlood Thinner Medications and Bleeding Risks\\n1\\n1\\nBlood Thinners Come with Challenges\\nWarfarin\\nBleeding Risk That Grows Over Time\\n•\\nDaily Pills\\n•\\nContinuing to Take Medication as Prescribed\\nLong-Term\\n•\\nRegular Blood (INR) Tests\\n•\\nAll Blood Thinners\\nBleeding Risk That Grows Over Time\\n•\\nDaily or 2x/Daily Pills\\n•\\nContinuing to Take Medication as Prescribed\\nLong-Term\\n•\\nComplicates Surgical Procedures\\n•\\nSee if the WATCHMAN\\nImplant is right for you \\uf054\\n×\\x0cFood and Drug Interaction Issues\\n•\\nComplicates Surgical Procedures\\n•\\nHigh Ongoing Cost\\n•\\nPatient Ambassadors are a community of people that have\\nreceived the WATCHMAN implant and have volunteered to\\nshare their personal experiences with potential patients.\\nSpeak to one of our Education Specialists to learn more\\nCall 1-844-355-9114\\nHear from a WATCHMAN Patient\\nWATCHMAN Educational Specialists are trained professionals\\nwith healthcare experience. They're here to help answer your\\nquestions.\\nCall 1-855-893-2606\\nMonday to Friday, 8AM to 5PM Central Time\\nQuestions about WATCHMAN?\\nSome people with atrial fibrillation who should take blood thinners to\\nreduce their stroke risk can’t due to their lifestyle or health history. Other\\nAFib patients choose not to take blood thinners due to side effects or for\\nother reasons.\\nLeft atrial appendage closure: A procedure called left atrial\\nappendage closure provides an alternative to blood thinners for\\npeople who need one. The left atrial appendage is a small pouch\\nat the top of the heart. When a blood clot escapes from the left\\natrial appendage and travels to another part of the body, it can cut\\noff the blood supply to the brain, causing a stroke. In people with\\nAFib not caused by a heart valve problem, more than 90% of\\nstroke-causing clots that come from the heart are formed in the\\nleft atrial appendage (LAA). Closing off the LAA is an effective way\\nto reduce stroke risk in these people.\\nThe WATCHMAN Implant is a left atrial appendage closure\\nprocedure. It is the most implanted, FDA-approved device proven\\nto reduce stroke risk in people with atrial fibrillation not caused by\\na heart valve problem (also referred to as non-valvular AFib).\\nLearn more about the WATCHMAN procedure ►\\nIt’s important to understand that a stroke can be caused by factors other\\nthan a clot escaping from the left atrial appendage. These causes can\\ninclude high blood pressure and the narrowing of blood vessels to the\\nbrain. Left atrial appendage closure will not prevent these other causes\\nof stroke.\\nIf You Can’t Take a Blood Thinner Long Term\\n1\\n6\\n7\\nSee if the WATCHMAN\\nImplant is right for you \\uf054\\n×\\x0cWATCHMAN is a one-time, minimally invasive procedure that\\npermanently reduces the risk of stroke and bleeding worry.\\nLearn more about WATCHMAN as an alternative to blood thinners ►\\nScience always looks for ways to make effective treatments even better.\\nWATCHMAN is no exception. The WATCHMAN FLX design is an\\nadvancement that enables the implant to fit a greater number of\\npatients. giving more people than ever a safe, effective alternative to\\nblood thinners should they need one.\\nIn a clinical trial, 96% of people were able to stop taking blood thinners\\njust 45 days after the WATCHMAN FLX procedure.\\nThis can mean a lower risk of bleeding from long-term blood thinner\\nuse. After getting WATCHMAN and stopping their blood thinner,\\npatients take aspirin and clopidogrel (Plavix®) for 6 months. After that,\\nthey take only aspirin on an ongoing basis.\\nHow Is WATCHMAN an Alternative to Blood Thinners?\\n8\\n9\\nIt’s important to understand that, like blood thinners, WATCHMAN does not cure AFib. But it does offer people with\\nAFib not caused by a heart valve problem a potentially life-changing alternative to taking daily blood thinners long\\nterm.\\nWATCHMAN may be right for you if you have one of following:\\nMajor bleeding while taking blood thinners\\n•\\nA lifestyle, occupation, or health concern that puts you at risk for bleeding\\n•\\nHave difficulties taking blood thinners as prescribed\\n•\\nIf you have atrial fibrillation not caused by a heart valve problem and need an alternative to blood thinners, here\\nare some questions to ask your cardiologist:\\nIf you think WATCHMAN could be right for you, answer a few questions and get a personalized guide for talking to\\nyour cardiologist.\\nAnswer a few questions and get a customized guide\\nQuestions to Ask Your Doctor\\nWhat are the risks and benefits of the different blood thinners?\\n•\\nDoes my lifestyle or health history put me at risk for serious bleeding?\\n•\\nAm I a candidate for left atrial appendage closure?\\n•\\nWhat should I know about the WATCHMAN Implant?\\n•\\nWhat are the differences in cost between blood thinners and the WATCHMAN Implant?\\n•\\nSee if the WATCHMAN\\nImplant is right for you \\uf054\\n×\\x0cWATCHMAN is the only FDA-approved implant proven to safely and effectively lower stroke risk in people with\\nAFib not caused by heart valve problems.\\nNEXT: Why Choose WATCHMAN\\n2\\nWATCHMAN is for people with atrial fibrillation not caused by a heart valve problem who need an alternative to\\nblood thinners. This website is intended to provide patients and caregivers with some information about the\\nWATCHMAN Implant. It may help prepare you for talking to your doctor about your options for reducing stroke risk.\\nImportant Safety Information\\nThe WATCHMAN and WATCHMAN FLX Devices are permanent implants designed to close the left atrial appendage\\nin the heart in an effort to reduce the risk of stroke.\\nWith all medical procedures there are risks associated with the implant procedure and the use of the device. The\\nrisks include but are not limited to accidental heart puncture, air embolism, allergic reaction, anemia, anesthesia\\nrisks, arrhythmias, AV (Arteriovenous) fistula, bleeding or throat pain from the TEE (Trans Esophageal Echo) probe,\\nblood clot or air bubbles in the lungs or other organs, bruising at the catheter insertion site, clot formation on the\\ndevice, cranial bleed, excessive bleeding, gastrointestinal bleeding, groin puncture bleed, hypotension,\\ninfection/pneumonia, pneumothorax, pulmonary edema, pulmonary vein obstruction, renal failure, stroke,\\nthrombosis and transient ischemic attack. In rare cases death can occur.\\nBe sure to talk with your doctor so that you thoroughly understand all of the risks and benefits associated with the\\nimplantation of the device.\\nReferences:\\n1. National Stroke Association. Making the Afib-Stroke Connection.https://www.stroke.org/sites/default/files/resources/Afib-Connection%20for%20hcp.pdf. Published\\n2012.Accessed September 1, 2016.\\n2. Holmes DR Jr, Doshi SK, Kar S, et al. Left atrial appendage closure as an alternative to warfarin for stroke prevention in atrial \\xad\\nbrillation: a patient-level meta-analysis. J Am Coll\\nCardiol. 2015;65(24):2614-2623.\\n3. WatchUsNow.com. The Harris Poll online survey. Boston Scientific. SH-574213-AA. https://www.watchusnow.com/?page=d75be9d4-ba36-456c-a72d-dc3df07892da. Accessed\\nMarch 28, 2019.\\n4. Agency for Healthcare Research and Quality (AHRQ). Blood Thinner Pills: Your Guide to Using Them Safely.http://www.ahrq.gov/sites/default/files/wysiwyg/patients-\\nconsumers/diagnosis-treatment/treatments/btpills/btpills.pdf. Published September 2015. Accessed September 8, 2016.\\n5. American Heart Association website. http://www.heart.org/HEARTORG/. Published 2017.Accessed June 1, 2017.\\n6. Blackshear JL, Odell JA. Appendage obliteration to reduce stroke in cardiac surgical patients with atrial fibrillation. Ann Thorac Surg. 1996;61:755-759.\\n7. American Stroke Association website. http://www.strokeassociation.org/STROKEORG/. American Heart Association. Published 2017. Accessed May 31, 2017.Cleveland Clinic.\\nAtrial fibrillation (Afib). http://my.clevelandclinic.org/services/heart/disorders/arrhythmia/atrial-fibrillation-afib. Published May 2015. Accessed August 25, 2016.\\n8. Kar, S., et al, Primary Outcome Evaluation of the Next Generation LAAC Device: Results from the PINNACLE FLX Trial, Circulation, 2021.\\n9. Price MJ, Reddy VY, Valderrábano M, et al. Bleeding outcomes after left atrial appendage closure compared with long-term warfarin. JACC Cardiovasc Interv. 2015;8(15):1925-\\n1932\\nUSA \\uf107\\nBoston Scientific is dedicated to transforming lives through innovative medical solutions\\nthat improve the health of patients globally.\\nFOLLOW US \\uf39e \\uf099 \\uf0e1\\nPrivacy Policy | Terms of Use | Copyright Notice | Contact Us | Sitemap\\n©2022 Boston Scientific Corporation or its affiliates. All rights reserved. All trademarks are property of their respective owners.\\nSee if the WATCHMAN\\nImplant is right for you \\uf054\\n×\\x0cSH-479801-AC\\nSee if the WATCHMAN\\nImplant is right for you \\uf054\\n×\", 'content_type': 'text', 'score': None, 'meta': {'name': 'Alternative to Warfarin – WATCHMAN Implant.pdf'}, 'embedding': None, 'id': '85bdf282ae67d26b742e8c730633001e'}>],\n",
      " 'no_ans_gap': 5.121319532394409,\n",
      " 'node_id': 'Reader',\n",
      " 'params': {'Reader': {'top_k': 5}, 'Retriever': {'top_k': 10}},\n",
      " 'query': 'What are the risks of a Watchman implant procedure?',\n",
      " 'root_node': 'Query'}\n"
     ]
    }
   ],
   "source": [
    "# Now you can either print the object directly...\n",
    "from pprint import pprint\n",
    "\n",
    "pprint(prediction)"
   ]
  },
  {
   "cell_type": "code",
   "execution_count": 28,
   "id": "f1b7b552",
   "metadata": {},
   "outputs": [
    {
     "name": "stdout",
     "output_type": "stream",
     "text": [
      "\n",
      "Query: What are the risks of a Watchman implant procedure?\n",
      "Answers:\n",
      "[   {   'answer': 'stroke risk and bleeding worry for life',\n",
      "        'context': 's a one‑time, minimally invasive procedure that\\n'\n",
      "                   'reduces stroke risk and bleeding worry for life.\\n'\n",
      "                   'One Time. For a Lifetime.\\n'\n",
      "                   'AND COUNTING\\n'\n",
      "                   'LIVES CHANGED\\n'},\n",
      "    {   'answer': 'stroke',\n",
      "        'context': 'by the U.S. Food and Drug Administration (FDA) for '\n",
      "                   'reducing\\n'\n",
      "                   'the risk of stroke in people with atrial fibrillation not '\n",
      "                   'caused by a heart\\n'\n",
      "                   'valve problem.'},\n",
      "    {   'answer': 'people with atrial fibrillation not caused by a heart valve '\n",
      "                  'problem who need an\\n'\n",
      "                  'alternative to blood thinners',\n",
      "        'context': 'CHMAN Implant is for people with atrial fibrillation not '\n",
      "                   'caused by a heart valve problem who need an\\n'\n",
      "                   'alternative to blood thinners. This website is in'},\n",
      "    {   'answer': 'stroke',\n",
      "        'context': 'See How the WATCHMAN Implant Works\\n'\n",
      "                   'See why the WATCHMAN Implant reduces stroke risk and how '\n",
      "                   'the\\n'\n",
      "                   'procedure is done.\\n'\n",
      "                   'To understand how the WATCHMAN Impl'},\n",
      "    {   'answer': 'accidental heart puncture, air embolism, allergic reaction, '\n",
      "                  'anemia, anesthesia\\n'\n",
      "                  'risks',\n",
      "        'context': 's include but are not limited to accidental heart '\n",
      "                   'puncture, air embolism, allergic reaction, anemia, '\n",
      "                   'anesthesia\\n'\n",
      "                   'risks, arrhythmias, AV (Arteriovenous)'}]\n"
     ]
    }
   ],
   "source": [
    "# ...or use a util to simplify the output\n",
    "from haystack.utils import print_answers\n",
    "\n",
    "\n",
    "# Change `minimum` to `medium` or `all` to control the level of detail\n",
    "print_answers(prediction, details=\"minimum\")"
   ]
  },
  {
   "cell_type": "code",
   "execution_count": null,
   "id": "015718c0",
   "metadata": {},
   "outputs": [],
   "source": []
  }
 ],
 "metadata": {
  "kernelspec": {
   "display_name": "Python 3 (ipykernel)",
   "language": "python",
   "name": "python3"
  },
  "language_info": {
   "codemirror_mode": {
    "name": "ipython",
    "version": 3
   },
   "file_extension": ".py",
   "mimetype": "text/x-python",
   "name": "python",
   "nbconvert_exporter": "python",
   "pygments_lexer": "ipython3",
   "version": "3.9.12"
  }
 },
 "nbformat": 4,
 "nbformat_minor": 5
}

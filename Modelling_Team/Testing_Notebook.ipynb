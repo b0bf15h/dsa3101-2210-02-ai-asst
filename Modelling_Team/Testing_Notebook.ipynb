{
 "cells": [
  {
   "cell_type": "code",
   "execution_count": 1,
   "id": "3f038cbe",
   "metadata": {},
   "outputs": [
    {
     "name": "stdout",
     "output_type": "stream",
     "text": [
      "Looking in links: https://download.pytorch.org/whl/torch_stable.html\n",
      "Collecting farm-haystack\n",
      "  Using cached farm_haystack-1.9.1-py3-none-any.whl (733 kB)\n",
      "Collecting mlflow\n",
      "  Using cached mlflow-1.29.0-py3-none-any.whl (16.9 MB)\n",
      "Collecting dill\n",
      "  Using cached dill-0.3.5.1-py2.py3-none-any.whl (95 kB)\n",
      "Requirement already satisfied: pandas in c:\\users\\lowju\\anaconda3\\envs\\ai-assistant-env\\lib\\site-packages (from farm-haystack) (1.4.2)\n",
      "Collecting more-itertools\n",
      "  Using cached more_itertools-8.14.0-py3-none-any.whl (52 kB)\n",
      "Collecting mmh3\n",
      "  Using cached mmh3-3.0.0-cp39-cp39-win_amd64.whl (15 kB)\n",
      "Requirement already satisfied: scikit-learn>=1.0.0 in c:\\users\\lowju\\anaconda3\\envs\\ai-assistant-env\\lib\\site-packages (from farm-haystack) (1.0.2)\n",
      "Requirement already satisfied: scipy>=1.3.2 in c:\\users\\lowju\\anaconda3\\envs\\ai-assistant-env\\lib\\site-packages (from farm-haystack) (1.7.3)\n",
      "Collecting pydantic\n",
      "  Using cached pydantic-1.10.2-cp39-cp39-win_amd64.whl (2.1 MB)\n",
      "Requirement already satisfied: jsonschema in c:\\users\\lowju\\anaconda3\\envs\\ai-assistant-env\\lib\\site-packages (from farm-haystack) (4.4.0)\n",
      "Collecting rapidfuzz<2.8.0,>=2.0.15\n",
      "  Using cached rapidfuzz-2.7.0-cp39-cp39-win_amd64.whl (1.2 MB)\n",
      "Collecting python-docx\n",
      "  Using cached python_docx-0.8.11-py3-none-any.whl\n",
      "Collecting elastic-apm\n",
      "  Using cached elastic_apm-6.12.0-py3-none-any.whl\n",
      "Requirement already satisfied: networkx in c:\\users\\lowju\\anaconda3\\envs\\ai-assistant-env\\lib\\site-packages (from farm-haystack) (2.7.1)\n",
      "Collecting elasticsearch<7.11,>=7.7\n",
      "  Using cached elasticsearch-7.10.1-py2.py3-none-any.whl (322 kB)\n",
      "Collecting torch<1.13,>1.9\n",
      "  Using cached https://download.pytorch.org/whl/cu116/torch-1.12.1%2Bcu116-cp39-cp39-win_amd64.whl (2388.0 MB)\n",
      "Collecting quantulum3\n",
      "  Downloading quantulum3-0.7.11-py3-none-any.whl (10.7 MB)\n",
      "Collecting azure-ai-formrecognizer>=3.2.0b2\n",
      "  Using cached azure_ai_formrecognizer-3.2.0-py3-none-any.whl (228 kB)\n",
      "Requirement already satisfied: nltk in c:\\users\\lowju\\anaconda3\\envs\\ai-assistant-env\\lib\\site-packages (from farm-haystack) (3.7)\n",
      "Collecting transformers==4.21.2\n",
      "  Using cached transformers-4.21.2-py3-none-any.whl (4.7 MB)\n",
      "Collecting tika\n",
      "  Using cached tika-1.24-py3-none-any.whl\n",
      "Requirement already satisfied: tqdm in c:\\users\\lowju\\anaconda3\\envs\\ai-assistant-env\\lib\\site-packages (from farm-haystack) (4.64.0)\n",
      "Collecting posthog\n",
      "  Using cached posthog-2.1.2-py2.py3-none-any.whl (32 kB)\n",
      "Collecting huggingface-hub>=0.5.0\n",
      "  Using cached huggingface_hub-0.10.1-py3-none-any.whl (163 kB)\n",
      "Collecting langdetect\n",
      "  Using cached langdetect-1.0.9-py3-none-any.whl\n",
      "Requirement already satisfied: requests in c:\\users\\lowju\\anaconda3\\envs\\ai-assistant-env\\lib\\site-packages (from farm-haystack) (2.27.1)\n",
      "Collecting seqeval\n",
      "  Using cached seqeval-1.2.2-py3-none-any.whl\n",
      "Collecting sentence-transformers>=2.2.0\n",
      "  Using cached sentence_transformers-2.2.2-py3-none-any.whl\n",
      "Requirement already satisfied: pyyaml>=5.1 in c:\\users\\lowju\\anaconda3\\envs\\ai-assistant-env\\lib\\site-packages (from transformers==4.21.2->farm-haystack) (6.0)\n",
      "Requirement already satisfied: regex!=2019.12.17 in c:\\users\\lowju\\anaconda3\\envs\\ai-assistant-env\\lib\\site-packages (from transformers==4.21.2->farm-haystack) (2022.3.15)\n",
      "Collecting tokenizers!=0.11.3,<0.13,>=0.11.1\n",
      "  Using cached tokenizers-0.12.1-cp39-cp39-win_amd64.whl (3.3 MB)\n",
      "Requirement already satisfied: packaging>=20.0 in c:\\users\\lowju\\anaconda3\\envs\\ai-assistant-env\\lib\\site-packages (from transformers==4.21.2->farm-haystack) (21.3)\n",
      "Requirement already satisfied: filelock in c:\\users\\lowju\\anaconda3\\envs\\ai-assistant-env\\lib\\site-packages (from transformers==4.21.2->farm-haystack) (3.6.0)\n",
      "Requirement already satisfied: numpy>=1.17 in c:\\users\\lowju\\anaconda3\\envs\\ai-assistant-env\\lib\\site-packages (from transformers==4.21.2->farm-haystack) (1.21.5)\n",
      "Collecting azure-common~=1.1\n",
      "  Using cached azure_common-1.1.28-py2.py3-none-any.whl (14 kB)\n",
      "Collecting azure-core<2.0.0,>=1.23.0\n",
      "  Using cached azure_core-1.26.0-py3-none-any.whl (178 kB)\n",
      "Requirement already satisfied: typing-extensions>=4.0.1 in c:\\users\\lowju\\anaconda3\\envs\\ai-assistant-env\\lib\\site-packages (from azure-ai-formrecognizer>=3.2.0b2->farm-haystack) (4.1.1)\n",
      "Collecting msrest>=0.6.21\n",
      "  Using cached msrest-0.7.1-py3-none-any.whl (85 kB)\n",
      "Requirement already satisfied: six>=1.11.0 in c:\\users\\lowju\\anaconda3\\envs\\ai-assistant-env\\lib\\site-packages (from azure-core<2.0.0,>=1.23.0->azure-ai-formrecognizer>=3.2.0b2->farm-haystack) (1.16.0)\n",
      "Requirement already satisfied: certifi in c:\\users\\lowju\\anaconda3\\envs\\ai-assistant-env\\lib\\site-packages (from elasticsearch<7.11,>=7.7->farm-haystack) (2021.10.8)\n",
      "Requirement already satisfied: urllib3<2,>=1.21.1 in c:\\users\\lowju\\anaconda3\\envs\\ai-assistant-env\\lib\\site-packages (from elasticsearch<7.11,>=7.7->farm-haystack) (1.26.9)\n",
      "Collecting requests-oauthlib>=0.5.0\n",
      "  Using cached requests_oauthlib-1.3.1-py2.py3-none-any.whl (23 kB)\n",
      "Collecting isodate>=0.6.0\n",
      "  Using cached isodate-0.6.1-py2.py3-none-any.whl (41 kB)\n",
      "Requirement already satisfied: pyparsing!=3.0.5,>=2.0.2 in c:\\users\\lowju\\anaconda3\\envs\\ai-assistant-env\\lib\\site-packages (from packaging>=20.0->transformers==4.21.2->farm-haystack) (3.0.4)\n",
      "Collecting jarowinkler<2.0.0,>=1.2.0\n",
      "  Using cached jarowinkler-1.2.3-cp39-cp39-win_amd64.whl (61 kB)\n",
      "Requirement already satisfied: idna<4,>=2.5 in c:\\users\\lowju\\anaconda3\\envs\\ai-assistant-env\\lib\\site-packages (from requests->farm-haystack) (3.3)\n",
      "Requirement already satisfied: charset-normalizer~=2.0.0 in c:\\users\\lowju\\anaconda3\\envs\\ai-assistant-env\\lib\\site-packages (from requests->farm-haystack) (2.0.4)\n",
      "Collecting oauthlib>=3.0.0\n",
      "  Using cached oauthlib-3.2.1-py3-none-any.whl (151 kB)\n",
      "Requirement already satisfied: threadpoolctl>=2.0.0 in c:\\users\\lowju\\anaconda3\\envs\\ai-assistant-env\\lib\\site-packages (from scikit-learn>=1.0.0->farm-haystack) (2.2.0)\n",
      "Requirement already satisfied: joblib>=0.11 in c:\\users\\lowju\\anaconda3\\envs\\ai-assistant-env\\lib\\site-packages (from scikit-learn>=1.0.0->farm-haystack) (1.1.0)\n",
      "Collecting torchvision\n",
      "  Using cached https://download.pytorch.org/whl/cu116/torchvision-0.13.1%2Bcu116-cp39-cp39-win_amd64.whl (2.6 MB)\n",
      "Collecting sentencepiece\n",
      "  Using cached sentencepiece-0.1.97-cp39-cp39-win_amd64.whl (1.1 MB)\n",
      "Requirement already satisfied: colorama in c:\\users\\lowju\\anaconda3\\envs\\ai-assistant-env\\lib\\site-packages (from tqdm->farm-haystack) (0.4.4)\n",
      "Requirement already satisfied: pyrsistent!=0.17.0,!=0.17.1,!=0.17.2,>=0.14.0 in c:\\users\\lowju\\anaconda3\\envs\\ai-assistant-env\\lib\\site-packages (from jsonschema->farm-haystack) (0.18.0)\n",
      "Requirement already satisfied: attrs>=17.4.0 in c:\\users\\lowju\\anaconda3\\envs\\ai-assistant-env\\lib\\site-packages (from jsonschema->farm-haystack) (21.4.0)\n",
      "Requirement already satisfied: cloudpickle<3 in c:\\users\\lowju\\anaconda3\\envs\\ai-assistant-env\\lib\\site-packages (from mlflow->farm-haystack) (2.0.0)\n",
      "Collecting databricks-cli<1,>=0.8.7\n",
      "  Using cached databricks_cli-0.17.3-py3-none-any.whl\n",
      "Collecting alembic<2\n",
      "  Using cached alembic-1.8.1-py3-none-any.whl (209 kB)\n",
      "Requirement already satisfied: protobuf<5,>=3.12.0 in c:\\users\\lowju\\anaconda3\\envs\\ai-assistant-env\\lib\\site-packages (from mlflow->farm-haystack) (3.19.1)\n",
      "Collecting gitpython<4,>=2.1.0\n",
      "  Using cached GitPython-3.1.29-py3-none-any.whl (182 kB)\n",
      "Requirement already satisfied: sqlalchemy<2,>=1.4.0 in c:\\users\\lowju\\anaconda3\\envs\\ai-assistant-env\\lib\\site-packages (from mlflow->farm-haystack) (1.4.32)\n",
      "Collecting sqlparse<1,>=0.4.0\n",
      "  Using cached sqlparse-0.4.3-py3-none-any.whl (42 kB)\n",
      "Requirement already satisfied: importlib-metadata!=4.7.0,<5,>=3.7.0 in c:\\users\\lowju\\anaconda3\\envs\\ai-assistant-env\\lib\\site-packages (from mlflow->farm-haystack) (4.11.3)\n",
      "Requirement already satisfied: entrypoints<1 in c:\\users\\lowju\\anaconda3\\envs\\ai-assistant-env\\lib\\site-packages (from mlflow->farm-haystack) (0.4)\n",
      "Collecting docker<7,>=4.0.0\n",
      "  Using cached docker-6.0.0-py3-none-any.whl (147 kB)\n",
      "Collecting waitress<3\n",
      "  Using cached waitress-2.1.2-py3-none-any.whl (57 kB)\n",
      "Requirement already satisfied: Flask<3 in c:\\users\\lowju\\anaconda3\\envs\\ai-assistant-env\\lib\\site-packages (from mlflow->farm-haystack) (1.1.2)\n",
      "Collecting querystring-parser<2\n",
      "  Using cached querystring_parser-1.2.4-py2.py3-none-any.whl (7.9 kB)\n",
      "Requirement already satisfied: pytz<2023 in c:\\users\\lowju\\anaconda3\\envs\\ai-assistant-env\\lib\\site-packages (from mlflow->farm-haystack) (2021.3)\n",
      "Collecting prometheus-flask-exporter<1\n",
      "  Using cached prometheus_flask_exporter-0.20.3-py3-none-any.whl (18 kB)\n",
      "Requirement already satisfied: click<9,>=7.0 in c:\\users\\lowju\\anaconda3\\envs\\ai-assistant-env\\lib\\site-packages (from mlflow->farm-haystack) (8.0.4)\n",
      "Collecting Mako\n",
      "  Using cached Mako-1.2.3-py3-none-any.whl (78 kB)\n",
      "Collecting pyjwt>=1.7.0\n",
      "  Using cached PyJWT-2.5.0-py3-none-any.whl (20 kB)\n",
      "Requirement already satisfied: tabulate>=0.7.7 in c:\\users\\lowju\\anaconda3\\envs\\ai-assistant-env\\lib\\site-packages (from databricks-cli<1,>=0.8.7->mlflow->farm-haystack) (0.8.9)\n",
      "Collecting pywin32>=304\n",
      "  Using cached pywin32-304-cp39-cp39-win_amd64.whl (12.2 MB)\n",
      "Requirement already satisfied: websocket-client>=0.32.0 in c:\\users\\lowju\\anaconda3\\envs\\ai-assistant-env\\lib\\site-packages (from docker<7,>=4.0.0->mlflow->farm-haystack) (0.58.0)\n",
      "Requirement already satisfied: Werkzeug>=0.15 in c:\\users\\lowju\\anaconda3\\envs\\ai-assistant-env\\lib\\site-packages (from Flask<3->mlflow->farm-haystack) (2.0.3)\n",
      "Requirement already satisfied: itsdangerous>=0.24 in c:\\users\\lowju\\anaconda3\\envs\\ai-assistant-env\\lib\\site-packages (from Flask<3->mlflow->farm-haystack) (2.0.1)\n",
      "Requirement already satisfied: Jinja2>=2.10.1 in c:\\users\\lowju\\anaconda3\\envs\\ai-assistant-env\\lib\\site-packages (from Flask<3->mlflow->farm-haystack) (2.11.3)\n",
      "Collecting gitdb<5,>=4.0.1\n",
      "  Using cached gitdb-4.0.9-py3-none-any.whl (63 kB)\n",
      "Collecting smmap<6,>=3.0.1\n",
      "  Using cached smmap-5.0.0-py3-none-any.whl (24 kB)\n",
      "Requirement already satisfied: zipp>=0.5 in c:\\users\\lowju\\anaconda3\\envs\\ai-assistant-env\\lib\\site-packages (from importlib-metadata!=4.7.0,<5,>=3.7.0->mlflow->farm-haystack) (3.7.0)\n",
      "Requirement already satisfied: MarkupSafe>=0.23 in c:\\users\\lowju\\anaconda3\\envs\\ai-assistant-env\\lib\\site-packages (from Jinja2>=2.10.1->Flask<3->mlflow->farm-haystack) (2.0.1)\n",
      "Requirement already satisfied: python-dateutil>=2.8.1 in c:\\users\\lowju\\anaconda3\\envs\\ai-assistant-env\\lib\\site-packages (from pandas->farm-haystack) (2.8.2)\n",
      "Requirement already satisfied: prometheus-client in c:\\users\\lowju\\anaconda3\\envs\\ai-assistant-env\\lib\\site-packages (from prometheus-flask-exporter<1->mlflow->farm-haystack) (0.13.1)\n",
      "Requirement already satisfied: greenlet!=0.4.17 in c:\\users\\lowju\\anaconda3\\envs\\ai-assistant-env\\lib\\site-packages (from sqlalchemy<2,>=1.4.0->mlflow->farm-haystack) (1.1.1)\n",
      "Collecting monotonic>=1.5\n",
      "  Using cached monotonic-1.6-py2.py3-none-any.whl (8.2 kB)\n",
      "Collecting backoff<2.0.0,>=1.10.0\n",
      "  Using cached backoff-1.11.1-py2.py3-none-any.whl (13 kB)\n",
      "Requirement already satisfied: lxml>=2.3.2 in c:\\users\\lowju\\anaconda3\\envs\\ai-assistant-env\\lib\\site-packages (from python-docx->farm-haystack) (4.8.0)\n",
      "Collecting num2words\n",
      "  Using cached num2words-0.5.12-py3-none-any.whl (125 kB)\n",
      "Collecting inflect\n",
      "  Using cached inflect-6.0.0-py3-none-any.whl (34 kB)\n",
      "Collecting docopt>=0.6.2\n",
      "  Using cached docopt-0.6.2-py2.py3-none-any.whl\n",
      "Requirement already satisfied: setuptools in c:\\users\\lowju\\anaconda3\\envs\\ai-assistant-env\\lib\\site-packages (from tika->farm-haystack) (61.2.0)\n",
      "Requirement already satisfied: pillow!=8.3.*,>=5.3.0 in c:\\users\\lowju\\anaconda3\\envs\\ai-assistant-env\\lib\\site-packages (from torchvision->sentence-transformers>=2.2.0->farm-haystack) (9.0.1)\n",
      "Installing collected packages: smmap, oauthlib, torch, tokenizers, requests-oauthlib, pywin32, pyjwt, pydantic, Mako, isodate, huggingface-hub, gitdb, docopt, azure-core, waitress, transformers, torchvision, sqlparse, sentencepiece, querystring-parser, prometheus-flask-exporter, num2words, msrest, monotonic, jarowinkler, inflect, gitpython, docker, databricks-cli, backoff, azure-common, alembic, tika, seqeval, sentence-transformers, rapidfuzz, quantulum3, python-docx, posthog, more-itertools, mmh3, mlflow, langdetect, elasticsearch, elastic-apm, dill, azure-ai-formrecognizer, farm-haystack\n",
      "  Attempting uninstall: pywin32\n",
      "    Found existing installation: pywin32 302\n",
      "    Uninstalling pywin32-302:\n",
      "      Successfully uninstalled pywin32-302\n",
      "Successfully installed Mako-1.2.3 alembic-1.8.1 azure-ai-formrecognizer-3.2.0 azure-common-1.1.28 azure-core-1.26.0 backoff-1.11.1 databricks-cli-0.17.3 dill-0.3.5.1 docker-6.0.0 docopt-0.6.2 elastic-apm-6.12.0 elasticsearch-7.10.1 farm-haystack-1.9.1 gitdb-4.0.9 gitpython-3.1.29 huggingface-hub-0.10.1 inflect-6.0.0 isodate-0.6.1 jarowinkler-1.2.3 langdetect-1.0.9 mlflow-1.29.0 mmh3-3.0.0 monotonic-1.6 more-itertools-8.14.0 msrest-0.7.1 num2words-0.5.12 oauthlib-3.2.1 posthog-2.1.2 prometheus-flask-exporter-0.20.3 pydantic-1.10.2 pyjwt-2.5.0 python-docx-0.8.11 pywin32-304 quantulum3-0.7.11 querystring-parser-1.2.4 rapidfuzz-2.7.0 requests-oauthlib-1.3.1 sentence-transformers-2.2.2 sentencepiece-0.1.97 seqeval-1.2.2 smmap-5.0.0 sqlparse-0.4.3 tika-1.24 tokenizers-0.12.1 torch-1.12.1+cu116 torchvision-0.13.1+cu116 transformers-4.21.2 waitress-2.1.2\n"
     ]
    },
    {
     "name": "stdout",
     "output_type": "stream",
     "text": [
      "Requirement already satisfied: farm-haystack[ocr] in c:\\users\\lowju\\anaconda3\\envs\\ai-assistant-env\\lib\\site-packages (1.9.1)\n",
      "Requirement already satisfied: jsonschema in c:\\users\\lowju\\anaconda3\\envs\\ai-assistant-env\\lib\\site-packages (from farm-haystack[ocr]) (4.4.0)\n",
      "Requirement already satisfied: pydantic in c:\\users\\lowju\\anaconda3\\envs\\ai-assistant-env\\lib\\site-packages (from farm-haystack[ocr]) (1.10.2)\n",
      "Requirement already satisfied: huggingface-hub>=0.5.0 in c:\\users\\lowju\\anaconda3\\envs\\ai-assistant-env\\lib\\site-packages (from farm-haystack[ocr]) (0.10.1)\n",
      "Requirement already satisfied: mlflow in c:\\users\\lowju\\anaconda3\\envs\\ai-assistant-env\\lib\\site-packages (from farm-haystack[ocr]) (1.29.0)\n",
      "Requirement already satisfied: mmh3 in c:\\users\\lowju\\anaconda3\\envs\\ai-assistant-env\\lib\\site-packages (from farm-haystack[ocr]) (3.0.0)\n",
      "Requirement already satisfied: scikit-learn>=1.0.0 in c:\\users\\lowju\\anaconda3\\envs\\ai-assistant-env\\lib\\site-packages (from farm-haystack[ocr]) (1.0.2)\n",
      "Requirement already satisfied: elasticsearch<7.11,>=7.7 in c:\\users\\lowju\\anaconda3\\envs\\ai-assistant-env\\lib\\site-packages (from farm-haystack[ocr]) (7.10.1)\n",
      "Requirement already satisfied: networkx in c:\\users\\lowju\\anaconda3\\envs\\ai-assistant-env\\lib\\site-packages (from farm-haystack[ocr]) (2.7.1)\n",
      "Requirement already satisfied: rapidfuzz<2.8.0,>=2.0.15 in c:\\users\\lowju\\anaconda3\\envs\\ai-assistant-env\\lib\\site-packages (from farm-haystack[ocr]) (2.7.0)\n",
      "Requirement already satisfied: nltk in c:\\users\\lowju\\anaconda3\\envs\\ai-assistant-env\\lib\\site-packages (from farm-haystack[ocr]) (3.7)\n",
      "Requirement already satisfied: posthog in c:\\users\\lowju\\anaconda3\\envs\\ai-assistant-env\\lib\\site-packages (from farm-haystack[ocr]) (2.1.2)\n",
      "Requirement already satisfied: sentence-transformers>=2.2.0 in c:\\users\\lowju\\anaconda3\\envs\\ai-assistant-env\\lib\\site-packages (from farm-haystack[ocr]) (2.2.2)\n",
      "Requirement already satisfied: torch<1.13,>1.9 in c:\\users\\lowju\\anaconda3\\envs\\ai-assistant-env\\lib\\site-packages (from farm-haystack[ocr]) (1.12.1+cu116)\n",
      "Requirement already satisfied: transformers==4.21.2 in c:\\users\\lowju\\anaconda3\\envs\\ai-assistant-env\\lib\\site-packages (from farm-haystack[ocr]) (4.21.2)\n",
      "Requirement already satisfied: azure-ai-formrecognizer>=3.2.0b2 in c:\\users\\lowju\\anaconda3\\envs\\ai-assistant-env\\lib\\site-packages (from farm-haystack[ocr]) (3.2.0)\n",
      "Requirement already satisfied: pandas in c:\\users\\lowju\\anaconda3\\envs\\ai-assistant-env\\lib\\site-packages (from farm-haystack[ocr]) (1.4.2)\n",
      "Requirement already satisfied: elastic-apm in c:\\users\\lowju\\anaconda3\\envs\\ai-assistant-env\\lib\\site-packages (from farm-haystack[ocr]) (6.12.0)\n",
      "Requirement already satisfied: scipy>=1.3.2 in c:\\users\\lowju\\anaconda3\\envs\\ai-assistant-env\\lib\\site-packages (from farm-haystack[ocr]) (1.7.3)\n",
      "Requirement already satisfied: quantulum3 in c:\\users\\lowju\\anaconda3\\envs\\ai-assistant-env\\lib\\site-packages (from farm-haystack[ocr]) (0.7.11)\n",
      "Requirement already satisfied: tika in c:\\users\\lowju\\anaconda3\\envs\\ai-assistant-env\\lib\\site-packages (from farm-haystack[ocr]) (1.24)\n",
      "Requirement already satisfied: more-itertools in c:\\users\\lowju\\anaconda3\\envs\\ai-assistant-env\\lib\\site-packages (from farm-haystack[ocr]) (8.14.0)\n",
      "Requirement already satisfied: langdetect in c:\\users\\lowju\\anaconda3\\envs\\ai-assistant-env\\lib\\site-packages (from farm-haystack[ocr]) (1.0.9)\n",
      "Requirement already satisfied: tqdm in c:\\users\\lowju\\anaconda3\\envs\\ai-assistant-env\\lib\\site-packages (from farm-haystack[ocr]) (4.64.0)\n",
      "Requirement already satisfied: python-docx in c:\\users\\lowju\\anaconda3\\envs\\ai-assistant-env\\lib\\site-packages (from farm-haystack[ocr]) (0.8.11)\n",
      "Requirement already satisfied: seqeval in c:\\users\\lowju\\anaconda3\\envs\\ai-assistant-env\\lib\\site-packages (from farm-haystack[ocr]) (1.2.2)\n",
      "Requirement already satisfied: dill in c:\\users\\lowju\\anaconda3\\envs\\ai-assistant-env\\lib\\site-packages (from farm-haystack[ocr]) (0.3.5.1)\n",
      "Requirement already satisfied: requests in c:\\users\\lowju\\anaconda3\\envs\\ai-assistant-env\\lib\\site-packages (from farm-haystack[ocr]) (2.27.1)\n",
      "Collecting pdf2image>1.14\n",
      "  Using cached pdf2image-1.16.0-py3-none-any.whl (10 kB)\n",
      "Collecting pytesseract>0.3.7\n",
      "  Using cached pytesseract-0.3.10-py3-none-any.whl (14 kB)\n",
      "Requirement already satisfied: pillow in c:\\users\\lowju\\anaconda3\\envs\\ai-assistant-env\\lib\\site-packages (from farm-haystack[ocr]) (9.0.1)\n",
      "Requirement already satisfied: filelock in c:\\users\\lowju\\anaconda3\\envs\\ai-assistant-env\\lib\\site-packages (from transformers==4.21.2->farm-haystack[ocr]) (3.6.0)\n",
      "Requirement already satisfied: regex!=2019.12.17 in c:\\users\\lowju\\anaconda3\\envs\\ai-assistant-env\\lib\\site-packages (from transformers==4.21.2->farm-haystack[ocr]) (2022.3.15)\n",
      "Requirement already satisfied: tokenizers!=0.11.3,<0.13,>=0.11.1 in c:\\users\\lowju\\anaconda3\\envs\\ai-assistant-env\\lib\\site-packages (from transformers==4.21.2->farm-haystack[ocr]) (0.12.1)\n",
      "Requirement already satisfied: numpy>=1.17 in c:\\users\\lowju\\anaconda3\\envs\\ai-assistant-env\\lib\\site-packages (from transformers==4.21.2->farm-haystack[ocr]) (1.21.5)\n",
      "Requirement already satisfied: pyyaml>=5.1 in c:\\users\\lowju\\anaconda3\\envs\\ai-assistant-env\\lib\\site-packages (from transformers==4.21.2->farm-haystack[ocr]) (6.0)\n",
      "Requirement already satisfied: packaging>=20.0 in c:\\users\\lowju\\anaconda3\\envs\\ai-assistant-env\\lib\\site-packages (from transformers==4.21.2->farm-haystack[ocr]) (21.3)\n",
      "Requirement already satisfied: azure-common~=1.1 in c:\\users\\lowju\\anaconda3\\envs\\ai-assistant-env\\lib\\site-packages (from azure-ai-formrecognizer>=3.2.0b2->farm-haystack[ocr]) (1.1.28)\n",
      "Requirement already satisfied: typing-extensions>=4.0.1 in c:\\users\\lowju\\anaconda3\\envs\\ai-assistant-env\\lib\\site-packages (from azure-ai-formrecognizer>=3.2.0b2->farm-haystack[ocr]) (4.1.1)\n",
      "Requirement already satisfied: msrest>=0.6.21 in c:\\users\\lowju\\anaconda3\\envs\\ai-assistant-env\\lib\\site-packages (from azure-ai-formrecognizer>=3.2.0b2->farm-haystack[ocr]) (0.7.1)\n",
      "Requirement already satisfied: azure-core<2.0.0,>=1.23.0 in c:\\users\\lowju\\anaconda3\\envs\\ai-assistant-env\\lib\\site-packages (from azure-ai-formrecognizer>=3.2.0b2->farm-haystack[ocr]) (1.26.0)\n",
      "Requirement already satisfied: six>=1.11.0 in c:\\users\\lowju\\anaconda3\\envs\\ai-assistant-env\\lib\\site-packages (from azure-core<2.0.0,>=1.23.0->azure-ai-formrecognizer>=3.2.0b2->farm-haystack[ocr]) (1.16.0)\n",
      "Requirement already satisfied: urllib3<2,>=1.21.1 in c:\\users\\lowju\\anaconda3\\envs\\ai-assistant-env\\lib\\site-packages (from elasticsearch<7.11,>=7.7->farm-haystack[ocr]) (1.26.9)\n",
      "Requirement already satisfied: certifi in c:\\users\\lowju\\anaconda3\\envs\\ai-assistant-env\\lib\\site-packages (from elasticsearch<7.11,>=7.7->farm-haystack[ocr]) (2021.10.8)\n",
      "Requirement already satisfied: isodate>=0.6.0 in c:\\users\\lowju\\anaconda3\\envs\\ai-assistant-env\\lib\\site-packages (from msrest>=0.6.21->azure-ai-formrecognizer>=3.2.0b2->farm-haystack[ocr]) (0.6.1)\n",
      "Requirement already satisfied: requests-oauthlib>=0.5.0 in c:\\users\\lowju\\anaconda3\\envs\\ai-assistant-env\\lib\\site-packages (from msrest>=0.6.21->azure-ai-formrecognizer>=3.2.0b2->farm-haystack[ocr]) (1.3.1)\n",
      "Requirement already satisfied: pyparsing!=3.0.5,>=2.0.2 in c:\\users\\lowju\\anaconda3\\envs\\ai-assistant-env\\lib\\site-packages (from packaging>=20.0->transformers==4.21.2->farm-haystack[ocr]) (3.0.4)\n",
      "Requirement already satisfied: jarowinkler<2.0.0,>=1.2.0 in c:\\users\\lowju\\anaconda3\\envs\\ai-assistant-env\\lib\\site-packages (from rapidfuzz<2.8.0,>=2.0.15->farm-haystack[ocr]) (1.2.3)\n",
      "Requirement already satisfied: charset-normalizer~=2.0.0 in c:\\users\\lowju\\anaconda3\\envs\\ai-assistant-env\\lib\\site-packages (from requests->farm-haystack[ocr]) (2.0.4)\n",
      "Requirement already satisfied: idna<4,>=2.5 in c:\\users\\lowju\\anaconda3\\envs\\ai-assistant-env\\lib\\site-packages (from requests->farm-haystack[ocr]) (3.3)\n",
      "Requirement already satisfied: oauthlib>=3.0.0 in c:\\users\\lowju\\anaconda3\\envs\\ai-assistant-env\\lib\\site-packages (from requests-oauthlib>=0.5.0->msrest>=0.6.21->azure-ai-formrecognizer>=3.2.0b2->farm-haystack[ocr]) (3.2.1)\n",
      "Requirement already satisfied: threadpoolctl>=2.0.0 in c:\\users\\lowju\\anaconda3\\envs\\ai-assistant-env\\lib\\site-packages (from scikit-learn>=1.0.0->farm-haystack[ocr]) (2.2.0)\n",
      "Requirement already satisfied: joblib>=0.11 in c:\\users\\lowju\\anaconda3\\envs\\ai-assistant-env\\lib\\site-packages (from scikit-learn>=1.0.0->farm-haystack[ocr]) (1.1.0)\n",
      "Requirement already satisfied: torchvision in c:\\users\\lowju\\anaconda3\\envs\\ai-assistant-env\\lib\\site-packages (from sentence-transformers>=2.2.0->farm-haystack[ocr]) (0.13.1+cu116)\n",
      "Requirement already satisfied: sentencepiece in c:\\users\\lowju\\anaconda3\\envs\\ai-assistant-env\\lib\\site-packages (from sentence-transformers>=2.2.0->farm-haystack[ocr]) (0.1.97)\n",
      "Requirement already satisfied: colorama in c:\\users\\lowju\\anaconda3\\envs\\ai-assistant-env\\lib\\site-packages (from tqdm->farm-haystack[ocr]) (0.4.4)\n",
      "Requirement already satisfied: pyrsistent!=0.17.0,!=0.17.1,!=0.17.2,>=0.14.0 in c:\\users\\lowju\\anaconda3\\envs\\ai-assistant-env\\lib\\site-packages (from jsonschema->farm-haystack[ocr]) (0.18.0)\n",
      "Requirement already satisfied: attrs>=17.4.0 in c:\\users\\lowju\\anaconda3\\envs\\ai-assistant-env\\lib\\site-packages (from jsonschema->farm-haystack[ocr]) (21.4.0)\n",
      "Requirement already satisfied: protobuf<5,>=3.12.0 in c:\\users\\lowju\\anaconda3\\envs\\ai-assistant-env\\lib\\site-packages (from mlflow->farm-haystack[ocr]) (3.19.1)\n",
      "Requirement already satisfied: databricks-cli<1,>=0.8.7 in c:\\users\\lowju\\anaconda3\\envs\\ai-assistant-env\\lib\\site-packages (from mlflow->farm-haystack[ocr]) (0.17.3)\n",
      "Requirement already satisfied: gitpython<4,>=2.1.0 in c:\\users\\lowju\\anaconda3\\envs\\ai-assistant-env\\lib\\site-packages (from mlflow->farm-haystack[ocr]) (3.1.29)\n",
      "Requirement already satisfied: pytz<2023 in c:\\users\\lowju\\anaconda3\\envs\\ai-assistant-env\\lib\\site-packages (from mlflow->farm-haystack[ocr]) (2021.3)\n",
      "Requirement already satisfied: prometheus-flask-exporter<1 in c:\\users\\lowju\\anaconda3\\envs\\ai-assistant-env\\lib\\site-packages (from mlflow->farm-haystack[ocr]) (0.20.3)\n",
      "Requirement already satisfied: alembic<2 in c:\\users\\lowju\\anaconda3\\envs\\ai-assistant-env\\lib\\site-packages (from mlflow->farm-haystack[ocr]) (1.8.1)\n",
      "Requirement already satisfied: cloudpickle<3 in c:\\users\\lowju\\anaconda3\\envs\\ai-assistant-env\\lib\\site-packages (from mlflow->farm-haystack[ocr]) (2.0.0)\n",
      "Requirement already satisfied: importlib-metadata!=4.7.0,<5,>=3.7.0 in c:\\users\\lowju\\anaconda3\\envs\\ai-assistant-env\\lib\\site-packages (from mlflow->farm-haystack[ocr]) (4.11.3)\n",
      "Requirement already satisfied: docker<7,>=4.0.0 in c:\\users\\lowju\\anaconda3\\envs\\ai-assistant-env\\lib\\site-packages (from mlflow->farm-haystack[ocr]) (6.0.0)\n",
      "Requirement already satisfied: Flask<3 in c:\\users\\lowju\\anaconda3\\envs\\ai-assistant-env\\lib\\site-packages (from mlflow->farm-haystack[ocr]) (1.1.2)\n",
      "Requirement already satisfied: entrypoints<1 in c:\\users\\lowju\\anaconda3\\envs\\ai-assistant-env\\lib\\site-packages (from mlflow->farm-haystack[ocr]) (0.4)\n",
      "Requirement already satisfied: sqlalchemy<2,>=1.4.0 in c:\\users\\lowju\\anaconda3\\envs\\ai-assistant-env\\lib\\site-packages (from mlflow->farm-haystack[ocr]) (1.4.32)\n",
      "Requirement already satisfied: querystring-parser<2 in c:\\users\\lowju\\anaconda3\\envs\\ai-assistant-env\\lib\\site-packages (from mlflow->farm-haystack[ocr]) (1.2.4)\n",
      "Requirement already satisfied: click<9,>=7.0 in c:\\users\\lowju\\anaconda3\\envs\\ai-assistant-env\\lib\\site-packages (from mlflow->farm-haystack[ocr]) (8.0.4)\n",
      "Requirement already satisfied: waitress<3 in c:\\users\\lowju\\anaconda3\\envs\\ai-assistant-env\\lib\\site-packages (from mlflow->farm-haystack[ocr]) (2.1.2)\n",
      "Requirement already satisfied: sqlparse<1,>=0.4.0 in c:\\users\\lowju\\anaconda3\\envs\\ai-assistant-env\\lib\\site-packages (from mlflow->farm-haystack[ocr]) (0.4.3)\n",
      "Requirement already satisfied: Mako in c:\\users\\lowju\\anaconda3\\envs\\ai-assistant-env\\lib\\site-packages (from alembic<2->mlflow->farm-haystack[ocr]) (1.2.3)\n",
      "Requirement already satisfied: tabulate>=0.7.7 in c:\\users\\lowju\\anaconda3\\envs\\ai-assistant-env\\lib\\site-packages (from databricks-cli<1,>=0.8.7->mlflow->farm-haystack[ocr]) (0.8.9)\n",
      "Requirement already satisfied: pyjwt>=1.7.0 in c:\\users\\lowju\\anaconda3\\envs\\ai-assistant-env\\lib\\site-packages (from databricks-cli<1,>=0.8.7->mlflow->farm-haystack[ocr]) (2.5.0)\n",
      "Requirement already satisfied: pywin32>=304 in c:\\users\\lowju\\anaconda3\\envs\\ai-assistant-env\\lib\\site-packages (from docker<7,>=4.0.0->mlflow->farm-haystack[ocr]) (304)\n",
      "Requirement already satisfied: websocket-client>=0.32.0 in c:\\users\\lowju\\anaconda3\\envs\\ai-assistant-env\\lib\\site-packages (from docker<7,>=4.0.0->mlflow->farm-haystack[ocr]) (0.58.0)\n",
      "Requirement already satisfied: Werkzeug>=0.15 in c:\\users\\lowju\\anaconda3\\envs\\ai-assistant-env\\lib\\site-packages (from Flask<3->mlflow->farm-haystack[ocr]) (2.0.3)\n",
      "Requirement already satisfied: Jinja2>=2.10.1 in c:\\users\\lowju\\anaconda3\\envs\\ai-assistant-env\\lib\\site-packages (from Flask<3->mlflow->farm-haystack[ocr]) (2.11.3)\n",
      "Requirement already satisfied: itsdangerous>=0.24 in c:\\users\\lowju\\anaconda3\\envs\\ai-assistant-env\\lib\\site-packages (from Flask<3->mlflow->farm-haystack[ocr]) (2.0.1)\n",
      "Requirement already satisfied: gitdb<5,>=4.0.1 in c:\\users\\lowju\\anaconda3\\envs\\ai-assistant-env\\lib\\site-packages (from gitpython<4,>=2.1.0->mlflow->farm-haystack[ocr]) (4.0.9)\n",
      "Requirement already satisfied: smmap<6,>=3.0.1 in c:\\users\\lowju\\anaconda3\\envs\\ai-assistant-env\\lib\\site-packages (from gitdb<5,>=4.0.1->gitpython<4,>=2.1.0->mlflow->farm-haystack[ocr]) (5.0.0)\n",
      "Requirement already satisfied: zipp>=0.5 in c:\\users\\lowju\\anaconda3\\envs\\ai-assistant-env\\lib\\site-packages (from importlib-metadata!=4.7.0,<5,>=3.7.0->mlflow->farm-haystack[ocr]) (3.7.0)\n",
      "Requirement already satisfied: MarkupSafe>=0.23 in c:\\users\\lowju\\anaconda3\\envs\\ai-assistant-env\\lib\\site-packages (from Jinja2>=2.10.1->Flask<3->mlflow->farm-haystack[ocr]) (2.0.1)\n",
      "Requirement already satisfied: python-dateutil>=2.8.1 in c:\\users\\lowju\\anaconda3\\envs\\ai-assistant-env\\lib\\site-packages (from pandas->farm-haystack[ocr]) (2.8.2)\n",
      "Requirement already satisfied: prometheus-client in c:\\users\\lowju\\anaconda3\\envs\\ai-assistant-env\\lib\\site-packages (from prometheus-flask-exporter<1->mlflow->farm-haystack[ocr]) (0.13.1)\n",
      "Requirement already satisfied: greenlet!=0.4.17 in c:\\users\\lowju\\anaconda3\\envs\\ai-assistant-env\\lib\\site-packages (from sqlalchemy<2,>=1.4.0->mlflow->farm-haystack[ocr]) (1.1.1)\n",
      "Requirement already satisfied: monotonic>=1.5 in c:\\users\\lowju\\anaconda3\\envs\\ai-assistant-env\\lib\\site-packages (from posthog->farm-haystack[ocr]) (1.6)\n",
      "Requirement already satisfied: backoff<2.0.0,>=1.10.0 in c:\\users\\lowju\\anaconda3\\envs\\ai-assistant-env\\lib\\site-packages (from posthog->farm-haystack[ocr]) (1.11.1)\n",
      "Requirement already satisfied: lxml>=2.3.2 in c:\\users\\lowju\\anaconda3\\envs\\ai-assistant-env\\lib\\site-packages (from python-docx->farm-haystack[ocr]) (4.8.0)\n",
      "Requirement already satisfied: inflect in c:\\users\\lowju\\anaconda3\\envs\\ai-assistant-env\\lib\\site-packages (from quantulum3->farm-haystack[ocr]) (6.0.0)\n",
      "Requirement already satisfied: num2words in c:\\users\\lowju\\anaconda3\\envs\\ai-assistant-env\\lib\\site-packages (from quantulum3->farm-haystack[ocr]) (0.5.12)\n",
      "Requirement already satisfied: docopt>=0.6.2 in c:\\users\\lowju\\anaconda3\\envs\\ai-assistant-env\\lib\\site-packages (from num2words->quantulum3->farm-haystack[ocr]) (0.6.2)\n",
      "Requirement already satisfied: setuptools in c:\\users\\lowju\\anaconda3\\envs\\ai-assistant-env\\lib\\site-packages (from tika->farm-haystack[ocr]) (61.2.0)\n",
      "Installing collected packages: pytesseract, pdf2image\n",
      "Successfully installed pdf2image-1.16.0 pytesseract-0.3.10\n"
     ]
    }
   ],
   "source": [
    "#import sys\n",
    "\n",
    "#!{sys.executable} -m pip install farm-haystack -f https://download.pytorch.org/whl/torch_stable.html\n",
    "#!{sys.executable} -m pip install farm-haystack[ocr]"
   ]
  },
  {
   "cell_type": "code",
   "execution_count": 1,
   "id": "533d2f33",
   "metadata": {},
   "outputs": [],
   "source": [
    "import logging\n",
    "\n",
    "logging.basicConfig(format=\"%(levelname)s - %(name)s -  %(message)s\", level=logging.WARNING)\n",
    "logging.getLogger(\"haystack\").setLevel(logging.INFO)"
   ]
  },
  {
   "cell_type": "markdown",
   "id": "1e050585",
   "metadata": {},
   "source": [
    "### Test using InMemoryDocumentStore"
   ]
  },
  {
   "cell_type": "code",
   "execution_count": 2,
   "id": "dff8288b",
   "metadata": {},
   "outputs": [
    {
     "name": "stderr",
     "output_type": "stream",
     "text": [
      "INFO - haystack.modeling.utils -  Using devices: CUDA:0 - Number of GPUs: 1\n"
     ]
    }
   ],
   "source": [
    "from haystack.document_stores import InMemoryDocumentStore\n",
    "\n",
    "document_store = InMemoryDocumentStore()"
   ]
  },
  {
   "cell_type": "code",
   "execution_count": 3,
   "id": "3b53e292",
   "metadata": {},
   "outputs": [
    {
     "name": "stderr",
     "output_type": "stream",
     "text": [
      "INFO - haystack.utils.preprocessing -  Converting Datasets\\Watchman\\1-s2.0-S0002870317300881-main.pdf\n",
      "INFO - haystack.utils.preprocessing -  Converting Datasets\\Watchman\\Alternative to Warfarin – WATCHMAN Implant.pdf\n",
      "INFO - haystack.utils.preprocessing -  Converting Datasets\\Watchman\\How The WATCHMAN Device Works.pdf\n",
      "INFO - haystack.utils.preprocessing -  Converting Datasets\\Watchman\\WATCHMAN Implant for Non-Valvular Afib Stroke Risk.pdf\n",
      "INFO - haystack.utils.preprocessing -  Converting Datasets\\Watchman\\WATCHMAN Procedure vs. Blood Thinners.pdf\n",
      "INFO - haystack.utils.preprocessing -  Converting Datasets\\Watchman\\WATCHMAN_DTP_Brochure.pdf\n"
     ]
    },
    {
     "data": {
      "application/vnd.jupyter.widget-view+json": {
       "model_id": "8c1613c3385d4936b64c40839bc50eb6",
       "version_major": 2,
       "version_minor": 0
      },
      "text/plain": [
       "Preprocessing:   0%|          | 0/6 [00:00<?, ?docs/s]"
      ]
     },
     "metadata": {},
     "output_type": "display_data"
    },
    {
     "name": "stdout",
     "output_type": "stream",
     "text": [
      "n_files_input: 6\n",
      "n_docs_output: 93\n",
      "[<Document: {'content': 'The Assessment of the Watchman Device in Patients Unsuitable for Oral Anticoagulation (ASAP-TOO) trial David R. Holmes, MD, a Vivek Y. Reddy, MD, b Maurice Buchbinder, MD, c Kenneth Stein, MD, d Myriah Elletson d Martin W. Bergmann, MD, e Boris Schmidt, MD, f and Jacqueline Saw, MD, FRCPC g Rochester, Minneapolis, MN; New York, NY; Stanford, CA; Hamburg, Frankfurt, Germany; and British Columbia, Canada Background Oral anticoagulants (OACs) reduce stroke risks with nonvalvular atrial fibrillation (AF); however, they are underused because of absolute or relative contraindications due to real or perceived risk of bleeding. Although left atrial appendage closure is increasingly performed in OAC-ineligible patients, this has not been studied in a randomized controlled trial. Study objectives The ASAP-TOO study is designed to establish the safety and effectiveness of the Watchman left atrial appendage closure device in patients with nonvalvular AF who are deemed ineligible for OAC. The primary effectiveness end point is the time to first occurrence of ischemic stroke or systemic embolism. The primary safety end point includes all-cause death, ischemic stroke, systemic embolism, or device- or procedural-related event requiring open cardiac surgery or major endovascular intervention. Study design This is a multinational, multicenter prospective randomized trial.', 'content_type': 'text', 'score': None, 'meta': {'name': '1-s2.0-S0002870317300881-main.pdf', '_split_id': 0}, 'embedding': None, 'id': '59ad37fd36a378797ad7321a4f351e7'}>, <Document: {'content': 'The primary safety end point includes all-cause death, ischemic stroke, systemic embolism, or device- or procedural-related event requiring open cardiac surgery or major endovascular intervention. Study design This is a multinational, multicenter prospective randomized trial. Patients meeting the inclusion criteria with CHA2DS2-VASc score ≥ 2 and who are deemed by 2 study physicians to be unsuitable for OAC will be randomized in a 2:1 allocation ratio to Watchman versus control. Control patients will be prescribed single antiplatelet therapy or no therapy at the discretion of the study physician. Up to 888 randomized subjects will be enrolled from up to 100 global investigational sites. Both device group and control patients will have follow-up visits at 3, 6, and 12 months and then every 6 months through 60 months. Summary This trial will assess the safety and efficacy of Watchman in this challenging population of high–stroke risk AF patients. (Am Heart J 2017;189:68-74.) Atrial fibrillation (AF) is the most common sustained cardiac arrhythmia both in the United States and worldwide. As populations age with increasing morbid- ity, the incidence increases.1 The relationship between increasing age, AF, and stroke is well documented.', 'content_type': 'text', 'score': None, 'meta': {'name': '1-s2.0-S0002870317300881-main.pdf', '_split_id': 1}, 'embedding': None, 'id': '5e80623acdcf8adf3a171ef1c8b07e80'}>, <Document: {'content': 'Atrial fibrillation (AF) is the most common sustained cardiac arrhythmia both in the United States and worldwide. As populations age with increasing morbid- ity, the incidence increases.1 The relationship between increasing age, AF, and stroke is well documented. AF is associated with a 5-fold increase in stroke rates, and these cardioembolic events are typically associated with marked increases in both mortality and morbidity.2-4 The pathophysiology of stroke in the setting of non- valvular AF has been well studied in pathologic and echocardiographic studies and has been confirmed in the randomized controlled Watchman Left Atrial Appendage System for Embolic Protection in Patients with Atrial Fibrillation (PROTECT-AF) study with left atrial append- age closure (LAAC), which documented equivalent reduction in stroke with Watchman LAAC compared with warfarin. The field continues to evolve based primarily on the introduction and increasing application of non–vitamin K oral anticoagulants (NOACs) and the subsequent approval of LAAC with the Watchman device. The former has been documented in multiple random- ized trials to be superior to conventional warfarin therapy for reduction of hemorrhagic stroke, with attenuated reduction in all-cause stroke as well as a reduction in ischemic stroke.', 'content_type': 'text', 'score': None, 'meta': {'name': '1-s2.0-S0002870317300881-main.pdf', '_split_id': 2}, 'embedding': None, 'id': 'de05bf865a6b1af932096059b93f08dc'}>]\n"
     ]
    }
   ],
   "source": [
    "from haystack.utils import clean_wiki_text, convert_files_to_docs, fetch_archive_from_http\n",
    "from haystack.nodes import PreProcessor\n",
    "\n",
    "\n",
    "# Let's first get some documents that we want to query\n",
    "# Here: 517 Wikipedia articles for Game of Thrones\n",
    "doc_dir = \"Datasets/Watchman\"\n",
    "\n",
    "#s3_url = \"https://s3.eu-central-1.amazonaws.com/deepset.ai-farm-qa/datasets/documents/wiki_gameofthrones_txt3.zip\"\n",
    "#fetch_archive_from_http(url=s3_url, output_dir=doc_dir)\n",
    "\n",
    "# convert files to dicts containing documents that can be indexed to our datastore\n",
    "# You can optionally supply a cleaning function that is applied to each doc (e.g. to remove footers)\n",
    "# It must take a str as input, and return a str.\n",
    "all_docs = convert_files_to_docs(dir_path=doc_dir, clean_func = lambda x:x.replace(\"\\n\",\" \"), split_paragraphs=True)\n",
    "\n",
    "preprocessor = PreProcessor(\n",
    "    clean_empty_lines=True,\n",
    "    clean_whitespace=True,\n",
    "    clean_header_footer=False,\n",
    "    split_by=\"word\",\n",
    "    split_length=200,\n",
    "    split_overlap=30,\n",
    "    split_respect_sentence_boundary=True,\n",
    ")\n",
    "docs = preprocessor.process(all_docs)\n",
    "\n",
    "print(f\"n_files_input: {len(all_docs)}\\nn_docs_output: {len(docs)}\")\n",
    "\n",
    "# We now have a list of dictionaries that we can write to our document store.\n",
    "# If your texts come from a different source (e.g. a DB), you can of course skip convert_files_to_dicts() and create the dictionaries yourself.\n",
    "# The default format here is: {\"name\": \"<some-document-name>\", \"content\": \"<the-actual-text>\"}\n",
    "\n",
    "# Let's have a look at the first 3 entries:\n",
    "print(docs[:3])\n",
    "\n",
    "# Now, let's write the docs to our DB.\n",
    "document_store.write_documents(docs)"
   ]
  },
  {
   "cell_type": "markdown",
   "id": "1c353859",
   "metadata": {},
   "source": [
    "Testing with InMemoryDocumentStore used TfidfRetriever, when use Elasticsearch can use BM25Retriever"
   ]
  },
  {
   "cell_type": "code",
   "execution_count": 4,
   "id": "994e7099",
   "metadata": {},
   "outputs": [
    {
     "name": "stderr",
     "output_type": "stream",
     "text": [
      "INFO - haystack.nodes.retriever.sparse -  Found 93 candidate paragraphs from 93 docs in DB\n"
     ]
    }
   ],
   "source": [
    "from haystack.nodes import TfidfRetriever\n",
    "\n",
    "retriever = TfidfRetriever(document_store=document_store)"
   ]
  },
  {
   "cell_type": "code",
   "execution_count": 5,
   "id": "9c986beb",
   "metadata": {},
   "outputs": [
    {
     "name": "stderr",
     "output_type": "stream",
     "text": [
      "INFO - haystack.modeling.utils -  Using devices: CUDA:0 - Number of GPUs: 1\n",
      "INFO - haystack.modeling.utils -  Using devices: CUDA:0 - Number of GPUs: 1\n",
      "INFO - haystack.modeling.model.language_model -   * LOADING MODEL: 'deepset/roberta-base-squad2' (Roberta)\n",
      "INFO - haystack.modeling.model.language_model -  Auto-detected model language: english\n",
      "INFO - haystack.modeling.model.language_model -  Loaded 'deepset/roberta-base-squad2' (Roberta model) from model hub.\n",
      "INFO - haystack.modeling.utils -  Using devices: CUDA:0 - Number of GPUs: 1\n",
      "INFO - haystack.modeling.infer -  Got ya 11 parallel workers to do inference ...\n",
      "INFO - haystack.modeling.infer -   0     0     0     0     0     0     0     0     0     0     0  \n",
      "INFO - haystack.modeling.infer -  /w\\   /w\\   /w\\   /w\\   /w\\   /w\\   /w\\   /|\\   /w\\   /w\\   /w\\ \n",
      "INFO - haystack.modeling.infer -  /'\\   / \\   /'\\   /'\\   / \\   / \\   /'\\   /'\\   /'\\   /'\\   /'\\ \n"
     ]
    }
   ],
   "source": [
    "from haystack.nodes import FARMReader\n",
    "\n",
    "\n",
    "# Load a  local model or any of the QA models on\n",
    "# Hugging Face's model hub (https://huggingface.co/models)\n",
    "reader = FARMReader(model_name_or_path=\"deepset/roberta-base-squad2\", use_gpu=True)"
   ]
  },
  {
   "cell_type": "code",
   "execution_count": 6,
   "id": "bd8b368b",
   "metadata": {},
   "outputs": [],
   "source": [
    "from haystack.pipelines import ExtractiveQAPipeline\n",
    "\n",
    "pipe = ExtractiveQAPipeline(reader, retriever)"
   ]
  },
  {
   "cell_type": "code",
   "execution_count": null,
   "id": "3d54ffe0",
   "metadata": {},
   "outputs": [],
   "source": [
    "# You can configure how many candidates the reader and retriever shall return\n",
    "# The higher top_k for retriever, the better (but also the slower) your answers.\n",
    "prediction = pipe.run(\n",
    "    query=\"What is the size of the Watchman implant?\", params={\"Retriever\": {\"top_k\": 10}, \"Reader\": {\"top_k\": 5}}\n",
    ")"
   ]
  },
  {
   "cell_type": "code",
   "execution_count": null,
   "id": "3e545944",
   "metadata": {},
   "outputs": [],
   "source": [
    "# Now you can either print the object directly...\n",
    "from pprint import pprint\n",
    "\n",
    "pprint(prediction)"
   ]
  },
  {
   "cell_type": "code",
   "execution_count": null,
   "id": "2416c2f4",
   "metadata": {},
   "outputs": [],
   "source": [
    "# ...or use a util to simplify the output\n",
    "from haystack.utils import print_answers\n",
    "\n",
    "\n",
    "# Change `minimum` to `medium` or `all` to control the level of detail\n",
    "print_answers(prediction, details=\"medium\")"
   ]
  },
  {
   "cell_type": "markdown",
   "id": "a1b5be49",
   "metadata": {},
   "source": [
    "### Test using ElasticSearchDocumentStore and BM25 Retriever"
   ]
  },
  {
   "cell_type": "code",
   "execution_count": 2,
   "id": "7aea0cde",
   "metadata": {},
   "outputs": [
    {
     "name": "stderr",
     "output_type": "stream",
     "text": [
      "WARNING - haystack.utils.doc_store -  Tried to start Elasticsearch through Docker but this failed. It is likely that there is already an existing Elasticsearch instance running. \n"
     ]
    }
   ],
   "source": [
    "# Recommended: Start Elasticsearch using Docker via the Haystack utility function\n",
    "#from haystack.utils import launch_es\n",
    "\n",
    "#launch_es()"
   ]
  },
  {
   "cell_type": "markdown",
   "id": "78ab5732",
   "metadata": {},
   "source": [
    "Used command line to start docker container  \n",
    "docker run -d -p 9200:9200 -p 9300:9300 -e \"discovery.type=single-node\" elasticsearch:7.5.1"
   ]
  },
  {
   "cell_type": "code",
   "execution_count": 2,
   "id": "dfdd3313",
   "metadata": {},
   "outputs": [],
   "source": [
    "import time\n",
    "time.sleep(30)"
   ]
  },
  {
   "cell_type": "code",
   "execution_count": 3,
   "id": "030667f0",
   "metadata": {},
   "outputs": [
    {
     "name": "stderr",
     "output_type": "stream",
     "text": [
      "WARNING - haystack.document_stores.elasticsearch -  DEPRECATION WARNINGS:\n",
      "                1. delete_all_documents() method is deprecated, please use delete_documents method\n",
      "                For more details, please refer to the issue: https://github.com/deepset-ai/haystack/issues/1045\n",
      "                \n"
     ]
    }
   ],
   "source": [
    "import os\n",
    "from haystack.document_stores import ElasticsearchDocumentStore\n",
    "\n",
    "# Get the host where Elasticsearch is running, default to localhost\n",
    "host = os.environ.get(\"ELASTICSEARCH_HOST\", \"localhost\")\n",
    "document_store = ElasticsearchDocumentStore(host=host, username=\"\", password=\"\", index=\"document\")\n",
    "document_store.delete_documents(index=\"document\")"
   ]
  },
  {
   "cell_type": "code",
   "execution_count": 4,
   "id": "195a3a6e",
   "metadata": {},
   "outputs": [
    {
     "name": "stderr",
     "output_type": "stream",
     "text": [
      "INFO - haystack.utils.preprocessing -  Converting Datasets\\Watchman\\1-s2.0-S0002870317300881-main.pdf\n",
      "INFO - haystack.utils.preprocessing -  Converting Datasets\\Watchman\\Alternative to Warfarin – WATCHMAN Implant.pdf\n",
      "INFO - haystack.utils.preprocessing -  Converting Datasets\\Watchman\\How The WATCHMAN Device Works.pdf\n",
      "INFO - haystack.utils.preprocessing -  Converting Datasets\\Watchman\\WATCHMAN Implant for Non-Valvular Afib Stroke Risk.pdf\n",
      "INFO - haystack.utils.preprocessing -  Converting Datasets\\Watchman\\WATCHMAN Procedure vs. Blood Thinners.pdf\n",
      "INFO - haystack.utils.preprocessing -  Converting Datasets\\Watchman\\WATCHMAN_DTP_Brochure.pdf\n"
     ]
    },
    {
     "data": {
      "application/vnd.jupyter.widget-view+json": {
       "model_id": "f4f7ab6b187f43389b0863b638f5fe1a",
       "version_major": 2,
       "version_minor": 0
      },
      "text/plain": [
       "Preprocessing:   0%|          | 0/6 [00:00<?, ?docs/s]"
      ]
     },
     "metadata": {},
     "output_type": "display_data"
    },
    {
     "name": "stdout",
     "output_type": "stream",
     "text": [
      "n_files_input: 6\n",
      "n_docs_output: 93\n",
      "[<Document: {'content': 'The Assessment of the Watchman Device in Patients Unsuitable for Oral Anticoagulation (ASAP-TOO) trial David R. Holmes, MD, a Vivek Y. Reddy, MD, b Maurice Buchbinder, MD, c Kenneth Stein, MD, d Myriah Elletson d Martin W. Bergmann, MD, e Boris Schmidt, MD, f and Jacqueline Saw, MD, FRCPC g Rochester, Minneapolis, MN; New York, NY; Stanford, CA; Hamburg, Frankfurt, Germany; and British Columbia, Canada Background Oral anticoagulants (OACs) reduce stroke risks with nonvalvular atrial fibrillation (AF); however, they are underused because of absolute or relative contraindications due to real or perceived risk of bleeding. Although left atrial appendage closure is increasingly performed in OAC-ineligible patients, this has not been studied in a randomized controlled trial. Study objectives The ASAP-TOO study is designed to establish the safety and effectiveness of the Watchman left atrial appendage closure device in patients with nonvalvular AF who are deemed ineligible for OAC. The primary effectiveness end point is the time to first occurrence of ischemic stroke or systemic embolism. The primary safety end point includes all-cause death, ischemic stroke, systemic embolism, or device- or procedural-related event requiring open cardiac surgery or major endovascular intervention. Study design This is a multinational, multicenter prospective randomized trial.', 'content_type': 'text', 'score': None, 'meta': {'name': '1-s2.0-S0002870317300881-main.pdf', 'device': 'Watchman', '_split_id': 0}, 'embedding': None, 'id': '59ad37fd36a378797ad7321a4f351e7'}>, <Document: {'content': 'The primary safety end point includes all-cause death, ischemic stroke, systemic embolism, or device- or procedural-related event requiring open cardiac surgery or major endovascular intervention. Study design This is a multinational, multicenter prospective randomized trial. Patients meeting the inclusion criteria with CHA2DS2-VASc score ≥ 2 and who are deemed by 2 study physicians to be unsuitable for OAC will be randomized in a 2:1 allocation ratio to Watchman versus control. Control patients will be prescribed single antiplatelet therapy or no therapy at the discretion of the study physician. Up to 888 randomized subjects will be enrolled from up to 100 global investigational sites. Both device group and control patients will have follow-up visits at 3, 6, and 12 months and then every 6 months through 60 months. Summary This trial will assess the safety and efficacy of Watchman in this challenging population of high–stroke risk AF patients. (Am Heart J 2017;189:68-74.) Atrial fibrillation (AF) is the most common sustained cardiac arrhythmia both in the United States and worldwide. As populations age with increasing morbid- ity, the incidence increases.1 The relationship between increasing age, AF, and stroke is well documented.', 'content_type': 'text', 'score': None, 'meta': {'name': '1-s2.0-S0002870317300881-main.pdf', 'device': 'Watchman', '_split_id': 1}, 'embedding': None, 'id': '5e80623acdcf8adf3a171ef1c8b07e80'}>, <Document: {'content': 'Atrial fibrillation (AF) is the most common sustained cardiac arrhythmia both in the United States and worldwide. As populations age with increasing morbid- ity, the incidence increases.1 The relationship between increasing age, AF, and stroke is well documented. AF is associated with a 5-fold increase in stroke rates, and these cardioembolic events are typically associated with marked increases in both mortality and morbidity.2-4 The pathophysiology of stroke in the setting of non- valvular AF has been well studied in pathologic and echocardiographic studies and has been confirmed in the randomized controlled Watchman Left Atrial Appendage System for Embolic Protection in Patients with Atrial Fibrillation (PROTECT-AF) study with left atrial append- age closure (LAAC), which documented equivalent reduction in stroke with Watchman LAAC compared with warfarin. The field continues to evolve based primarily on the introduction and increasing application of non–vitamin K oral anticoagulants (NOACs) and the subsequent approval of LAAC with the Watchman device. The former has been documented in multiple random- ized trials to be superior to conventional warfarin therapy for reduction of hemorrhagic stroke, with attenuated reduction in all-cause stroke as well as a reduction in ischemic stroke.', 'content_type': 'text', 'score': None, 'meta': {'name': '1-s2.0-S0002870317300881-main.pdf', 'device': 'Watchman', '_split_id': 2}, 'embedding': None, 'id': 'de05bf865a6b1af932096059b93f08dc'}>]\n"
     ]
    }
   ],
   "source": [
    "from haystack.utils import clean_wiki_text, convert_files_to_docs, fetch_archive_from_http\n",
    "from haystack.nodes import PreProcessor\n",
    "\n",
    "\n",
    "# Let's first get some documents that we want to query\n",
    "# Here: 517 Wikipedia articles for Game of Thrones\n",
    "doc_dir = \"Datasets/Watchman\"\n",
    "\n",
    "#s3_url = \"https://s3.eu-central-1.amazonaws.com/deepset.ai-farm-qa/datasets/documents/wiki_gameofthrones_txt3.zip\"\n",
    "#fetch_archive_from_http(url=s3_url, output_dir=doc_dir)\n",
    "\n",
    "# convert files to dicts containing documents that can be indexed to our datastore\n",
    "# You can optionally supply a cleaning function that is applied to each doc (e.g. to remove footers)\n",
    "# It must take a str as input, and return a str.\n",
    "all_docs = convert_files_to_docs(dir_path=doc_dir, clean_func = lambda x:x.replace(\"\\n\",\" \"), split_paragraphs=True)\n",
    "\n",
    "for doc in all_docs:\n",
    "    doc.meta['device'] = \"Watchman\"\n",
    "\n",
    "preprocessor = PreProcessor(\n",
    "    clean_empty_lines=True,\n",
    "    clean_whitespace=True,\n",
    "    clean_header_footer=False,\n",
    "    split_by=\"word\",\n",
    "    split_length=200,\n",
    "    split_overlap=30,\n",
    "    split_respect_sentence_boundary=True,\n",
    ")\n",
    "docs = preprocessor.process(all_docs)\n",
    "\n",
    "print(f\"n_files_input: {len(all_docs)}\\nn_docs_output: {len(docs)}\")\n",
    "\n",
    "# We now have a list of dictionaries that we can write to our document store.\n",
    "# If your texts come from a different source (e.g. a DB), you can of course skip convert_files_to_dicts() and create the dictionaries yourself.\n",
    "# The default format here is: {\"name\": \"<some-document-name>\", \"content\": \"<the-actual-text>\"}\n",
    "\n",
    "# Let's have a look at the first 3 entries:\n",
    "print(docs[:3])\n",
    "\n",
    "# Now, let's write the docs to our DB.\n",
    "document_store.write_documents(docs)"
   ]
  },
  {
   "cell_type": "markdown",
   "id": "aa160419",
   "metadata": {},
   "source": [
    "Testing with InMemoryDocumentStore used TfidfRetriever, when use Elasticsearch can use BM25Retriever"
   ]
  },
  {
   "cell_type": "code",
   "execution_count": 5,
   "id": "4355468c",
   "metadata": {},
   "outputs": [],
   "source": [
    "from haystack.nodes import BM25Retriever\n",
    "\n",
    "retriever = BM25Retriever(document_store=document_store)"
   ]
  },
  {
   "cell_type": "code",
   "execution_count": 6,
   "id": "cb8f3b51",
   "metadata": {},
   "outputs": [
    {
     "name": "stderr",
     "output_type": "stream",
     "text": [
      "INFO - haystack.modeling.utils -  Using devices: CUDA:0 - Number of GPUs: 1\n",
      "INFO - haystack.modeling.utils -  Using devices: CUDA:0 - Number of GPUs: 1\n",
      "INFO - haystack.modeling.model.language_model -   * LOADING MODEL: 'deepset/roberta-base-squad2' (Roberta)\n",
      "INFO - haystack.modeling.model.language_model -  Auto-detected model language: english\n",
      "INFO - haystack.modeling.model.language_model -  Loaded 'deepset/roberta-base-squad2' (Roberta model) from model hub.\n",
      "INFO - haystack.modeling.utils -  Using devices: CUDA:0 - Number of GPUs: 1\n",
      "INFO - haystack.modeling.infer -  Got ya 11 parallel workers to do inference ...\n",
      "INFO - haystack.modeling.infer -   0     0     0     0     0     0     0     0     0     0     0  \n",
      "INFO - haystack.modeling.infer -  /w\\   /w\\   /w\\   /w\\   /w\\   /w\\   /w\\   /|\\   /w\\   /w\\   /w\\ \n",
      "INFO - haystack.modeling.infer -  /'\\   / \\   /'\\   /'\\   / \\   / \\   /'\\   /'\\   /'\\   /'\\   /'\\ \n"
     ]
    }
   ],
   "source": [
    "from haystack.nodes import FARMReader\n",
    "\n",
    "\n",
    "# Load a  local model or any of the QA models on\n",
    "# Hugging Face's model hub (https://huggingface.co/models)\n",
    "reader = FARMReader(model_name_or_path=\"deepset/roberta-base-squad2\", use_gpu=True)"
   ]
  },
  {
   "cell_type": "code",
   "execution_count": 7,
   "id": "6ec97489",
   "metadata": {},
   "outputs": [],
   "source": [
    "from haystack.pipelines import ExtractiveQAPipeline\n",
    "\n",
    "pipe = ExtractiveQAPipeline(reader, retriever)"
   ]
  },
  {
   "cell_type": "code",
   "execution_count": 8,
   "id": "39353e02",
   "metadata": {},
   "outputs": [
    {
     "name": "stderr",
     "output_type": "stream",
     "text": [
      "Inferencing Samples: 100%|██████████| 1/1 [00:30<00:00, 30.55s/ Batches]\n",
      "Inferencing Samples: 100%|██████████| 1/1 [00:00<00:00,  4.93 Batches/s]\n",
      "Inferencing Samples: 100%|██████████| 1/1 [00:00<00:00,  7.25 Batches/s]\n",
      "Inferencing Samples: 100%|██████████| 1/1 [00:00<00:00,  4.90 Batches/s]\n",
      "Inferencing Samples: 100%|██████████| 1/1 [00:00<00:00,  4.88 Batches/s]\n",
      "Inferencing Samples: 100%|██████████| 1/1 [00:00<00:00,  4.87 Batches/s]\n",
      "Inferencing Samples: 100%|██████████| 1/1 [00:00<00:00,  8.09 Batches/s]\n",
      "Inferencing Samples: 100%|██████████| 1/1 [00:00<00:00,  4.93 Batches/s]\n",
      "Inferencing Samples: 100%|██████████| 1/1 [00:00<00:00,  4.93 Batches/s]\n",
      "Inferencing Samples: 100%|██████████| 1/1 [00:00<00:00,  4.93 Batches/s]\n",
      "Inferencing Samples: 100%|██████████| 1/1 [00:00<00:00,  6.54 Batches/s]\n",
      "Inferencing Samples: 100%|██████████| 1/1 [00:00<00:00,  4.85 Batches/s]\n",
      "Inferencing Samples: 100%|██████████| 1/1 [00:00<00:00,  7.14 Batches/s]\n",
      "Inferencing Samples: 100%|██████████| 1/1 [00:00<00:00,  8.13 Batches/s]\n",
      "Inferencing Samples: 100%|██████████| 1/1 [00:00<00:00,  5.40 Batches/s]\n"
     ]
    }
   ],
   "source": [
    "# You can configure how many candidates the reader and retriever shall return\n",
    "# The higher top_k for retriever, the better (but also the slower) your answers.\n",
    "prediction = pipe.run(\n",
    "    query=\"What are the risks of having a Watchman implant procedure?\",\n",
    "    params={\"Retriever\": {\"top_k\": 15}, \"Reader\": {\"top_k\": 5}, \"filters\":{\"device\":[\"Watchman\"]}}\n",
    ")"
   ]
  },
  {
   "cell_type": "code",
   "execution_count": 9,
   "id": "25bdcbee",
   "metadata": {},
   "outputs": [
    {
     "name": "stdout",
     "output_type": "stream",
     "text": [
      "{'answers': [<Answer {'answer': 'stroke risk and bleeding worry', 'type': 'extractive', 'score': 0.7876741886138916, 'context': 'dure is a trusted alternative that permanently reduces both stroke risk and bleeding worry. With almost 20 years of clinical and real-world experience', 'offsets_in_document': [{'start': 505, 'end': 535}], 'offsets_in_context': [{'start': 60, 'end': 90}], 'document_id': '9e35ababdb14c8de0420cc0e7d6e3ca', 'meta': {'device': 'Watchman', '_split_id': 0, 'name': 'WATCHMAN_DTP_Brochure.pdf'}}>,\n",
      "             <Answer {'answer': 'accidental heart puncture, air embolism, allergic reaction, anemia, anesthesia risks', 'type': 'extractive', 'score': 0.6158087849617004, 'context': 's include but are not limited to accidental heart puncture, air embolism, allergic reaction, anemia, anesthesia risks, arrhythmias, AV (Arteriovenous)', 'offsets_in_document': [{'start': 546, 'end': 630}], 'offsets_in_context': [{'start': 33, 'end': 117}], 'document_id': '438ddeafa3fc513634e5e251c81f204f', 'meta': {'device': 'Watchman', '_split_id': 7, 'name': 'WATCHMAN Procedure vs. Blood Thinners.pdf'}}>,\n",
      "             <Answer {'answer': 'patients should not be considered for the WATCHMAN Implant', 'type': 'extractive', 'score': 0.4835315942764282, 'context': 'ue to the risk of having a medical procedure, patients should not be considered for the WATCHMAN Implant if they are doing well and expect to continue', 'offsets_in_document': [{'start': 315, 'end': 373}], 'offsets_in_context': [{'start': 46, 'end': 104}], 'document_id': '39af55dbfe289000f98172b3e0698908', 'meta': {'device': 'Watchman', '_split_id': 3, 'name': 'How The WATCHMAN Device Works.pdf'}}>,\n",
      "             <Answer {'answer': 'stroke risk and bleeding worry', 'type': 'extractive', 'score': 0.3639222979545593, 'context': 'nt is a one‑time, minimally invasive procedure that reduces stroke risk and bleeding worry for life. One Time. For a Lifetime. AND COUNTING LIVES CHAN', 'offsets_in_document': [{'start': 314, 'end': 344}], 'offsets_in_context': [{'start': 60, 'end': 90}], 'document_id': 'bc33ffb447a349c7dbcc19ade1af1db9', 'meta': {'device': 'Watchman', '_split_id': 0, 'name': 'WATCHMAN Implant for Non-Valvular Afib Stroke Risk.pdf'}}>,\n",
      "             <Answer {'answer': 'without blood thinners', 'type': 'extractive', 'score': 0.33463793992996216, 'context': ' right for you \\uf054 ×\\x0cSee this story about what life could be like without blood thinners after having the WATCHMAN Implant procedure. ©2022 Boston Scien', 'offsets_in_document': [{'start': 112, 'end': 134}], 'offsets_in_context': [{'start': 64, 'end': 86}], 'document_id': '984a162d5194ff17e6d54f042e7fef15', 'meta': {'device': 'Watchman', '_split_id': 2, 'name': 'WATCHMAN Implant for Non-Valvular Afib Stroke Risk.pdf'}}>],\n",
      " 'documents': [<Document: {'content': 'The WATCHMAN Implant Reduces the Risk of Stroke from Non‑valvular AFib See if the WATCHMAN Implant is right for you \\uf054 × MENU\\x0cSee How The WATCHMAN Implant Works Over 1/3 of people with AFib feel trapped between the fear of having a stroke and fear of the risks associated with blood thinners. In fact, more than 4 in 5 people with AFib taking a blood thinner (83%) say they would be willing to try a different treatment to help reduce their risk of stroke. See What Makes the WATCHMAN Implant Different Beyond Blood Thinners 1 The WATCHMAN Implant effectively reduces the risk of stroke—without the risk of bleeding that can come with the long-term use of blood thinners. See Why People Choose the WATCHMAN Implant For All the Right Reasons 2,3 We have a lot of freedom now to do the things that we love to do together, without all those fears. — LINDA, 76 03:42 See if the WATCHMAN Implant is right for you \\uf054 ×\\x0cSee this story about what life could be like without blood thinners after having the WATCHMAN Implant procedure. ©2022 Boston Scientific Corporation and its affiliates.', 'content_type': 'text', 'score': 0.763542062169098, 'meta': {'device': 'Watchman', '_split_id': 1, 'name': 'WATCHMAN Implant for Non-Valvular Afib Stroke Risk.pdf'}, 'embedding': None, 'id': '8bf8d6f108a4ec2f38b99d522be93570'}>,\n",
      "               <Document: {'content': \"— LINDA, 76 03:42 See if the WATCHMAN Implant is right for you \\uf054 ×\\x0cSee this story about what life could be like without blood thinners after having the WATCHMAN Implant procedure. ©2022 Boston Scientific Corporation and its affiliates. All rights reserved\\u200b WATCHMAN Implant TV Commercial\\u200b Tweet Email Share Answer a few short questions to see if you may be a candidate and get a customized guide to help you start a conversation with your doctor Get Started Could the WATCHMAN Implant be right for you? WATCHMAN Educational Specialists are trained professionals with healthcare experience. They're here to help answer your questions. Call 1-855-893-2606 Monday to Friday, 8AM to 5PM Central Time Have questions about the WATCHMAN Implant? Join our community on Facebook to get updates and connect with others like you who are exploring the WATCHMAN Implant. Join Now Find Us on Facebook References: 1. WatchUsNow.com. The Harris Poll online survey. Boston Scientific. SH-574213-AA. https://www.watchusnow.com/?page=d75be9d4-ba36-456c- a72d-dc3df07892da. Accessed March 28, 2019. 2. Holmes DR Jr, Doshi SK, Kar S, et al. Left atrial appendage closure as an alternative to warfarin for stroke prevention in atrial fibrillation: a patient- level meta-analysis. J Am Coll Cardiol. 2015;65(24):2614-2623. 3.\", 'content_type': 'text', 'score': 0.7113887923703599, 'meta': {'device': 'Watchman', '_split_id': 2, 'name': 'WATCHMAN Implant for Non-Valvular Afib Stroke Risk.pdf'}, 'embedding': None, 'id': '984a162d5194ff17e6d54f042e7fef15'}>,\n",
      "               <Document: {'content': 'This very important card lets medical personnel know that you have the WATCHMAN Implant. Remember to carry it with you at all times and register it in case it gets lost. Go to watchman.com/register. What is a WATCHMAN Implant Card and why do I need it? I didn’t have any problems getting the [WATCHMAN] procedure and I feel so much better since I had it. It makes me feel good that I can get up and go and not worry. —CAMILLE, 89 LIVING LIFE WITH THE WATCHMAN IMPLANT 10 11\\x0cImportant Safety Information The WATCHMAN™ and WATCHMAN FLX Devices are permanent implants designed to close the left atrial appendage in the heart in an effort to reduce the risk of stroke. With all medical procedures there are risks associated with the implant procedure and the use of the device.', 'content_type': 'text', 'score': 0.7016097041022443, 'meta': {'device': 'Watchman', '_split_id': 14, 'name': 'WATCHMAN_DTP_Brochure.pdf'}, 'embedding': None, 'id': 'e9f0ff14146b628656fe6d33cecd71f8'}>,\n",
      "               <Document: {'content': \"Now I'm ready for an alternative Answer a few short questions to see if you may be a candidate Get Started The WATCHMAN Implant may be a life-changing alternative to the lifelong use of blood thinners for those who need one. In a one-time procedure, the WATCHMAN Implant effectively reduces the risk of stroke in people with atrial fibrillation not caused by a heart valve problem. Why the WATCHMAN Implant 1 Over 1/3 of people with AFib feel trapped between the fear of having a stroke and fear of the risks associated with blood thinners. In fact, more than 4 in 5 people with AFib taking a blood thinner (83%) say they would be willing to try a different treatment to help reduce their risk of stroke. As a permanent procedure, the WATCHMAN Implant doesn’t come with the same bleeding risks associated with the long-term use of blood thinners. This makes it an important option for people with a history or risk of serious bleeding on blood thinners. 2 3 If you have atrial fibrillation and you take a blood thinner to reduce your stroke risk, you’re probably aware of the bleeding risks that come with your medication.\", 'content_type': 'text', 'score': 0.7001574112094049, 'meta': {'device': 'Watchman', '_split_id': 0, 'name': 'WATCHMAN Procedure vs. Blood Thinners.pdf'}, 'embedding': None, 'id': 'e83f9a58b40713c367dcd357ca25875f'}>,\n",
      "               <Document: {'content': \"Learn more about who WATCHMAN is for Blood Thinner Medications and AFib Stroke Risk 1 2 Like blood thinners, WATCHMAN can effectively reduce stroke risk. This permanent implant is for people with AFib not caused by a heart valve problem who need an alternative. WATCHMAN or Blood Thinners? 2 Over a 1/3 of people with AFib feel trapped between the fear of having a stroke and fear of the risks associated with blood thinners. In fact, more than 4 in 5 people with AFib taking a blood thinner (83%) say they would be willing to try a different treatment to help reduce their risk of stroke. Beyond Blood Thinners 3 See if the WATCHMAN Implant is right for you \\uf054 × MENU\\x0cSee if it's right for you See What Makes WATCHMAN Different Warfarin is a common blood thinner prescribed to reduce stroke risk in people with atrial fibrillation. It’s been used for decades and is typically less expensive than the newer types of blood thinners—but it comes with certain requirements and restrictions. Regular blood tests: With warfarin, you have to get regular blood tests—from twice a week to once a month, depending on your doctor’s recommendation.\", 'content_type': 'text', 'score': 0.6994790841568137, 'meta': {'device': 'Watchman', '_split_id': 1, 'name': 'Alternative to Warfarin – WATCHMAN Implant.pdf'}, 'embedding': None, 'id': 'dafcad6dcf0853b574e9e24b37dad7a9'}>,\n",
      "               <Document: {'content': \"Your doctor then guides the WATCHMAN Implant into the left atrial appendage (LAA) of your heart. The procedure is done under general anesthesia and takes as little as 30 minutes. Patients commonly stay in the hospital for a day or less. The WATCHMAN Implant Procedure Due to the risk of having a medical procedure, patients should not be considered for the WATCHMAN Implant if they are doing well and expect to continue doing well on blood thinners. See if the WATCHMAN Implant is right for you \\uf054 ×\\x0cAnswer a few short questions to see if you may be a candidate and get a customized guide to help you start a conversation with your doctor Get Started Could the WATCHMAN Implant be right for you? WATCHMAN Educational Specialists are trained professionals with healthcare experience. They're here to help answer your questions. Call 1-855-893-2606 Monday to Friday, 8AM to 5PM Central Time Questions about the WATCHMAN Implant? Following the WATCHMAN Implant procedure, you’ll take blood thinners for 45 days or until your LAA is permanently closed off. During this time, heart tissue will grow over the implant to form a barrier against blood clots.\", 'content_type': 'text', 'score': 0.6903749833457732, 'meta': {'device': 'Watchman', '_split_id': 3, 'name': 'How The WATCHMAN Device Works.pdf'}, 'embedding': None, 'id': '39af55dbfe289000f98172b3e0698908'}>,\n",
      "               <Document: {'content': 'Answer a few questions and get a customized guide Questions to Ask Your Doctor What are the risks and benefits of the different blood thinners? • Does my lifestyle or health history put me at risk for serious bleeding? • Am I a candidate for left atrial appendage closure? • What should I know about the WATCHMAN Implant? • What are the differences in cost between blood thinners and the WATCHMAN Implant? • See if the WATCHMAN Implant is right for you \\uf054 ×\\x0cWATCHMAN is the only FDA-approved implant proven to safely and effectively lower stroke risk in people with AFib not caused by heart valve problems. NEXT: Why Choose WATCHMAN 2 WATCHMAN is for people with atrial fibrillation not caused by a heart valve problem who need an alternative to blood thinners. This website is intended to provide patients and caregivers with some information about the WATCHMAN Implant. It may help prepare you for talking to your doctor about your options for reducing stroke risk. Important Safety Information The WATCHMAN and WATCHMAN FLX Devices are permanent implants designed to close the left atrial appendage in the heart in an effort to reduce the risk of stroke.', 'content_type': 'text', 'score': 0.6900895661471428, 'meta': {'device': 'Watchman', '_split_id': 9, 'name': 'Alternative to Warfarin – WATCHMAN Implant.pdf'}, 'embedding': None, 'id': '331c892df748bd709f621cb521af8250'}>,\n",
      "               <Document: {'content': 'OVER 200,000 PEOPLE HAVE LEFT BLOOD THINNERS BEHIND WITH THE WATCHMAN IMPLANT. Answer a few questions about your AFib to see if the WATCHMAN Implant is right for you. Start Here > AFib doesn’t have to mean a lifetime of blood thinners. The WATCHMAN Implant is a one‑time, minimally invasive procedure that reduces stroke risk and bleeding worry for life. One Time. For a Lifetime. AND COUNTING LIVES CHANGED Tweet Email Share There’s an alternative to blood thinners for people who need one. It’s called the WATCHMAN Implant. The most implanted, FDA-approved device proven to reduce stroke risk in people with atrial fibrillation not caused by a heart valve problem (also referred to as non-valvular AFib). Watch the video to learn more and talk to your cardiologist about the WATCHMAN Implant. The WATCHMAN Implant Reduces the Risk of Stroke from Non‑valvular AFib See if the WATCHMAN Implant is right for you \\uf054 × MENU\\x0cSee How The WATCHMAN Implant Works Over 1/3 of people with AFib feel trapped between the fear of having a stroke and fear of the risks associated with blood thinners.', 'content_type': 'text', 'score': 0.6821965168558336, 'meta': {'device': 'Watchman', '_split_id': 0, 'name': 'WATCHMAN Implant for Non-Valvular Afib Stroke Risk.pdf'}, 'embedding': None, 'id': 'bc33ffb447a349c7dbcc19ade1af1db9'}>,\n",
      "               <Document: {'content': 'With almost 20 years of clinical and real-world experience — including 10 clinical trials — WATCHMAN has a proven safety record. 200,000+ 20 YEARS WHAT THE WATCHMAN IMPLANT IS AND HOW IT WORKS LEFT ATRIAL APPENDAGE (LAA) What is the WATCHMAN Implant? The WATCHMAN Implant is a small, flexible implant about the size of a quarter. It is made from very light, compact materials commonly used in many other medical implants. It is placed into your heart during a minimally invasive procedure and never needs to be replaced. TAKING A CLOSER LOOK AT THE WATCHMAN™ IMPLANT. With WATCHMAN, I can forget about the concern of a stroke. I can forget about the concern of side effects from drugs and just try to live a happy, healthy life. —AJ, 68 6 7\\x0cThe decision to get the WATCHMAN Implant is shared between you and your doctor. You’ll talk about what’s important to you, your goals, and the procedure’s risks and benefits. Together, you’ll decide whether the WATCHMAN Implant is the right choice for you. If so, here is what comes next. BEFORE GETTING READY. Get insurance approval. The WATCHMAN Implant is covered for eligible Medicare patients and does not require advance approval.', 'content_type': 'text', 'score': 0.6817297600505343, 'meta': {'device': 'Watchman', '_split_id': 7, 'name': 'WATCHMAN_DTP_Brochure.pdf'}, 'embedding': None, 'id': '1135d98488e475ff1d491fe71445b1c8'}>,\n",
      "               <Document: {'content': 'STROKE RISK REDUCTION OPTIONS WHAT THE WATCHMAN IMPLANT IS AND HOW IT WORKS BEFORE, DURING AND AFTER YOUR PROCEDURE LIVING LIFE WITH THE WATCHMAN IMPLANT HOW TO GET IN TOUCH WITH US Read on to learn more about the WATCHMAN Implant. When I was on blood thinners, it was always a different life. WATCHMAN was a lifesaver. It put me back to being who I was. —CLIFF, 68 3\\x0cWhile some people may be able stop blood thinners immediately after the procedure, in a clinical trial 96% of people were able to discontinue their blood thinner 45 days after the WATCHMAN Implant.1 THE GOAL:REDUCING YOUR STROKE RISK. BLOOD THINNERS ARE ONE WAY. It’s a one time, minimally-invasive procedure that permanently reduces stroke risk without the worries that come with a lifetime of blood thinners. For some people, that means an extra measure of safety if they have bleeding due to certain medical conditions, such as an ulcer. For others, it means peace of mind should they need surgery. A more active lifestyle is also less risky, including travel that’s not near medical help. What about cost?', 'content_type': 'text', 'score': 0.6717338790524856, 'meta': {'device': 'Watchman', '_split_id': 1, 'name': 'WATCHMAN_DTP_Brochure.pdf'}, 'embedding': None, 'id': 'acf6c4d6a0c807a66eb60c5fb994bd63'}>,\n",
      "               <Document: {'content': 'In a clinical trial: After the Procedure 96% of patients were able to stop taking blood thinners just 45 days after the procedure • 3 The WATCHMAN Implant is the most implanted device of its kind approved by the U.S. Food and Drug Administration (FDA) for reducing the risk of stroke in people with atrial fibrillation not caused by a heart valve problem. More than 200,000 WATCHMAN Implant procedures have been performed worldwide. With almost 20 years of clinical trial and real world experience - including 10 clinical trials - the WATCHMAN Implant has a proven safety record. The WATCHMAN Implant has a low major complication rate of 0.5%, which is a similar rate to a cardiac ablation procedure. As with any medical procedure, there are risks involved with the WATCHMAN Implant. See the Important Safety Information below for a list of possible complications, and ask your cardiologist about the risks and benefits of the WATCHMAN Implant.', 'content_type': 'text', 'score': 0.6625543316838368, 'meta': {'device': 'Watchman', '_split_id': 5, 'name': 'How The WATCHMAN Device Works.pdf'}, 'embedding': None, 'id': 'e241651c9adc81f2f3ef6c106a21e53e'}>,\n",
      "               <Document: {'content': 'The one-time, minimally invasive procedure for people with non-valvular AFib who need an alternative to blood thinners. ONE TIME. FOR A LIFETIME. WELCOME TO WATCHMAN™\\x0cMORE THAN 200,000 PEOPLE HAVE LEFT BLOOD THINNERS BEHIND WITH THE WATCHMAN™ IMPLANT. Non-valvular AFib can mean a lifetime of blood thinners. It can also mean a lifetime of worry about bleeds from falls, other medical issues, or an unexpected surgery. The WATCHMAN Implant procedure is a trusted alternative that permanently reduces both stroke risk and bleeding worry. With almost 20 years of clinical and real-world experience—including 10 clinical trials—it is proven to be safe and effective. Here’s what you’ll find inside this brochure. STROKE RISK REDUCTION OPTIONS WHAT THE WATCHMAN IMPLANT IS AND HOW IT WORKS BEFORE, DURING AND AFTER YOUR PROCEDURE LIVING LIFE WITH THE WATCHMAN IMPLANT HOW TO GET IN TOUCH WITH US Read on to learn more about the WATCHMAN Implant. When I was on blood thinners, it was always a different life. WATCHMAN was a lifesaver. It put me back to being who I was.', 'content_type': 'text', 'score': 0.656762464129583, 'meta': {'device': 'Watchman', '_split_id': 0, 'name': 'WATCHMAN_DTP_Brochure.pdf'}, 'embedding': None, 'id': '9e35ababdb14c8de0420cc0e7d6e3ca'}>,\n",
      "               <Document: {'content': 'As with any medical procedure, there are risks involved with the WATCHMAN Implant. See the Important Safety Information below for a list of possible complications, and ask your cardiologist about the risks and benefits of the WATCHMAN Implant. #1 Doctor Recommended 3* See if the WATCHMAN Implant is right for you \\uf054 ×\\x0cHear From the Doctors Hear from a team of doctors who perform the WATCHMAN Implant and see inside the procedure room Get a quick guide on the WATCHMAN Implant that you can share with your doctor or loved one. Download PDF The WATCHMAN Implant Alternative If you have AFib not caused by a heart valve problem and you need an alternative to blood thinners, the WATCHMAN Implant may be right for you. NEXT: Why Choose WATCHMAN The WATCHMAN Implant is for people with atrial fibrillation not caused by a heart valve problem who need an alternative to blood thinners. This website is intended to provide patients and caregivers with some information about the WATCHMAN Implant. It may help prepare you for talking to your doctor about your options for reducing stroke risk.', 'content_type': 'text', 'score': 0.6540023982898068, 'meta': {'device': 'Watchman', '_split_id': 6, 'name': 'How The WATCHMAN Device Works.pdf'}, 'embedding': None, 'id': '5ee108bc25367c69faa77950646415df'}>,\n",
      "               <Document: {'content': \"Certain lifestyles or conditions may increase your bleeding risk by putting you at higher risk for falls or making you prone to injury in other ways. Talk to your cardiologist about your risk. For Linda, the fear and anxiety of blood thinners was keeping her from enjoying her retirement with her husband, Skip. Now that she has the WATCHMAN Implant, she feels free to travel and make the most of her retirement community. (Video length: 2:28) Tweet Email “After the WATCHMAN, the difference in Linda is night and day.” Share Fred struggled with bleeding issues from blood thinners. Hear how the WATCHMAN Implant helped him take back control of his health. (Video length: 3:07) Tweet Email “It's like having a big weight lifted off your shoulders.” Share What’s the procedure like? Can you have the WATCHMAN Implant if you also have a stent? How is life different after the WATCHMAN Implant? Seven people who left blood thinners behind answer questions like these.\", 'content_type': 'text', 'score': 0.6528957099672669, 'meta': {'device': 'Watchman', '_split_id': 2, 'name': 'WATCHMAN Procedure vs. Blood Thinners.pdf'}, 'embedding': None, 'id': '277a1c94b8ca8195c2ffa85ba5e4b22e'}>,\n",
      "               <Document: {'content': 'This website is intended to provide patients and caregivers with some information about the WATCHMAN Implant. It may help prepare you for talking to your doctor about your options for reducing stroke risk. Important Safety Information The WATCHMAN and WATCHMAN FLX Devices are permanent implants designed to close the left atrial appendage in the heart in an effort to reduce the risk of stroke. With all medical procedures there are risks associated with the implant procedure and the use of the device. The risks include but are not limited to accidental heart puncture, air embolism, allergic reaction, anemia, anesthesia risks, arrhythmias, AV (Arteriovenous) fistula, bleeding or throat pain from the TEE (Trans Esophageal Echo) probe, blood clot or air bubbles in the lungs or other organs, bruising at the catheter insertion site, clot formation on the See if the WATCHMAN Implant is right for you \\uf054 ×\\x0cdevice, cranial bleed, excessive bleeding, gastrointestinal bleeding, groin puncture bleed, hypotension, infection/pneumonia, pneumothorax, pulmonary edema, pulmonary vein obstruction, renal failure, stroke, thrombosis and transient ischemic attack. In rare cases death can occur.', 'content_type': 'text', 'score': 0.6510583208569197, 'meta': {'device': 'Watchman', '_split_id': 7, 'name': 'WATCHMAN Procedure vs. Blood Thinners.pdf'}, 'embedding': None, 'id': '438ddeafa3fc513634e5e251c81f204f'}>],\n",
      " 'no_ans_gap': 5.521426200866699,\n",
      " 'node_id': 'Reader',\n",
      " 'params': {'Reader': {'top_k': 5},\n",
      "            'Retriever': {'top_k': 15},\n",
      "            'filters': {'device': ['Watchman']}},\n",
      " 'query': 'What are the risks of having a Watchman implant procedure?',\n",
      " 'root_node': 'Query'}\n"
     ]
    }
   ],
   "source": [
    "# Now you can either print the object directly...\n",
    "from pprint import pprint\n",
    "\n",
    "pprint(prediction)"
   ]
  },
  {
   "cell_type": "code",
   "execution_count": 10,
   "id": "4a2cbf4a",
   "metadata": {},
   "outputs": [
    {
     "name": "stdout",
     "output_type": "stream",
     "text": [
      "\n",
      "Query: What are the risks of having a Watchman implant procedure?\n",
      "Answers:\n",
      "[   {   'answer': 'stroke risk and bleeding worry',\n",
      "        'context': 'dure is a trusted alternative that permanently reduces '\n",
      "                   'both stroke risk and bleeding worry. With almost 20 years '\n",
      "                   'of clinical and real-world experience',\n",
      "        'score': 0.7876741886138916},\n",
      "    {   'answer': 'accidental heart puncture, air embolism, allergic reaction, '\n",
      "                  'anemia, anesthesia risks',\n",
      "        'context': 's include but are not limited to accidental heart '\n",
      "                   'puncture, air embolism, allergic reaction, anemia, '\n",
      "                   'anesthesia risks, arrhythmias, AV (Arteriovenous)',\n",
      "        'score': 0.6158087849617004},\n",
      "    {   'answer': 'patients should not be considered for the WATCHMAN Implant',\n",
      "        'context': 'ue to the risk of having a medical procedure, patients '\n",
      "                   'should not be considered for the WATCHMAN Implant if they '\n",
      "                   'are doing well and expect to continue',\n",
      "        'score': 0.4835315942764282},\n",
      "    {   'answer': 'stroke risk and bleeding worry',\n",
      "        'context': 'nt is a one‑time, minimally invasive procedure that '\n",
      "                   'reduces stroke risk and bleeding worry for life. One Time. '\n",
      "                   'For a Lifetime. AND COUNTING LIVES CHAN',\n",
      "        'score': 0.3639222979545593},\n",
      "    {   'answer': 'without blood thinners',\n",
      "        'context': ' right for you \\uf054 ×\\x0c'\n",
      "                   'See this story about what life could be like without blood '\n",
      "                   'thinners after having the WATCHMAN Implant procedure. '\n",
      "                   '©2022 Boston Scien',\n",
      "        'score': 0.33463793992996216}]\n"
     ]
    }
   ],
   "source": [
    "# ...or use a util to simplify the output\n",
    "from haystack.utils import print_answers\n",
    "\n",
    "\n",
    "# Change `minimum` to `medium` or `all` to control the level of detail\n",
    "print_answers(prediction, details=\"medium\")"
   ]
  },
  {
   "cell_type": "code",
   "execution_count": null,
   "id": "32efc60f",
   "metadata": {},
   "outputs": [],
   "source": []
  }
 ],
 "metadata": {
  "kernelspec": {
   "display_name": "Python 3 (ipykernel)",
   "language": "python",
   "name": "python3"
  },
  "language_info": {
   "codemirror_mode": {
    "name": "ipython",
    "version": 3
   },
   "file_extension": ".py",
   "mimetype": "text/x-python",
   "name": "python",
   "nbconvert_exporter": "python",
   "pygments_lexer": "ipython3",
   "version": "3.9.12"
  }
 },
 "nbformat": 4,
 "nbformat_minor": 5
}
